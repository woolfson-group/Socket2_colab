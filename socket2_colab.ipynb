{
  "cells": [
    {
      "cell_type": "code",
      "execution_count": 1,
      "metadata": {
        "colab": {
          "base_uri": "https://localhost:8080/",
          "height": 1000,
          "referenced_widgets": [
            "f8dd6b1c6d7a44e091ba533715c06112",
            "49c7b3247b4549069eff21fc950db6a8"
          ]
        },
        "id": "GzCEzoSARXX5",
        "outputId": "4e61cf3f-0d77-4c44-d980-2ef3a2edb12d",
        "cellView": "form"
      },
      "outputs": [
        {
          "output_type": "stream",
          "name": "stdout",
          "text": [
            "\u001b[?25l     \u001b[90m━━━━━━━━━━━━━━━━━━━━━━━━━━━━━━━━━━━━━━━━\u001b[0m \u001b[32m0.0/6.8 MB\u001b[0m \u001b[31m?\u001b[0m eta \u001b[36m-:--:--\u001b[0m\r\u001b[2K     \u001b[90m━━━━━━━━━━━━━━━━━━━━━━━━━━━━━━━━━━━━━━━━\u001b[0m \u001b[32m0.1/6.8 MB\u001b[0m \u001b[31m2.4 MB/s\u001b[0m eta \u001b[36m0:00:03\u001b[0m\r\u001b[2K     \u001b[91m━━━\u001b[0m\u001b[91m╸\u001b[0m\u001b[90m━━━━━━━━━━━━━━━━━━━━━━━━━━━━━━━━━━━━\u001b[0m \u001b[32m0.7/6.8 MB\u001b[0m \u001b[31m10.2 MB/s\u001b[0m eta \u001b[36m0:00:01\u001b[0m\r\u001b[2K     \u001b[91m━━━━━━━━━━━━━━━━━━━━━\u001b[0m\u001b[90m╺\u001b[0m\u001b[90m━━━━━━━━━━━━━━━━━━\u001b[0m \u001b[32m3.6/6.8 MB\u001b[0m \u001b[31m34.9 MB/s\u001b[0m eta \u001b[36m0:00:01\u001b[0m\r\u001b[2K     \u001b[91m━━━━━━━━━━━━━━━━━━━━━━━━━━━━━━━━━━━━━━━\u001b[0m\u001b[91m╸\u001b[0m \u001b[32m6.8/6.8 MB\u001b[0m \u001b[31m55.8 MB/s\u001b[0m eta \u001b[36m0:00:01\u001b[0m\r\u001b[2K     \u001b[90m━━━━━━━━━━━━━━━━━━━━━━━━━━━━━━━━━━━━━━━━\u001b[0m \u001b[32m6.8/6.8 MB\u001b[0m \u001b[31m43.8 MB/s\u001b[0m eta \u001b[36m0:00:00\u001b[0m\n",
            "\u001b[?25h  Installing build dependencies ... \u001b[?25l\u001b[?25hdone\n",
            "  Getting requirements to build wheel ... \u001b[?25l\u001b[?25hdone\n",
            "  Preparing metadata (pyproject.toml) ... \u001b[?25l\u001b[?25hdone\n",
            "\u001b[2K     \u001b[90m━━━━━━━━━━━━━━━━━━━━━━━━━━━━━━━━━━━━━━━━\u001b[0m \u001b[32m1.6/1.6 MB\u001b[0m \u001b[31m78.7 MB/s\u001b[0m eta \u001b[36m0:00:00\u001b[0m\n",
            "\u001b[?25h  Building wheel for nglview (pyproject.toml) ... \u001b[?25l\u001b[?25hdone\n"
          ]
        },
        {
          "output_type": "display_data",
          "data": {
            "text/plain": [],
            "application/vnd.jupyter.widget-view+json": {
              "version_major": 2,
              "version_minor": 0,
              "model_id": "f8dd6b1c6d7a44e091ba533715c06112"
            }
          },
          "metadata": {
            "application/vnd.jupyter.widget-view+json": {
              "colab": {
                "custom_widget_manager": {
                  "url": "https://ssl.gstatic.com/colaboratory-static/widgets/colab-cdn-widget-manager/b3e629b1971e1542/manager.min.js"
                }
              }
            }
          }
        },
        {
          "output_type": "stream",
          "name": "stdout",
          "text": [
            "Reading package lists...\n",
            "Building dependency tree...\n",
            "Reading state information...\n",
            "The following additional packages will be installed:\n",
            "  libcifpp-data libcifpp2\n",
            "The following NEW packages will be installed:\n",
            "  dssp libcifpp-data libcifpp2\n",
            "0 upgraded, 3 newly installed, 0 to remove and 15 not upgraded.\n",
            "Need to get 1,967 kB of archives.\n",
            "After this operation, 15.0 MB of additional disk space will be used.\n",
            "Get:1 http://archive.ubuntu.com/ubuntu jammy/universe amd64 libcifpp-data all 2.0.5-1build1 [437 kB]\n",
            "Get:2 http://archive.ubuntu.com/ubuntu jammy/universe amd64 libcifpp2 amd64 2.0.5-1build1 [1,019 kB]\n",
            "Get:3 http://archive.ubuntu.com/ubuntu jammy/universe amd64 dssp amd64 4.0.4-1 [511 kB]\n",
            "Fetched 1,967 kB in 1s (2,341 kB/s)\n",
            "Preconfiguring packages ...\n",
            "Selecting previously unselected package libcifpp-data.\n",
            "(Reading database ... 120899 files and directories currently installed.)\n",
            "Preparing to unpack .../libcifpp-data_2.0.5-1build1_all.deb ...\n",
            "Unpacking libcifpp-data (2.0.5-1build1) ...\n",
            "Selecting previously unselected package libcifpp2:amd64.\n",
            "Preparing to unpack .../libcifpp2_2.0.5-1build1_amd64.deb ...\n",
            "Unpacking libcifpp2:amd64 (2.0.5-1build1) ...\n",
            "Selecting previously unselected package dssp.\n",
            "Preparing to unpack .../dssp_4.0.4-1_amd64.deb ...\n",
            "Unpacking dssp (4.0.4-1) ...\n",
            "Setting up libcifpp-data (2.0.5-1build1) ...\n",
            "Setting up libcifpp2:amd64 (2.0.5-1build1) ...\n",
            "Setting up dssp (4.0.4-1) ...\n",
            "Processing triggers for libc-bin (2.35-0ubuntu3.4) ...\n",
            "/sbin/ldconfig.real: /usr/local/lib/libtbbbind_2_0.so.3 is not a symbolic link\n",
            "\n",
            "/sbin/ldconfig.real: /usr/local/lib/libtbbbind.so.3 is not a symbolic link\n",
            "\n",
            "/sbin/ldconfig.real: /usr/local/lib/libtbbmalloc.so.2 is not a symbolic link\n",
            "\n",
            "/sbin/ldconfig.real: /usr/local/lib/libtbb.so.12 is not a symbolic link\n",
            "\n",
            "/sbin/ldconfig.real: /usr/local/lib/libtbbbind_2_5.so.3 is not a symbolic link\n",
            "\n",
            "/sbin/ldconfig.real: /usr/local/lib/libtbbmalloc_proxy.so.2 is not a symbolic link\n",
            "\n",
            "Processing triggers for man-db (2.10.2-1) ...\n",
            "--2023-12-08 09:27:23--  https://raw.githubusercontent.com/woolfson-group/Socket2_colab/main/socket2_linux\n",
            "Resolving raw.githubusercontent.com (raw.githubusercontent.com)... 185.199.108.133, 185.199.109.133, 185.199.110.133, ...\n",
            "Connecting to raw.githubusercontent.com (raw.githubusercontent.com)|185.199.108.133|:443... connected.\n",
            "HTTP request sent, awaiting response... 200 OK\n",
            "Length: 171224 (167K) [application/octet-stream]\n",
            "Saving to: ‘socket2_linux’\n",
            "\n",
            "socket2_linux       100%[===================>] 167.21K  --.-KB/s    in 0.04s   \n",
            "\n",
            "2023-12-08 09:27:23 (4.06 MB/s) - ‘socket2_linux’ saved [171224/171224]\n",
            "\n"
          ]
        }
      ],
      "source": [
        "# @title Install dependencies\n",
        "from google.colab import output\n",
        "from google.colab import files\n",
        "from google.colab import widgets\n",
        "\n",
        "output.enable_custom_widget_manager()\n",
        "\n",
        "!pip install nglview --quiet\n",
        "import os\n",
        "from pathlib import Path\n",
        "import re\n",
        "import nglview as nv\n",
        "import random\n",
        "import string\n",
        "from datetime import datetime\n",
        "import urllib\n",
        "import gzip\n",
        "\n",
        "\n",
        "!rm -rf /content/sample_data/\n",
        "#download socket2 and DSSP\n",
        "!apt-get install -q -y dssp\n",
        "!wget https://raw.githubusercontent.com/woolfson-group/Socket2_colab/main/socket2_linux\n",
        "!chmod u+x /content/socket2_linux"
      ]
    },
    {
      "cell_type": "code",
      "execution_count": 2,
      "metadata": {
        "cellView": "form",
        "id": "EnBdD_POKP5-"
      },
      "outputs": [],
      "source": [
        "# @title Functions to read files\n",
        "colors = ['red', 'green', 'blue', 'yellow', 'cyan', 'magenta', 'gray', 'orange', 'purple', 'brown']\n",
        "heptad_colors = {'a':'red','b':'orange','c':'yellow','d':'green','e':'cyan','f':'blue','g':'violet'}\n",
        "\n",
        "def get_rasmol_coils(file):\n",
        "    with open(file) as f:\n",
        "        tokens=f.readlines()\n",
        "    pattern = r'[0-9]'\n",
        "    coils={}\n",
        "    knobs=[]\n",
        "    register={}\n",
        "    for line in tokens:\n",
        "        split_line=line.strip('\\n').split()\n",
        "        if len(split_line)>2:\n",
        "\n",
        "            if split_line[0]=='define' and re.sub(pattern, '', split_line[1])=='coiled_coil':\n",
        "                coils[split_line[1]]=[x.strip(',') for x in split_line[2:]]\n",
        "\n",
        "            if split_line[0]=='define' and split_line[1][:5]=='knobs':\n",
        "                knob_line=split_line[2].strip('(').strip(')')\n",
        "                if knob_line[0]!='k':\n",
        "                  knobs.append(knob_line.split(','))\n",
        "\n",
        "            if split_line[0]=='define' and split_line[1][:8]=='register':\n",
        "                reg_line=split_line[2].strip('(').strip(')')\n",
        "                if reg_line[0]!='r':\n",
        "                    key=split_line[1].split('_')[1][-1]\n",
        "                    if key in register:\n",
        "                        register[key]+=','+reg_line\n",
        "                    else:\n",
        "                        register[key]=reg_line\n",
        "\n",
        "\n",
        "    return coils,knobs,register\n",
        "\n",
        "class Coil:\n",
        "    def __init__(self,sequence,register,resi,chain):\n",
        "        self.sequence=sequence\n",
        "        self.register=register\n",
        "        self.resi=resi\n",
        "        self.chain=chain\n",
        "\n",
        "def parse_socket(file:Path):\n",
        "    with open(file,'r') as f:\n",
        "        data=f.readlines()\n",
        "\n",
        "    coiled_coil_dict={}\n",
        "    for line in data:\n",
        "        if line!='\\n':\n",
        "            temp=line.split()\n",
        "            if len(temp)>5:\n",
        "                if temp[3]=='coiled' and temp[4]=='coil':\n",
        "                    coil_id_counter=int(temp[6])\n",
        "                    continue\n",
        "            if len(temp)>1:\n",
        "                if temp[0]=='extent':\n",
        "                    seq_id,chain=''.join(temp[5:]).split(':')\n",
        "                if temp[0]=='assigning':\n",
        "                    coil_name=temp[5][1:-1]\n",
        "                if temp[0]=='sequence':\n",
        "                    sequence=temp[1].strip('\\n')\n",
        "                if temp[0]=='register':\n",
        "                    #align registers\n",
        "                    register=temp[1].strip('\\n')\n",
        "                    start=len(line[9:])-1-len(register)\n",
        "\n",
        "                    sequence=sequence[start:start+len(register)]\n",
        "                    assert len(sequence)==len(register)\n",
        "\n",
        "                    coil=Coil(sequence,register,seq_id,chain)\n",
        "                    if coil_id_counter in coiled_coil_dict:\n",
        "                        coiled_coil_dict[coil_id_counter].append(coil)\n",
        "                    else:\n",
        "                        coiled_coil_dict[coil_id_counter]=[coil]\n",
        "\n",
        "    return coiled_coil_dict"
      ]
    },
    {
      "cell_type": "code",
      "source": [
        "# @title Click to upload a single PDB file or enter a 4 letter PDB-ID. { display-mode: \"form\" }\n",
        "\n",
        "pdb_code = '' #@param {type:\"string\"}\n",
        "\n",
        "#Download the first biological assembly\n",
        "#biological_assembly=True # @param {type:\"boolean\"}\n",
        "\n",
        "if pdb_code:\n",
        "  pdb_code=pdb_code.upper()\n",
        "  print(pdb_code)\n",
        "  assert len(pdb_code)==4, \"Incorrect PDB code provided!\"\n",
        "  filename=f'{pdb_code}.pdb'\n",
        "\n",
        "  try:\n",
        "    response = urllib.request.urlopen(f'http://files.rcsb.org/download/{pdb_code}.pdb.gz')\n",
        "    with open(filename, 'wb') as outfile:\n",
        "      outfile.write(gzip.decompress(response.read()))\n",
        "\n",
        "  except urllib.error.HTTPError:\n",
        "    print('PDB code does not exist.')\n",
        "\n",
        "else:\n",
        "  filename=''.join(random.choices(string.ascii_uppercase + string.digits, k=5))+'.pdb'\n",
        "  uploaded = files.upload()\n",
        "  assert len(list(uploaded.keys()))==1\n",
        "\n",
        "  #formatting for dssp, see https://github.com/PDB-REDO/dssp/issues/1\n",
        "  #Must have HEADER and CRYST1, errors with AF2, Rosetta, etc. otherwise\n",
        "  with open(filename,'w') as f:\n",
        "    f.write('HEADER\\n')\n",
        "    f.write('CRYST1    1.000    1.000    1.000  90.00  90.00  90.00 P 1           1   \\n')\n",
        "    !grep \"^ATOM\\|^TER\\|^HETATM\\|^ENDMDL\\|^MODEL\" {list(uploaded.keys())[0]} >> {filename}\n",
        "  os.remove(list(uploaded.keys())[0])"
      ],
      "metadata": {
        "colab": {
          "base_uri": "https://localhost:8080/",
          "height": 73
        },
        "id": "OhmrEcuKEhrx",
        "outputId": "72b2db9e-74dd-4e46-8a8d-10f180970001"
      },
      "execution_count": 3,
      "outputs": [
        {
          "output_type": "display_data",
          "data": {
            "text/plain": [
              "<IPython.core.display.HTML object>"
            ],
            "text/html": [
              "\n",
              "     <input type=\"file\" id=\"files-fa739a44-a554-4c47-b76f-c7d4feaee9a4\" name=\"files[]\" multiple disabled\n",
              "        style=\"border:none\" />\n",
              "     <output id=\"result-fa739a44-a554-4c47-b76f-c7d4feaee9a4\">\n",
              "      Upload widget is only available when the cell has been executed in the\n",
              "      current browser session. Please rerun this cell to enable.\n",
              "      </output>\n",
              "      <script>// Copyright 2017 Google LLC\n",
              "//\n",
              "// Licensed under the Apache License, Version 2.0 (the \"License\");\n",
              "// you may not use this file except in compliance with the License.\n",
              "// You may obtain a copy of the License at\n",
              "//\n",
              "//      http://www.apache.org/licenses/LICENSE-2.0\n",
              "//\n",
              "// Unless required by applicable law or agreed to in writing, software\n",
              "// distributed under the License is distributed on an \"AS IS\" BASIS,\n",
              "// WITHOUT WARRANTIES OR CONDITIONS OF ANY KIND, either express or implied.\n",
              "// See the License for the specific language governing permissions and\n",
              "// limitations under the License.\n",
              "\n",
              "/**\n",
              " * @fileoverview Helpers for google.colab Python module.\n",
              " */\n",
              "(function(scope) {\n",
              "function span(text, styleAttributes = {}) {\n",
              "  const element = document.createElement('span');\n",
              "  element.textContent = text;\n",
              "  for (const key of Object.keys(styleAttributes)) {\n",
              "    element.style[key] = styleAttributes[key];\n",
              "  }\n",
              "  return element;\n",
              "}\n",
              "\n",
              "// Max number of bytes which will be uploaded at a time.\n",
              "const MAX_PAYLOAD_SIZE = 100 * 1024;\n",
              "\n",
              "function _uploadFiles(inputId, outputId) {\n",
              "  const steps = uploadFilesStep(inputId, outputId);\n",
              "  const outputElement = document.getElementById(outputId);\n",
              "  // Cache steps on the outputElement to make it available for the next call\n",
              "  // to uploadFilesContinue from Python.\n",
              "  outputElement.steps = steps;\n",
              "\n",
              "  return _uploadFilesContinue(outputId);\n",
              "}\n",
              "\n",
              "// This is roughly an async generator (not supported in the browser yet),\n",
              "// where there are multiple asynchronous steps and the Python side is going\n",
              "// to poll for completion of each step.\n",
              "// This uses a Promise to block the python side on completion of each step,\n",
              "// then passes the result of the previous step as the input to the next step.\n",
              "function _uploadFilesContinue(outputId) {\n",
              "  const outputElement = document.getElementById(outputId);\n",
              "  const steps = outputElement.steps;\n",
              "\n",
              "  const next = steps.next(outputElement.lastPromiseValue);\n",
              "  return Promise.resolve(next.value.promise).then((value) => {\n",
              "    // Cache the last promise value to make it available to the next\n",
              "    // step of the generator.\n",
              "    outputElement.lastPromiseValue = value;\n",
              "    return next.value.response;\n",
              "  });\n",
              "}\n",
              "\n",
              "/**\n",
              " * Generator function which is called between each async step of the upload\n",
              " * process.\n",
              " * @param {string} inputId Element ID of the input file picker element.\n",
              " * @param {string} outputId Element ID of the output display.\n",
              " * @return {!Iterable<!Object>} Iterable of next steps.\n",
              " */\n",
              "function* uploadFilesStep(inputId, outputId) {\n",
              "  const inputElement = document.getElementById(inputId);\n",
              "  inputElement.disabled = false;\n",
              "\n",
              "  const outputElement = document.getElementById(outputId);\n",
              "  outputElement.innerHTML = '';\n",
              "\n",
              "  const pickedPromise = new Promise((resolve) => {\n",
              "    inputElement.addEventListener('change', (e) => {\n",
              "      resolve(e.target.files);\n",
              "    });\n",
              "  });\n",
              "\n",
              "  const cancel = document.createElement('button');\n",
              "  inputElement.parentElement.appendChild(cancel);\n",
              "  cancel.textContent = 'Cancel upload';\n",
              "  const cancelPromise = new Promise((resolve) => {\n",
              "    cancel.onclick = () => {\n",
              "      resolve(null);\n",
              "    };\n",
              "  });\n",
              "\n",
              "  // Wait for the user to pick the files.\n",
              "  const files = yield {\n",
              "    promise: Promise.race([pickedPromise, cancelPromise]),\n",
              "    response: {\n",
              "      action: 'starting',\n",
              "    }\n",
              "  };\n",
              "\n",
              "  cancel.remove();\n",
              "\n",
              "  // Disable the input element since further picks are not allowed.\n",
              "  inputElement.disabled = true;\n",
              "\n",
              "  if (!files) {\n",
              "    return {\n",
              "      response: {\n",
              "        action: 'complete',\n",
              "      }\n",
              "    };\n",
              "  }\n",
              "\n",
              "  for (const file of files) {\n",
              "    const li = document.createElement('li');\n",
              "    li.append(span(file.name, {fontWeight: 'bold'}));\n",
              "    li.append(span(\n",
              "        `(${file.type || 'n/a'}) - ${file.size} bytes, ` +\n",
              "        `last modified: ${\n",
              "            file.lastModifiedDate ? file.lastModifiedDate.toLocaleDateString() :\n",
              "                                    'n/a'} - `));\n",
              "    const percent = span('0% done');\n",
              "    li.appendChild(percent);\n",
              "\n",
              "    outputElement.appendChild(li);\n",
              "\n",
              "    const fileDataPromise = new Promise((resolve) => {\n",
              "      const reader = new FileReader();\n",
              "      reader.onload = (e) => {\n",
              "        resolve(e.target.result);\n",
              "      };\n",
              "      reader.readAsArrayBuffer(file);\n",
              "    });\n",
              "    // Wait for the data to be ready.\n",
              "    let fileData = yield {\n",
              "      promise: fileDataPromise,\n",
              "      response: {\n",
              "        action: 'continue',\n",
              "      }\n",
              "    };\n",
              "\n",
              "    // Use a chunked sending to avoid message size limits. See b/62115660.\n",
              "    let position = 0;\n",
              "    do {\n",
              "      const length = Math.min(fileData.byteLength - position, MAX_PAYLOAD_SIZE);\n",
              "      const chunk = new Uint8Array(fileData, position, length);\n",
              "      position += length;\n",
              "\n",
              "      const base64 = btoa(String.fromCharCode.apply(null, chunk));\n",
              "      yield {\n",
              "        response: {\n",
              "          action: 'append',\n",
              "          file: file.name,\n",
              "          data: base64,\n",
              "        },\n",
              "      };\n",
              "\n",
              "      let percentDone = fileData.byteLength === 0 ?\n",
              "          100 :\n",
              "          Math.round((position / fileData.byteLength) * 100);\n",
              "      percent.textContent = `${percentDone}% done`;\n",
              "\n",
              "    } while (position < fileData.byteLength);\n",
              "  }\n",
              "\n",
              "  // All done.\n",
              "  yield {\n",
              "    response: {\n",
              "      action: 'complete',\n",
              "    }\n",
              "  };\n",
              "}\n",
              "\n",
              "scope.google = scope.google || {};\n",
              "scope.google.colab = scope.google.colab || {};\n",
              "scope.google.colab._files = {\n",
              "  _uploadFiles,\n",
              "  _uploadFilesContinue,\n",
              "};\n",
              "})(self);\n",
              "</script> "
            ]
          },
          "metadata": {}
        },
        {
          "output_type": "stream",
          "name": "stdout",
          "text": [
            "Saving 6g66.pdb to 6g66.pdb\n"
          ]
        }
      ]
    },
    {
      "cell_type": "code",
      "execution_count": 4,
      "metadata": {
        "cellView": "form",
        "colab": {
          "base_uri": "https://localhost:8080/",
          "height": 596,
          "resources": {
            "http://localhost:8080/nbextensions/google.colab/tabbar.css": {
              "data": "Lmdvb2ctdGFie3Bvc2l0aW9uOnJlbGF0aXZlO3BhZGRpbmc6NHB4IDhweDtjb2xvcjojMDBjO3RleHQtZGVjb3JhdGlvbjp1bmRlcmxpbmU7Y3Vyc29yOmRlZmF1bHR9Lmdvb2ctdGFiLWJhci10b3AgLmdvb2ctdGFie21hcmdpbjoxcHggNHB4IDAgMDtib3JkZXItYm90dG9tOjA7ZmxvYXQ6bGVmdH0uZ29vZy10YWItYmFyLXRvcDphZnRlciwuZ29vZy10YWItYmFyLWJvdHRvbTphZnRlcntjb250ZW50OiIgIjtkaXNwbGF5OmJsb2NrO2hlaWdodDowO2NsZWFyOmJvdGg7dmlzaWJpbGl0eTpoaWRkZW59Lmdvb2ctdGFiLWJhci1ib3R0b20gLmdvb2ctdGFie21hcmdpbjowIDRweCAxcHggMDtib3JkZXItdG9wOjA7ZmxvYXQ6bGVmdH0uZ29vZy10YWItYmFyLXN0YXJ0IC5nb29nLXRhYnttYXJnaW46MCAwIDRweCAxcHg7Ym9yZGVyLXJpZ2h0OjB9Lmdvb2ctdGFiLWJhci1lbmQgLmdvb2ctdGFie21hcmdpbjowIDFweCA0cHggMDtib3JkZXItbGVmdDowfS5nb29nLXRhYi1ob3ZlcntiYWNrZ3JvdW5kOiNlZWV9Lmdvb2ctdGFiLWRpc2FibGVke2NvbG9yOiM2NjZ9Lmdvb2ctdGFiLXNlbGVjdGVke2NvbG9yOiMwMDA7YmFja2dyb3VuZDojZmZmO3RleHQtZGVjb3JhdGlvbjpub25lO2ZvbnQtd2VpZ2h0OmJvbGQ7Ym9yZGVyOjFweCBzb2xpZCAjNmI5MGRhfS5nb29nLXRhYi1iYXItdG9we3BhZGRpbmctdG9wOjVweCFpbXBvcnRhbnQ7cGFkZGluZy1sZWZ0OjVweCFpbXBvcnRhbnQ7Ym9yZGVyLWJvdHRvbToxcHggc29saWQgIzZiOTBkYSFpbXBvcnRhbnR9Lmdvb2ctdGFiLWJhci10b3AgLmdvb2ctdGFiLXNlbGVjdGVke3RvcDoxcHg7bWFyZ2luLXRvcDowO3BhZGRpbmctYm90dG9tOjVweH0uZ29vZy10YWItYmFyLWJvdHRvbSAuZ29vZy10YWItc2VsZWN0ZWR7dG9wOi0xcHg7bWFyZ2luLWJvdHRvbTowO3BhZGRpbmctdG9wOjVweH0uZ29vZy10YWItYmFyLXN0YXJ0IC5nb29nLXRhYi1zZWxlY3RlZHtsZWZ0OjFweDttYXJnaW4tbGVmdDowO3BhZGRpbmctcmlnaHQ6OXB4fS5nb29nLXRhYi1iYXItZW5kIC5nb29nLXRhYi1zZWxlY3RlZHtsZWZ0Oi0xcHg7bWFyZ2luLXJpZ2h0OjA7cGFkZGluZy1sZWZ0OjlweH0uZ29vZy10YWItYmFye21hcmdpbjowO2JvcmRlcjowO3BhZGRpbmc6MDtsaXN0LXN0eWxlOm5vbmU7Y3Vyc29yOmRlZmF1bHQ7b3V0bGluZTpub25lO2JhY2tncm91bmQ6I2ViZWZmOX0uZ29vZy10YWItYmFyLWNsZWFye2NsZWFyOmJvdGg7aGVpZ2h0OjA7b3ZlcmZsb3c6aGlkZGVufS5nb29nLXRhYi1iYXItc3RhcnR7ZmxvYXQ6bGVmdH0uZ29vZy10YWItYmFyLWVuZHtmbG9hdDpyaWdodH0qIGh0bWwgLmdvb2ctdGFiLWJhci1zdGFydHttYXJnaW4tcmlnaHQ6LTNweH0qIGh0bWwgLmdvb2ctdGFiLWJhci1lbmR7bWFyZ2luLWxlZnQ6LTNweH0=",
              "headers": [
                [
                  "content-type",
                  "text/css"
                ]
              ],
              "ok": true,
              "status": 200,
              "status_text": ""
            },
            "http://localhost:8080/nbextensions/google.colab/tabbar_main.min.js": {
              "data": "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",
              "headers": [
                [
                  "content-type",
                  "application/javascript"
                ]
              ],
              "ok": true,
              "status": 200,
              "status_text": ""
            }
          }
        },
        "id": "anqd96pbVSzB",
        "outputId": "158c4ba9-84ed-412f-ac60-7857abf5e906"
      },
      "outputs": [
        {
          "output_type": "stream",
          "name": "stdout",
          "text": [
            "\n",
            "We found 1 coiled-coils!\n",
            "See below for more information.\n"
          ]
        },
        {
          "output_type": "display_data",
          "data": {
            "text/plain": [
              "<IPython.core.display.HTML object>"
            ],
            "text/html": [
              "<link rel=stylesheet type=text/css href='/nbextensions/google.colab/tabbar.css'></link>"
            ]
          },
          "metadata": {}
        },
        {
          "output_type": "display_data",
          "data": {
            "text/plain": [
              "<IPython.core.display.HTML object>"
            ],
            "text/html": [
              "<script src='/nbextensions/google.colab/tabbar_main.min.js'></script>"
            ]
          },
          "metadata": {}
        },
        {
          "output_type": "display_data",
          "data": {
            "text/plain": [
              "<IPython.core.display.HTML object>"
            ],
            "text/html": [
              "<div id=\"id1\"></div>"
            ]
          },
          "metadata": {}
        },
        {
          "output_type": "display_data",
          "data": {
            "text/plain": [
              "<IPython.core.display.Javascript object>"
            ],
            "application/javascript": [
              "window[\"1d4c4308-95ac-11ee-b7ba-0242ac1c000c\"] = colab_lib.createTabBar({\"location\": \"top\", \"elementId\": \"id1\", \"tabNames\": [\"0\"], \"initialSelection\": 0, \"contentBorder\": [\"0px\"], \"contentHeight\": [\"initial\"], \"borderColor\": [\"#a7a7a7\"]});\n",
              "//# sourceURL=js_02d06237f8"
            ]
          },
          "metadata": {}
        },
        {
          "output_type": "display_data",
          "data": {
            "text/plain": [
              "<IPython.core.display.Javascript object>"
            ],
            "application/javascript": [
              "window[\"1d4cc396-95ac-11ee-b7ba-0242ac1c000c\"] = window[\"id1\"].setSelectedTabIndex(0);\n",
              "//# sourceURL=js_8de078a275"
            ]
          },
          "metadata": {}
        },
        {
          "output_type": "display_data",
          "data": {
            "text/plain": [
              "<IPython.core.display.Javascript object>"
            ],
            "application/javascript": [
              "window[\"1d4eedec-95ac-11ee-b7ba-0242ac1c000c\"] = google.colab.output.getActiveOutputArea();\n",
              "//# sourceURL=js_e12174c1d5"
            ]
          },
          "metadata": {}
        },
        {
          "output_type": "display_data",
          "data": {
            "text/plain": [
              "<IPython.core.display.Javascript object>"
            ],
            "application/javascript": [
              "window[\"1d4fa700-95ac-11ee-b7ba-0242ac1c000c\"] = document.querySelector(\"#id1_content_0\");\n",
              "//# sourceURL=js_3bd07d3f13"
            ]
          },
          "metadata": {}
        },
        {
          "output_type": "display_data",
          "data": {
            "text/plain": [
              "<IPython.core.display.Javascript object>"
            ],
            "application/javascript": [
              "window[\"1d4ff778-95ac-11ee-b7ba-0242ac1c000c\"] = google.colab.output.setActiveOutputArea(window[\"1d4fa700-95ac-11ee-b7ba-0242ac1c000c\"]);\n",
              "//# sourceURL=js_499aa190d0"
            ]
          },
          "metadata": {}
        },
        {
          "output_type": "display_data",
          "data": {
            "text/plain": [
              "<IPython.core.display.Javascript object>"
            ],
            "application/javascript": [
              "window[\"1d50522c-95ac-11ee-b7ba-0242ac1c000c\"] = window[\"id1\"].setSelectedTabIndex(0);\n",
              "//# sourceURL=js_0fdfd7bdad"
            ]
          },
          "metadata": {}
        },
        {
          "output_type": "stream",
          "name": "stdout",
          "text": [
            "defgabcdefgabcdefgabcdefga A:3-28\n",
            "AQAIKEVAKAIKEVAWAIKEVAQAIK\n",
            "\n",
            "\n",
            "defgabcdefgabcdefgabcdefga B:3-28\n",
            "AQAIKEVAKAIKEVAWAIKEVAQAIK\n",
            "\n",
            "\n",
            "defgabcdefgabcdefgabcdefga C:3-28\n",
            "AQAIKEVAKAIKEVAWAIKEVAQAIK\n",
            "\n",
            "\n",
            "defgabcdefgabcdefgabcdefga D:3-28\n",
            "AQAIKEVAKAIKEVAWAIKEVAQAIK\n",
            "\n",
            "\n",
            "defgabcdefgabcdefgabcdefga E:3-28\n",
            "AQAIKEVAKAIKEVAWAIKEVAQAIK\n",
            "\n",
            "\n",
            "defgabcdefgabcdefgabcdefgab F:3-29\n",
            "VAQAIKEVAKAIKEVAWAIKEVAQAIK\n",
            "\n",
            "\n",
            "defgabcdefgabcdefgabcdefga G:3-28\n",
            "AQAIKEVAKAIKEVAWAIKEVAQAIK\n",
            "\n",
            "\n"
          ]
        },
        {
          "output_type": "display_data",
          "data": {
            "text/plain": [
              "<IPython.core.display.Javascript object>"
            ],
            "application/javascript": [
              "window[\"1d51a186-95ac-11ee-b7ba-0242ac1c000c\"] = google.colab.output.setActiveOutputArea(window[\"1d4eedec-95ac-11ee-b7ba-0242ac1c000c\"]);\n",
              "//# sourceURL=js_a3e9fb60dc"
            ]
          },
          "metadata": {}
        }
      ],
      "source": [
        "# @title Run DSSP and Socket2.\n",
        "\n",
        "#@markdown Packing Cutoff parameter in Ångstroms essentially represents the tightness of the knobs-into-holes interactions; the smaller it is, the more ideal the packing.\n",
        "Packing_Cutoff = 7.0 # @param {type:\"number\"}\n",
        "\n",
        "#@markdown Helix Extension is given to extend all alpha helical regions by X residues at each end. For example the two DSSP helices eitherside of the kink are joined, giving a single helix.\n",
        "Helix_Extension = 0 # @param {type:\"integer\"}\n",
        "\n",
        "\n",
        "filename_path=Path(filename)\n",
        "rasmol=str(filename_path.with_suffix('.rasmol'))\n",
        "longfile=str(filename_path.with_suffix('.long'))\n",
        "shortfile=str(filename_path.with_suffix('.short'))\n",
        "\n",
        "#run socket2 and make short files for AF2 structures\n",
        "!mkdssp -i {filename} -o out.dssp\n",
        "#remove extra chars - Socket can't read DSSP otherwise\n",
        "!cat out.dssp | cut -c1-136 >> tmp.dssp\n",
        "!socket_out=\"$(echo \"$1\"|cut -d\".\" -f1).short\"\n",
        "!echo \"$socket_out\"\n",
        "!/content/socket2_linux -f {filename} -s tmp.dssp -c {Packing_Cutoff} -h {Helix_Extension} -r {rasmol} -o {longfile} -q > {shortfile}\n",
        "!rm tmp.dssp\n",
        "!rm out.dssp\n",
        "\n",
        "coils,knobs,register=get_rasmol_coils(rasmol)\n",
        "CC_dict=parse_socket(shortfile)\n",
        "\n",
        "flat_knobs=[x for y in knobs for x in y]\n",
        "assert len(flat_knobs)>0, \"Coiled-coils don't have any knobs! Inspect the output files.\"\n",
        "\n",
        "flat_register=','.join(register.values())\n",
        "flat_register=flat_register.split(',')\n",
        "\n",
        "#show only knobs in coiled-coil regions\n",
        "knobs_in_CCs=list(set(flat_knobs).intersection(flat_register))\n",
        "\n",
        "print('We found ' + str(len(CC_dict))+' coiled-coils!')\n",
        "\n",
        "if len(CC_dict)>0:\n",
        "  print('See below for more information.')\n",
        "  tb = widgets.TabBar([str(i) for i in range(len(CC_dict))])\n",
        "\n",
        "  #dict keys don't start with 0, need to reindex\n",
        "  for i,coiled_coil in enumerate(CC_dict.values()):\n",
        "    with tb.output_to(i):\n",
        "      for helix in coiled_coil:\n",
        "        print(helix.register+ ' ' + helix.chain + ':' + helix.resi)\n",
        "        print(helix.sequence)\n",
        "        print('\\n')"
      ]
    },
    {
      "cell_type": "code",
      "execution_count": 5,
      "metadata": {
        "cellView": "form",
        "colab": {
          "referenced_widgets": [
            "0b8fdb3017d045b4a5ca24297d3a223e",
            "ffb94bd6d77748a982449f3384e29622",
            "6672b5e598de4e76bb6381c9ddf465b1",
            "d53b5c67fcb34fd58d8ba0aba15210bb",
            "7818a88eb5df47de85b6613233b2ecc6",
            "25fd6f1a62b447b5a20d54aa32e57f70",
            "5fa2d09f2e2448938f94e5bbb0f59123",
            "dc9573e7310147429c6e1960e41dd49b",
            "39e170df28414ca0b271d8ead25c936e",
            "26757c4d0131405895a718211bb6c452",
            "e3953355c9b44c08a3d7d3084af64f59",
            "4c4d199b051a44bcb1c6d99c8b886c3b",
            "abc6a6917b734ccaa7fd7d34330a064c"
          ],
          "base_uri": "https://localhost:8080/",
          "height": 317
        },
        "id": "l5xB2PhujR7m",
        "outputId": "f1fdca2d-1ecd-4da9-e6ad-39c6d9290862"
      },
      "outputs": [
        {
          "output_type": "display_data",
          "data": {
            "text/plain": [
              "NGLWidget()"
            ],
            "application/vnd.jupyter.widget-view+json": {
              "version_major": 2,
              "version_minor": 0,
              "model_id": "6672b5e598de4e76bb6381c9ddf465b1"
            }
          },
          "metadata": {
            "application/vnd.jupyter.widget-view+json": {
              "colab": {
                "custom_widget_manager": {
                  "url": "https://ssl.gstatic.com/colaboratory-static/widgets/colab-cdn-widget-manager/b3e629b1971e1542/manager.min.js"
                }
              }
            }
          }
        }
      ],
      "source": [
        "# @title NGLView\n",
        "show_ligands = False # @param {type:\"boolean\"}\n",
        "Knobs=\"Knobs\"\n",
        "#@markdown TRUE: show all side chains within coiled coil regions.\n",
        "\n",
        "#@markdown KNOBS: show only side chains that act as knobs in knobs-into-holes packing.\n",
        "\n",
        "ball_and_sticks = Knobs # @param [\"True\", \"False\", \"Knobs\"] {type:\"raw\"}\n",
        "colour_by_register=True # @param {type:\"boolean\"}\n",
        "show_only_CC=False # @param {type:\"boolean\"}\n",
        "\n",
        "assert len(CC_dict)!=0, 'No coiled coils found. Check the cell above.'\n",
        "\n",
        "reg_colors=[]\n",
        "for name,reg in register.items():\n",
        "    reg_colors.append([heptad_colors[name],reg.replace(',', ' or ')])\n",
        "scheme=nv.color._ColorScheme(reg_colors,'register')\n",
        "\n",
        "view=nv.show_structure_file(filename)\n",
        "view.clear(1)\n",
        " # Color helices\n",
        "representation=[{\"type\":\"cartoon\", \"params\":{\"visible\": not show_only_CC, \"sele\": 'protein', \"color\": 'white'}},\n",
        "                {\"type\":\"ball+stick\", \"params\":{\"visible\": show_ligands, \"sele\": \"not polymer and not ( protein or nucleic )\"}},\n",
        "                {\"type\":\"spacefill\", \"params\":{\"visible\": show_ligands,\"sele\": \"water or ion\",\"scale\": 0.15}}]\n",
        "\n",
        "\n",
        "if colour_by_register:\n",
        "  for name,cc in coils.items():\n",
        "    for i,helix in enumerate(cc):\n",
        "      helix_representation = {\"type\": \"cartoon\", \"params\": {\"sele\": helix, \"color\": scheme}}\n",
        "      representation.append(helix_representation)\n",
        "\n",
        "      if ball_and_sticks==True:\n",
        "        helix_representation = {\"type\": \"ball+stick\", \"params\": {\"sele\": helix + ' and sidechainAttached',\"color\": scheme}}\n",
        "        representation.append(helix_representation)\n",
        "  if ball_and_sticks==Knobs:\n",
        "    helix_representation = {\"type\": \"ball+stick\", \"params\": {\"sele\": '(' + \" or \".join(knobs_in_CCs) + ')'  + ' and sidechainAttached',\"color\": scheme}}\n",
        "    representation.append(helix_representation)\n",
        "\n",
        "\n",
        "else:\n",
        "  for name,cc in coils.items():\n",
        "    for i,helix in enumerate(cc):\n",
        "      helix_representation = {\"type\": \"cartoon\", \"params\": {\"sele\": helix, \"color\": colors[i]}}\n",
        "      representation.append(helix_representation)\n",
        "\n",
        "      if ball_and_sticks==True:\n",
        "        helix_representation = {\"type\": \"ball+stick\", \"params\": {\"sele\": helix + ' and sidechainAttached', \"color\": colors[i]}}\n",
        "        representation.append(helix_representation)\n",
        "  if ball_and_sticks==Knobs:\n",
        "    helix_representation = {\"type\": \"ball+stick\", \"params\": {\"sele\": '(' + \" or \".join(knobs_in_CCs) + ')'  + ' and sidechainAttached'}}\n",
        "    representation.append(helix_representation)\n",
        "\n",
        "\n",
        "view.representations=representation\n",
        "view"
      ]
    },
    {
      "cell_type": "code",
      "source": [
        "# @title Download your results { display-mode: \"form\" }\n",
        "\n",
        "now = datetime.now()\n",
        "!zip -r /content/socket2_{now.strftime(\"%m_%d_%H_%M\")}.zip /content/\n",
        "files.download(f'/content/socket2_{now.strftime(\"%m_%d_%H_%M\")}.zip')"
      ],
      "metadata": {
        "colab": {
          "base_uri": "https://localhost:8080/",
          "height": 434
        },
        "id": "LrUBP9CcE6Ik",
        "outputId": "0ce6ab8a-9ff7-4dae-cf90-2211dc278f34"
      },
      "execution_count": 6,
      "outputs": [
        {
          "output_type": "stream",
          "name": "stdout",
          "text": [
            "  adding: content/ (stored 0%)\n",
            "  adding: content/.config/ (stored 0%)\n",
            "  adding: content/.config/configurations/ (stored 0%)\n",
            "  adding: content/.config/configurations/config_default (deflated 15%)\n",
            "  adding: content/.config/logs/ (stored 0%)\n",
            "  adding: content/.config/logs/2023.12.04/ (stored 0%)\n",
            "  adding: content/.config/logs/2023.12.04/14.20.49.627769.log (deflated 91%)\n",
            "  adding: content/.config/logs/2023.12.04/14.23.49.652015.log (deflated 58%)\n",
            "  adding: content/.config/logs/2023.12.04/14.23.59.638040.log (deflated 86%)\n",
            "  adding: content/.config/logs/2023.12.04/14.26.59.279282.log (deflated 57%)\n",
            "  adding: content/.config/logs/2023.12.04/14.27.00.107426.log (deflated 56%)\n",
            "  adding: content/.config/logs/2023.12.04/14.26.48.840108.log (deflated 58%)\n",
            "  adding: content/.config/active_config (stored 0%)\n",
            "  adding: content/.config/config_sentinel (stored 0%)\n",
            "  adding: content/.config/.last_opt_in_prompt.yaml (stored 0%)\n",
            "  adding: content/.config/default_configs.db (deflated 98%)\n",
            "  adding: content/.config/.last_survey_prompt.yaml (stored 0%)\n",
            "  adding: content/.config/.last_update_check.json (deflated 22%)\n",
            "  adding: content/.config/gce (stored 0%)\n",
            "  adding: content/9GMNT.rasmol (deflated 75%)\n",
            "  adding: content/9GMNT.long (deflated 82%)\n",
            "  adding: content/9GMNT.pdb (deflated 75%)\n",
            "  adding: content/9GMNT.short (deflated 77%)\n",
            "  adding: content/socket2_linux (deflated 71%)\n"
          ]
        },
        {
          "output_type": "display_data",
          "data": {
            "text/plain": [
              "<IPython.core.display.Javascript object>"
            ],
            "application/javascript": [
              "\n",
              "    async function download(id, filename, size) {\n",
              "      if (!google.colab.kernel.accessAllowed) {\n",
              "        return;\n",
              "      }\n",
              "      const div = document.createElement('div');\n",
              "      const label = document.createElement('label');\n",
              "      label.textContent = `Downloading \"${filename}\": `;\n",
              "      div.appendChild(label);\n",
              "      const progress = document.createElement('progress');\n",
              "      progress.max = size;\n",
              "      div.appendChild(progress);\n",
              "      document.body.appendChild(div);\n",
              "\n",
              "      const buffers = [];\n",
              "      let downloaded = 0;\n",
              "\n",
              "      const channel = await google.colab.kernel.comms.open(id);\n",
              "      // Send a message to notify the kernel that we're ready.\n",
              "      channel.send({})\n",
              "\n",
              "      for await (const message of channel.messages) {\n",
              "        // Send a message to notify the kernel that we're ready.\n",
              "        channel.send({})\n",
              "        if (message.buffers) {\n",
              "          for (const buffer of message.buffers) {\n",
              "            buffers.push(buffer);\n",
              "            downloaded += buffer.byteLength;\n",
              "            progress.value = downloaded;\n",
              "          }\n",
              "        }\n",
              "      }\n",
              "      const blob = new Blob(buffers, {type: 'application/binary'});\n",
              "      const a = document.createElement('a');\n",
              "      a.href = window.URL.createObjectURL(blob);\n",
              "      a.download = filename;\n",
              "      div.appendChild(a);\n",
              "      a.click();\n",
              "      div.remove();\n",
              "    }\n",
              "  "
            ]
          },
          "metadata": {}
        },
        {
          "output_type": "display_data",
          "data": {
            "text/plain": [
              "<IPython.core.display.Javascript object>"
            ],
            "application/javascript": [
              "download(\"download_ccd0f97b-6a75-49fa-a702-8b1e24da38d5\", \"socket2_12_08_09_28.zip\", 101791)"
            ]
          },
          "metadata": {}
        }
      ]
    }
  ],
  "metadata": {
    "colab": {
      "provenance": []
    },
    "kernelspec": {
      "display_name": "Python 3",
      "name": "python3"
    },
    "language_info": {
      "name": "python"
    },
    "widgets": {
      "application/vnd.jupyter.widget-state+json": {
        "f8dd6b1c6d7a44e091ba533715c06112": {
          "model_module": "nglview-js-widgets",
          "model_name": "ColormakerRegistryModel",
          "model_module_version": "3.0.8",
          "state": {
            "_dom_classes": [],
            "_model_module": "nglview-js-widgets",
            "_model_module_version": "3.0.8",
            "_model_name": "ColormakerRegistryModel",
            "_msg_ar": [],
            "_msg_q": [],
            "_ready": true,
            "_view_count": null,
            "_view_module": "nglview-js-widgets",
            "_view_module_version": "3.0.8",
            "_view_name": "ColormakerRegistryView",
            "layout": "IPY_MODEL_49c7b3247b4549069eff21fc950db6a8"
          }
        },
        "49c7b3247b4549069eff21fc950db6a8": {
          "model_module": "@jupyter-widgets/base",
          "model_name": "LayoutModel",
          "model_module_version": "1.2.0",
          "state": {
            "_model_module": "@jupyter-widgets/base",
            "_model_module_version": "1.2.0",
            "_model_name": "LayoutModel",
            "_view_count": null,
            "_view_module": "@jupyter-widgets/base",
            "_view_module_version": "1.2.0",
            "_view_name": "LayoutView",
            "align_content": null,
            "align_items": null,
            "align_self": null,
            "border": null,
            "bottom": null,
            "display": null,
            "flex": null,
            "flex_flow": null,
            "grid_area": null,
            "grid_auto_columns": null,
            "grid_auto_flow": null,
            "grid_auto_rows": null,
            "grid_column": null,
            "grid_gap": null,
            "grid_row": null,
            "grid_template_areas": null,
            "grid_template_columns": null,
            "grid_template_rows": null,
            "height": null,
            "justify_content": null,
            "justify_items": null,
            "left": null,
            "margin": null,
            "max_height": null,
            "max_width": null,
            "min_height": null,
            "min_width": null,
            "object_fit": null,
            "object_position": null,
            "order": null,
            "overflow": null,
            "overflow_x": null,
            "overflow_y": null,
            "padding": null,
            "right": null,
            "top": null,
            "visibility": null,
            "width": null
          }
        },
        "0b8fdb3017d045b4a5ca24297d3a223e": {
          "model_module": "@jupyter-widgets/controls",
          "model_name": "PlayModel",
          "model_module_version": "1.5.0",
          "state": {
            "_dom_classes": [],
            "_model_module": "@jupyter-widgets/controls",
            "_model_module_version": "1.5.0",
            "_model_name": "PlayModel",
            "_playing": false,
            "_repeat": false,
            "_view_count": null,
            "_view_module": "@jupyter-widgets/controls",
            "_view_module_version": "1.5.0",
            "_view_name": "PlayView",
            "description": "",
            "description_tooltip": null,
            "disabled": false,
            "interval": 100,
            "layout": "IPY_MODEL_d53b5c67fcb34fd58d8ba0aba15210bb",
            "max": 0,
            "min": 0,
            "show_repeat": true,
            "step": 1,
            "style": "IPY_MODEL_7818a88eb5df47de85b6613233b2ecc6",
            "value": 0
          }
        },
        "ffb94bd6d77748a982449f3384e29622": {
          "model_module": "@jupyter-widgets/controls",
          "model_name": "IntSliderModel",
          "model_module_version": "1.5.0",
          "state": {
            "_dom_classes": [],
            "_model_module": "@jupyter-widgets/controls",
            "_model_module_version": "1.5.0",
            "_model_name": "IntSliderModel",
            "_view_count": null,
            "_view_module": "@jupyter-widgets/controls",
            "_view_module_version": "1.5.0",
            "_view_name": "IntSliderView",
            "continuous_update": true,
            "description": "",
            "description_tooltip": null,
            "disabled": false,
            "layout": "IPY_MODEL_25fd6f1a62b447b5a20d54aa32e57f70",
            "max": 0,
            "min": 0,
            "orientation": "horizontal",
            "readout": true,
            "readout_format": "d",
            "step": 1,
            "style": "IPY_MODEL_5fa2d09f2e2448938f94e5bbb0f59123",
            "value": 0
          }
        },
        "6672b5e598de4e76bb6381c9ddf465b1": {
          "model_module": "nglview-js-widgets",
          "model_name": "NGLModel",
          "model_module_version": "3.0.8",
          "state": {
            "_camera_orientation": [
              -8.739665279616613,
              -38.275651144579975,
              33.70945751195298,
              0,
              -7.623886166907531,
              -32.836147852908525,
              -39.26064822933343,
              0,
              50.43044076751387,
              -11.597269899930332,
              -0.09338283496708502,
              0,
              -10.222999572753906,
              -23.74500060081482,
              -24.104201342910528,
              1
            ],
            "_camera_str": "orthographic",
            "_dom_classes": [],
            "_gui_theme": null,
            "_ibtn_fullscreen": "IPY_MODEL_39e170df28414ca0b271d8ead25c936e",
            "_igui": null,
            "_iplayer": "IPY_MODEL_26757c4d0131405895a718211bb6c452",
            "_model_module": "nglview-js-widgets",
            "_model_module_version": "3.0.8",
            "_model_name": "NGLModel",
            "_ngl_color_dict": {},
            "_ngl_coordinate_resource": {},
            "_ngl_full_stage_parameters": {
              "impostor": true,
              "quality": "medium",
              "workerDefault": true,
              "sampleLevel": 0,
              "backgroundColor": "white",
              "rotateSpeed": 2,
              "zoomSpeed": 1.2,
              "panSpeed": 1,
              "clipNear": 0,
              "clipFar": 100,
              "clipDist": 10,
              "clipMode": "scene",
              "clipScale": "relative",
              "fogNear": 50,
              "fogFar": 100,
              "cameraFov": 40,
              "cameraEyeSep": 0.3,
              "cameraType": "perspective",
              "lightColor": 14540253,
              "lightIntensity": 1,
              "ambientColor": 14540253,
              "ambientIntensity": 0.2,
              "hoverTimeout": 0,
              "tooltip": true,
              "mousePreset": "default"
            },
            "_ngl_msg_archive": [
              {
                "target": "Stage",
                "type": "call_method",
                "methodName": "loadFile",
                "reconstruc_color_scheme": false,
                "args": [
                  {
                    "type": "blob",
                    "data": "HEADER\nCRYST1    1.000    1.000    1.000  90.00  90.00  90.00 P 1           1   \nATOM      2  O   ACE A   0       5.223  37.840   3.451  1.00  0.00           O  \nATOM      3  CH3 ACE A   0       7.290  39.048   3.591  1.00  0.00           C  \nATOM      4 1HH3 ACE A   0       7.259  39.191   4.661  1.00  0.00           H  \nATOM      5 2HH3 ACE A   0       8.314  38.881   3.290  1.00  0.00           H  \nATOM      6 3HH3 ACE A   0       6.925  39.942   3.107  1.00  0.00           H  \nATOM      7  N   GLY A   1       6.978  36.859   2.598  1.00 28.44           N  \nATOM      8  CA  GLY A   1       6.167  35.714   2.218  1.00 24.46           C  \nATOM      9  C   GLY A   1       5.429  35.057   3.369  1.00 21.53           C  \nATOM     10  O   GLY A   1       5.839  35.160   4.524  1.00 21.07           O  \nATOM     11  N   GLU A   2       4.333  34.378   3.051  1.00 21.15           N  \nATOM     12  CA  GLU A   2       3.459  33.843   4.086  1.00 18.67           C  \nATOM     13  C   GLU A   2       4.125  32.736   4.885  1.00 20.26           C  \nATOM     14  O   GLU A   2       3.878  32.624   6.071  1.00 19.71           O  \nATOM     15  CB  GLU A   2       2.143  33.327   3.496  1.00 24.10           C  \nATOM     16  CG  GLU A   2       2.316  32.267   2.426  1.00 28.89           C  \nATOM     17  CD  GLU A   2       1.002  31.600   2.057  1.00 38.00           C  \nATOM     18  OE1 GLU A   2      -0.056  32.019   2.579  1.00 31.53           O  \nATOM     19  OE2 GLU A   2       1.032  30.651   1.248  1.00 28.01           O1-\nATOM     20  N   VAL A   3       4.961  31.917   4.248  1.00 15.84           N  \nATOM     21  CA  VAL A   3       5.611  30.839   4.992  1.00 15.30           C  \nATOM     22  C   VAL A   3       6.648  31.400   5.973  1.00 21.88           C  \nATOM     23  O   VAL A   3       6.663  31.047   7.162  1.00 17.85           O  \nATOM     24  CB  VAL A   3       6.279  29.833   4.034  1.00 18.09           C  \nATOM     25  CG1 VAL A   3       7.135  28.865   4.834  1.00 22.04           C  \nATOM     26  CG2 VAL A   3       5.219  29.093   3.240  1.00 22.67           C  \nATOM     27  N   ALA A   4       7.492  32.303   5.486  1.00 16.79           N  \nATOM     28  CA  ALA A   4       8.474  32.957   6.333  1.00 19.80           C  \nATOM     29  C   ALA A   4       7.784  33.679   7.496  1.00 18.97           C  \nATOM     30  O   ALA A   4       8.243  33.573   8.636  1.00 19.19           O  \nATOM     31  CB  ALA A   4       9.313  33.932   5.517  1.00 21.16           C  \nATOM     32  N   GLN A   5       6.682  34.386   7.222  1.00 16.78           N  \nATOM     33  CA  GLN A   5       5.954  35.092   8.291  1.00 17.34           C  \nATOM     34  C   GLN A   5       5.366  34.114   9.313  1.00 19.12           C  \nATOM     35  O   GLN A   5       5.358  34.399  10.509  1.00 19.17           O  \nATOM     36  CB  GLN A   5       4.827  35.957   7.707  1.00 21.85           C  \nATOM     37  CG  GLN A   5       5.284  37.165   6.892  1.00 30.91           C  \nATOM     38  CD  GLN A   5       6.117  38.135   7.713  1.00 51.26           C  \nATOM     39  NE2 GLN A   5       7.200  38.630   7.129  1.00 61.27           N  \nATOM     40  OE1 GLN A   5       5.782  38.441   8.858  1.00 64.07           O  \nATOM     41  N   ALA A   6       4.871  32.973   8.847  1.00 15.19           N  \nATOM     42  CA  ALA A   6       4.311  31.983   9.766  1.00 19.23           C  \nATOM     43  C   ALA A   6       5.412  31.408  10.661  1.00 21.09           C  \nATOM     44  O   ALA A   6       5.207  31.156  11.854  1.00 20.03           O  \nATOM     45  CB  ALA A   6       3.596  30.879   8.989  1.00 16.15           C  \nATOM     46  N   ILE A   7       6.588  31.193  10.091  1.00 13.96           N  \nATOM     47  CA  ILE A   7       7.714  30.680  10.866  1.00 13.02           C  \nATOM     48  C   ILE A   7       8.152  31.729  11.909  1.00 19.94           C  \nATOM     49  O   ILE A   7       8.516  31.371  13.020  1.00 18.09           O  \nATOM     50  CB  ILE A   7       8.890  30.278   9.951  1.00 16.03           C  \nATOM     51  CG1 ILE A   7       8.468  29.083   9.094  1.00 13.72           C  \nATOM     52  CG2 ILE A   7      10.122  29.893  10.776  1.00 18.82           C  \nATOM     53  CD1 ILE A   7       9.478  28.745   7.981  1.00 18.40           C  \nATOM     54  N   LYS A   8       8.105  33.017  11.560  1.00 18.37           N  \nATOM     55  CA  LYS A   8       8.404  34.075  12.526  1.00 17.95           C  \nATOM     56  C   LYS A   8       7.413  34.039  13.688  1.00 18.06           C  \nATOM     57  O   LYS A   8       7.760  34.342  14.839  1.00 20.72           O  \nATOM     58  CB  LYS A   8       8.370  35.448  11.848  1.00 19.17           C  \nATOM     59  CG  LYS A   8       9.556  35.718  10.945  1.00 29.77           C  \nATOM     60  CD  LYS A   8       9.465  37.116  10.330  1.00 25.39           C  \nATOM     61  CE  LYS A   8      10.777  37.513   9.684  1.00 42.41           C  \nATOM     62  NZ  LYS A   8      10.697  38.864   9.059  0.00 40.61           N1+\nATOM     63  N   GLU A   9       6.170  33.681  13.384  1.00 17.28           N  \nATOM     64  CA  GLU A   9       5.148  33.546  14.430  1.00 16.71           C  \nATOM     65  C   GLU A   9       5.481  32.410  15.388  1.00 18.53           C  \nATOM     66  O   GLU A   9       5.204  32.501  16.578  1.00 17.70           O  \nATOM     67  CB  GLU A   9       3.770  33.295  13.820  1.00 26.71           C  \nATOM     68  CG  GLU A   9       3.170  34.475  13.087  1.00 31.91           C  \nATOM     69  CD  GLU A   9       1.748  34.203  12.629  1.00 57.57           C  \nATOM     70  OE1 GLU A   9       0.989  33.562  13.388  1.00 65.04           O  \nATOM     71  OE2 GLU A   9       1.393  34.613  11.503  1.00 69.01           O1-\nATOM     72  N   VAL A  10       6.039  31.328  14.857  1.00 16.58           N  \nATOM     73  CA  VAL A  10       6.494  30.224  15.704  1.00 16.62           C  \nATOM     74  C   VAL A  10       7.618  30.707  16.618  1.00 17.96           C  \nATOM     75  O   VAL A  10       7.617  30.400  17.816  1.00 18.02           O  \nATOM     76  CB  VAL A  10       6.944  29.020  14.848  1.00 16.43           C  \nATOM     77  CG1 VAL A  10       7.717  27.994  15.689  1.00 17.29           C  \nATOM     78  CG2 VAL A  10       5.727  28.383  14.211  1.00 16.85           C  \nATOM     79  N   ALA A  11       8.566  31.469  16.067  1.00 14.71           N  \nATOM     80  CA  ALA A  11       9.667  31.999  16.863  1.00 16.14           C  \nATOM     81  C   ALA A  11       9.135  32.857  18.007  1.00 17.83           C  \nATOM     82  O   ALA A  11       9.603  32.744  19.134  1.00 19.14           O  \nATOM     83  CB  ALA A  11      10.627  32.807  15.991  1.00 19.26           C  \nATOM     84  N  ALYS A  12       8.167  33.724  17.707  1.00 17.24           N  \nATOM     85  CA ALYS A  12       7.576  34.580  18.735  0.61 18.72           C  \nATOM     86  C  ALYS A  12       6.864  33.756  19.805  1.00 16.45           C  \nATOM     87  O  ALYS A  12       6.943  34.072  20.997  1.00 19.64           O  \nATOM     88  CB ALYS A  12       6.601  35.585  18.112  0.61 19.58           C  \nATOM     89  CG ALYS A  12       7.278  36.753  17.424  0.61 23.05           C  \nATOM     90  CD ALYS A  12       6.295  37.886  17.183  0.61 43.33           C  \nATOM     91  CE ALYS A  12       7.020  39.207  16.959  0.61 49.21           C  \nATOM     92  NZ ALYS A  12       6.091  40.375  16.940  0.61 53.81           N1+\nATOM     93  N   ALA A  13       6.184  32.690  19.398  1.00 17.94           N  \nATOM     94  CA  ALA A  13       5.469  31.864  20.365  1.00 19.77           C  \nATOM     95  C   ALA A  13       6.463  31.168  21.285  1.00 18.11           C  \nATOM     96  O   ALA A  13       6.217  31.002  22.484  1.00 18.67           O  \nATOM     97  CB  ALA A  13       4.583  30.843  19.660  1.00 16.47           C  \nATOM     98  N   ILE A  14       7.593  30.761  20.731  1.00 13.42           N  \nATOM     99  CA  ILE A  14       8.619  30.100  21.532  1.00 15.65           C  \nATOM    100  C   ILE A  14       9.224  31.087  22.541  1.00 24.80           C  \nATOM    101  O   ILE A  14       9.571  30.694  23.641  1.00 18.51           O  \nATOM    102  CB  ILE A  14       9.715  29.473  20.639  1.00 15.82           C  \nATOM    103  CG1 ILE A  14       9.133  28.288  19.871  1.00 15.60           C  \nATOM    104  CG2 ILE A  14      10.899  28.998  21.467  1.00 18.86           C  \nATOM    105  CD1 ILE A  14      10.076  27.756  18.789  1.00 16.09           C  \nATOM    106  N   LYS A  15       9.350  32.363  22.177  1.00 18.95           N  \nATOM    107  CA  LYS A  15       9.818  33.359  23.135  1.00 19.11           C  \nATOM    108  C   LYS A  15       8.855  33.454  24.324  1.00 20.79           C  \nATOM    109  O   LYS A  15       9.275  33.664  25.463  1.00 21.01           O  \nATOM    110  CB  LYS A  15       9.961  34.734  22.474  1.00 19.87           C  \nATOM    111  CG  LYS A  15      11.104  34.788  21.488  1.00 24.04           C  \nATOM    112  CD  LYS A  15      11.282  36.179  20.930  1.00 32.83           C  \nATOM    113  CE  LYS A  15      12.508  36.255  20.042  1.00 49.68           C  \nATOM    114  NZ  LYS A  15      13.719  35.637  20.637  1.00 48.32           N1+\nATOM    115  N   GLU A  16       7.562  33.305  24.042  1.00 20.46           N  \nATOM    116  CA  GLU A  16       6.536  33.314  25.085  1.00 20.11           C  \nATOM    117  C   GLU A  16       6.726  32.149  26.048  1.00 21.90           C  \nATOM    118  O   GLU A  16       6.446  32.260  27.234  1.00 21.78           O  \nATOM    119  CB  GLU A  16       5.135  33.257  24.467  1.00 21.45           C  \nATOM    120  CG  GLU A  16       4.742  34.514  23.680  1.00 17.96           C  \nATOM    121  CD  GLU A  16       4.578  35.738  24.567  1.00 40.55           C  \nATOM    122  OE1 GLU A  16       4.087  35.590  25.710  1.00 35.99           O  \nATOM    123  OE2 GLU A  16       4.942  36.851  24.128  1.00 44.66           O1-\nATOM    124  N   VAL A  17       7.170  31.020  25.522  1.00 17.86           N  \nATOM    125  CA  VAL A  17       7.480  29.863  26.352  1.00 20.40           C  \nATOM    126  C   VAL A  17       8.654  30.189  27.267  1.00 23.44           C  \nATOM    127  O   VAL A  17       8.610  29.891  28.476  1.00 17.91           O  \nATOM    128  CB  VAL A  17       7.785  28.638  25.472  1.00 16.07           C  \nATOM    129  CG1 VAL A  17       8.389  27.517  26.310  1.00 16.10           C  \nATOM    130  CG2 VAL A  17       6.501  28.186  24.768  1.00 17.31           C  \nATOM    131  N   ALA A  18       9.690  30.827  26.708  1.00 17.29           N  \nATOM    132  CA  ALA A  18      10.854  31.220  27.501  1.00 18.50           C  \nATOM    133  C   ALA A  18      10.430  32.151  28.636  1.00 21.02           C  \nATOM    134  O   ALA A  18      10.837  31.949  29.778  1.00 22.01           O  \nATOM    135  CB  ALA A  18      11.929  31.887  26.633  1.00 20.11           C  \nATOM    136  N  ATRP A  19       9.587  33.144  28.342  1.00 18.97           N  \nATOM    137  CA ATRP A  19       9.077  34.039  29.383  0.69 20.70           C  \nATOM    138  C  ATRP A  19       8.245  33.299  30.427  1.00 21.16           C  \nATOM    139  O  ATRP A  19       8.284  33.632  31.615  1.00 22.08           O  \nATOM    140  CB ATRP A  19       8.232  35.163  28.779  0.69 31.04           C  \nATOM    141  CG ATRP A  19       9.015  36.189  28.025  0.69 26.67           C  \nATOM    142  CD1ATRP A  19       8.977  36.419  26.679  0.69 37.08           C  \nATOM    143  CD2ATRP A  19       9.954  37.122  28.566  0.69 35.71           C  \nATOM    144  CE2ATRP A  19      10.443  37.888  27.488  0.69 25.19           C  \nATOM    145  CE3ATRP A  19      10.420  37.390  29.856  0.69 46.15           C  \nATOM    146  NE1ATRP A  19       9.834  37.438  26.350  0.69 30.96           N  \nATOM    147  CZ2ATRP A  19      11.383  38.903  27.665  0.69 35.16           C  \nATOM    148  CZ3ATRP A  19      11.354  38.397  30.029  0.69 42.17           C  \nATOM    149  CH2ATRP A  19      11.824  39.142  28.940  0.69 39.07           C  \nATOM    150  N   ALA A  20       7.464  32.318  29.994  1.00 20.84           N  \nATOM    151  CA  ALA A  20       6.634  31.559  30.926  1.00 19.76           C  \nATOM    152  C   ALA A  20       7.510  30.747  31.872  1.00 19.66           C  \nATOM    153  O   ALA A  20       7.237  30.642  33.079  1.00 20.46           O  \nATOM    154  CB  ALA A  20       5.660  30.651  30.167  1.00 18.87           C  \nATOM    155  N   ILE A  21       8.592  30.197  31.343  1.00 19.20           N  \nATOM    156  CA  ILE A  21       9.509  29.416  32.165  1.00 19.07           C  \nATOM    157  C   ILE A  21      10.221  30.311  33.192  1.00 24.71           C  \nATOM    158  O   ILE A  21      10.457  29.900  34.326  1.00 20.83           O  \nATOM    159  CB  ILE A  21      10.518  28.667  31.283  1.00 17.89           C  \nATOM    160  CG1 ILE A  21       9.792  27.566  30.494  1.00 16.17           C  \nATOM    161  CG2 ILE A  21      11.621  28.042  32.120  1.00 18.06           C  \nATOM    162  CD1 ILE A  21      10.650  26.935  29.415  1.00 18.00           C  \nATOM    163  N   LYS A  22      10.534  31.547  32.815  1.00 22.21           N  \nATOM    164  CA  LYS A  22      11.094  32.489  33.773  1.00 23.34           C  \nATOM    165  C   LYS A  22      10.144  32.747  34.942  1.00 21.47           C  \nATOM    166  O   LYS A  22      10.593  32.985  36.064  1.00 25.67           O  \nATOM    167  CB  LYS A  22      11.454  33.797  33.083  1.00 22.13           C  \nATOM    168  CG  LYS A  22      12.722  33.678  32.268  1.00 28.74           C  \nATOM    169  CD  LYS A  22      13.032  34.944  31.487  1.00 27.38           C  \nATOM    170  CE  LYS A  22      14.426  34.830  30.882  1.00 37.93           C  \nATOM    171  NZ  LYS A  22      14.859  36.055  30.162  1.00 38.16           N1+\nATOM    172  N   GLU A  23       8.842  32.725  34.676  1.00 24.31           N  \nATOM    173  CA  GLU A  23       7.850  32.885  35.735  1.00 25.47           C  \nATOM    174  C   GLU A  23       7.887  31.700  36.692  1.00 24.12           C  \nATOM    175  O   GLU A  23       7.643  31.858  37.891  1.00 25.43           O  \nATOM    176  CB  GLU A  23       6.437  33.047  35.165  1.00 27.98           C  \nATOM    177  CG  GLU A  23       6.258  34.314  34.326  1.00 30.97           C  \nATOM    178  CD  GLU A  23       4.804  34.707  34.123  1.00 50.78           C  \nATOM    179  OE1 GLU A  23       4.559  35.781  33.532  1.00 67.15           O  \nATOM    180  OE2 GLU A  23       3.904  33.945  34.525  1.00 42.95           O1-\nATOM    181  N   VAL A  24       8.169  30.510  36.167  1.00 21.16           N  \nATOM    182  CA  VAL A  24       8.319  29.337  37.026  1.00 22.44           C  \nATOM    183  C   VAL A  24       9.526  29.527  37.926  1.00 25.38           C  \nATOM    184  O   VAL A  24       9.455  29.266  39.129  1.00 22.22           O  \nATOM    185  CB  VAL A  24       8.476  28.033  36.210  1.00 20.27           C  \nATOM    186  CG1 VAL A  24       8.912  26.871  37.115  1.00 24.68           C  \nATOM    187  CG2 VAL A  24       7.170  27.697  35.488  1.00 23.89           C  \nATOM    188  N   ALA A  25      10.632  30.003  37.354  1.00 21.96           N  \nATOM    189  CA  ALA A  25      11.834  30.247  38.148  1.00 22.26           C  \nATOM    190  C   ALA A  25      11.564  31.244  39.259  1.00 23.65           C  \nATOM    191  O   ALA A  25      11.964  31.019  40.407  1.00 25.39           O  \nATOM    192  CB  ALA A  25      12.975  30.742  37.262  1.00 28.49           C  \nATOM    193  N   GLN A  26      10.870  32.335  38.928  1.00 25.90           N  \nATOM    194  CA  GLN A  26      10.574  33.373  39.915  1.00 28.89           C  \nATOM    195  C   GLN A  26       9.622  32.840  40.980  1.00 28.91           C  \nATOM    196  O   GLN A  26       9.739  33.189  42.148  1.00 29.27           O  \nATOM    197  CB  GLN A  26       9.982  34.612  39.232  1.00 32.99           C  \nATOM    198  CG  GLN A  26      10.974  35.396  38.392  1.00 34.05           C  \nATOM    199  CD  GLN A  26      11.150  36.819  38.885  1.00 69.83           C  \nATOM    200  NE2 GLN A  26      10.130  37.646  38.688  1.00 78.07           N  \nATOM    201  OE1 GLN A  26      12.195  37.172  39.433  1.00 78.19           O  \nATOM    202  N   ALA A  27       8.686  31.984  40.579  1.00 27.72           N  \nATOM    203  CA  ALA A  27       7.754  31.393  41.535  1.00 29.56           C  \nATOM    204  C   ALA A  27       8.492  30.501  42.527  1.00 31.31           C  \nATOM    205  O   ALA A  27       8.193  30.505  43.721  1.00 30.46           O  \nATOM    206  CB  ALA A  27       6.682  30.615  40.831  1.00 27.46           C  \nATOM    207  N   ILE A  28       9.451  29.740  42.021  1.00 28.50           N  \nATOM    208  CA  ILE A  28      10.274  28.875  42.857  1.00 26.48           C  \nATOM    209  C   ILE A  28      11.126  29.718  43.798  1.00 33.55           C  \nATOM    210  O   ILE A  28      11.292  29.371  44.971  1.00 29.85           O  \nATOM    211  CB  ILE A  28      11.153  27.945  41.992  1.00 25.75           C  \nATOM    212  CG1 ILE A  28      10.264  26.936  41.269  1.00 24.44           C  \nATOM    213  CG2 ILE A  28      12.183  27.211  42.848  1.00 24.98           C  \nATOM    214  CD1 ILE A  28      11.001  26.073  40.260  1.00 26.37           C  \nATOM    215  N   LYS A  29      11.674  30.820  43.299  1.00 32.38           N  \nATOM    216  CA  LYS A  29      12.468  31.686  44.162  1.00 33.45           C  \nATOM    217  C   LYS A  29      11.647  32.275  45.297  1.00 35.82           C  \nATOM    218  O   LYS A  29      12.145  32.407  46.413  1.00 42.33           O  \nATOM    219  CB  LYS A  29      13.075  32.843  43.360  1.00 45.32           C  \nATOM    220  CG  LYS A  29      14.512  32.693  42.930  1.00 56.21           C  \nATOM    221  CD  LYS A  29      15.158  34.076  42.909  1.00 54.67           C  \nATOM    222  CE  LYS A  29      16.670  34.002  42.893  0.00 49.83           C  \nATOM    223  NZ  LYS A  29      17.185  32.864  43.703  0.00 46.50           N1+\nATOM    224  N   GLY A  30      10.417  32.674  44.979  1.00 33.67           N  \nATOM    225  CA  GLY A  30       9.422  33.116  45.944  1.00 33.28           C  \nATOM    226  C   GLY A  30       9.503  32.422  47.284  1.00 46.18           C  \nATOM    227  O   GLY A  30       9.462  33.097  48.317  1.00 52.74           O  \nTER   \nATOM    228  N   NH2 A  31       9.613  31.138  47.348  1.00  0.00           N  \nATOM    229  H1  NH2 A  31       9.646  30.591  46.500  1.00  0.00           H  \nATOM    230  H2  NH2 A  31       9.667  30.680  48.247  1.00  0.00           H  \nATOM    231  C   ACE B   0      -3.209  30.194   2.751  1.00  0.00           C  \nATOM    232  O   ACE B   0      -3.988  29.253   2.952  1.00  0.00           O  \nATOM    233  CH3 ACE B   0      -3.560  31.603   3.179  1.00  0.00           C  \nATOM    234 1HH3 ACE B   0      -3.714  31.637   4.248  1.00  0.00           H  \nATOM    235 2HH3 ACE B   0      -2.758  32.279   2.919  1.00  0.00           H  \nATOM    236 3HH3 ACE B   0      -4.464  31.925   2.684  1.00  0.00           H  \nATOM    237  N   GLY B   1      -2.080  29.970   2.168  1.00 25.71           N  \nATOM    238  CA  GLY B   1      -1.732  28.623   1.753  1.00 27.51           C  \nATOM    239  C   GLY B   1      -1.749  27.619   2.883  1.00 26.65           C  \nATOM    240  O   GLY B   1      -1.616  27.992   4.050  1.00 20.33           O  \nATOM    241  N   GLU B   2      -1.911  26.343   2.546  1.00 22.68           N  \nATOM    242  CA  GLU B   2      -2.066  25.309   3.566  1.00 19.14           C  \nATOM    243  C   GLU B   2      -0.803  25.127   4.394  1.00 19.68           C  \nATOM    244  O   GLU B   2      -0.900  24.846   5.585  1.00 19.92           O  \nATOM    245  CB  GLU B   2      -2.463  23.961   2.935  1.00 27.91           C  \nATOM    246  CG  GLU B   2      -1.482  23.480   1.895  1.00 27.23           C  \nATOM    247  CD  GLU B   2      -1.720  22.040   1.471  1.00 35.03           C  \nATOM    248  OE1 GLU B   2      -2.706  21.423   1.930  1.00 32.24           O  \nATOM    249  OE2 GLU B   2      -0.909  21.529   0.675  1.00 30.73           O1-\nATOM    250  N   VAL B   3       0.376  25.292   3.795  1.00 18.07           N  \nATOM    251  CA  VAL B   3       1.604  25.084   4.565  1.00 15.70           C  \nATOM    252  C   VAL B   3       1.767  26.212   5.583  1.00 16.87           C  \nATOM    253  O   VAL B   3       2.018  25.953   6.772  1.00 16.64           O  \nATOM    254  CB  VAL B   3       2.859  24.975   3.674  1.00 16.34           C  \nATOM    255  CG1 VAL B   3       4.136  25.056   4.525  1.00 18.89           C  \nATOM    256  CG2 VAL B   3       2.816  23.659   2.888  1.00 23.15           C  \nATOM    257  N   ALA B   4       1.596  27.451   5.135  1.00 16.17           N  \nATOM    258  CA  ALA B   4       1.633  28.582   6.068  1.00 17.66           C  \nATOM    259  C   ALA B   4       0.552  28.439   7.137  1.00 18.92           C  \nATOM    260  O   ALA B   4       0.785  28.750   8.319  1.00 16.94           O  \nATOM    261  CB  ALA B   4       1.474  29.895   5.332  1.00 21.14           C  \nATOM    262  N   GLN B   5      -0.643  28.007   6.742  1.00 16.82           N  \nATOM    263  CA  GLN B   5      -1.712  27.852   7.737  1.00 17.02           C  \nATOM    264  C   GLN B   5      -1.391  26.771   8.774  1.00 17.57           C  \nATOM    265  O   GLN B   5      -1.708  26.930   9.958  1.00 21.07           O  \nATOM    266  CB  GLN B   5      -3.046  27.543   7.059  1.00 20.65           C  \nATOM    267  CG  GLN B   5      -3.613  28.708   6.252  1.00 33.57           C  \nATOM    268  CD  GLN B   5      -3.833  29.944   7.106  1.00 46.54           C  \nATOM    269  NE2 GLN B   5      -3.432  31.100   6.591  1.00 51.78           N  \nATOM    270  OE1 GLN B   5      -4.347  29.858   8.222  1.00 60.72           O  \nATOM    271  N   ALA B   6      -0.761  25.683   8.337  1.00 16.53           N  \nATOM    272  CA  ALA B   6      -0.378  24.622   9.276  1.00 14.57           C  \nATOM    273  C   ALA B   6       0.701  25.128  10.225  1.00 18.31           C  \nATOM    274  O   ALA B   6       0.689  24.821  11.407  1.00 15.47           O  \nATOM    275  CB  ALA B   6       0.096  23.367   8.521  1.00 15.45           C  \nATOM    276  N   ILE B   7       1.637  25.911   9.711  1.00 16.64           N  \nATOM    277  CA  ILE B   7       2.681  26.464  10.568  1.00 14.35           C  \nATOM    278  C   ILE B   7       2.058  27.425  11.590  1.00 17.53           C  \nATOM    279  O   ILE B   7       2.480  27.466  12.736  1.00 19.02           O  \nATOM    280  CB  ILE B   7       3.774  27.169   9.736  1.00 15.02           C  \nATOM    281  CG1 ILE B   7       4.506  26.141   8.871  1.00 14.08           C  \nATOM    282  CG2 ILE B   7       4.760  27.895  10.650  1.00 20.33           C  \nATOM    283  CD1 ILE B   7       5.479  26.763   7.872  1.00 17.42           C  \nATOM    284  N   LYS B   8       1.040  28.181  11.184  1.00 16.69           N  \nATOM    285  CA  LYS B   8       0.324  29.039  12.124  1.00 16.38           C  \nATOM    286  C   LYS B   8      -0.350  28.219  13.229  1.00 18.10           C  \nATOM    287  O   LYS B   8      -0.460  28.678  14.356  1.00 17.92           O  \nATOM    288  CB  LYS B   8      -0.727  29.886  11.416  1.00 23.09           C  \nATOM    289  CG  LYS B   8      -0.179  31.029  10.601  1.00 20.18           C  \nATOM    290  CD  LYS B   8      -1.334  31.814  10.015  1.00 31.35           C  \nATOM    291  CE  LYS B   8      -0.873  33.129   9.445  1.00 52.16           C  \nATOM    292  NZ  LYS B   8       0.190  32.898   8.444  1.00 54.76           N1+\nATOM    293  N   GLU B   9      -0.831  27.020  12.901  1.00 14.63           N  \nATOM    294  CA  GLU B   9      -1.404  26.137  13.928  1.00 16.59           C  \nATOM    295  C   GLU B   9      -0.352  25.697  14.941  1.00 16.66           C  \nATOM    296  O   GLU B   9      -0.644  25.558  16.149  1.00 16.51           O  \nATOM    297  CB  GLU B   9      -2.041  24.896  13.290  1.00 18.81           C  \nATOM    298  CG  GLU B   9      -3.329  25.179  12.549  1.00 28.63           C  \nATOM    299  CD  GLU B   9      -4.015  23.913  12.080  1.00 46.13           C  \nATOM    300  OE1 GLU B   9      -3.989  22.907  12.821  1.00 52.97           O  \nATOM    301  OE2 GLU B   9      -4.604  23.933  10.982  1.00 50.77           O1-\nATOM    302  N   VAL B  10       0.863  25.462  14.457  1.00 15.61           N  \nATOM    303  CA  VAL B  10       1.990  25.142  15.333  1.00 13.24           C  \nATOM    304  C   VAL B  10       2.266  26.323  16.253  1.00 17.03           C  \nATOM    305  O   VAL B  10       2.440  26.125  17.452  1.00 17.03           O  \nATOM    306  CB  VAL B  10       3.259  24.761  14.523  1.00 14.14           C  \nATOM    307  CG1 VAL B  10       4.511  24.771  15.415  1.00 15.26           C  \nATOM    308  CG2 VAL B  10       3.070  23.381  13.869  1.00 14.84           C  \nATOM    309  N   ALA B  11       2.287  27.550  15.723  1.00 14.34           N  \nATOM    310  CA  ALA B  11       2.472  28.710  16.608  1.00 17.61           C  \nATOM    311  C   ALA B  11       1.378  28.770  17.681  1.00 17.39           C  \nATOM    312  O   ALA B  11       1.648  29.059  18.851  1.00 15.73           O  \nATOM    313  CB  ALA B  11       2.492  30.002  15.806  1.00 16.86           C  \nATOM    314  N   LYS B  12       0.133  28.529  17.287  1.00 17.52           N  \nATOM    315  CA  LYS B  12      -0.988  28.561  18.230  1.00 18.46           C  \nATOM    316  C   LYS B  12      -0.834  27.524  19.331  1.00 16.42           C  \nATOM    317  O   LYS B  12      -1.087  27.806  20.508  1.00 18.57           O  \nATOM    318  CB  LYS B  12      -2.310  28.308  17.493  1.00 18.19           C  \nATOM    319  CG  LYS B  12      -3.516  29.000  18.101  1.00 32.15           C  \nATOM    320  CD  LYS B  12      -4.794  28.639  17.355  1.00 35.52           C  \nATOM    321  CE  LYS B  12      -6.009  29.262  18.021  1.00 51.22           C  \nATOM    322  NZ  LYS B  12      -5.797  30.717  18.290  1.00 44.27           N1+\nATOM    323  N   ALA B  13      -0.384  26.333  18.959  1.00 17.91           N  \nATOM    324  CA  ALA B  13      -0.188  25.289  19.943  1.00 14.82           C  \nATOM    325  C   ALA B  13       0.952  25.639  20.893  1.00 18.58           C  \nATOM    326  O   ALA B  13       0.873  25.337  22.076  1.00 15.56           O  \nATOM    327  CB  ALA B  13       0.070  23.937  19.255  1.00 15.41           C  \nATOM    328  N   ILE B  14       2.002  26.281  20.389  1.00 15.11           N  \nATOM    329  CA  ILE B  14       3.139  26.653  21.238  1.00 14.31           C  \nATOM    330  C   ILE B  14       2.712  27.707  22.279  1.00 18.18           C  \nATOM    331  O   ILE B  14       3.138  27.668  23.448  1.00 15.88           O  \nATOM    332  CB  ILE B  14       4.329  27.159  20.381  1.00 15.68           C  \nATOM    333  CG1 ILE B  14       4.918  26.003  19.574  1.00 16.76           C  \nATOM    334  CG2 ILE B  14       5.424  27.766  21.263  1.00 17.07           C  \nATOM    335  CD1 ILE B  14       5.940  26.458  18.552  1.00 18.11           C  \nATOM    336  N   LYS B  15       1.830  28.616  21.877  1.00 15.26           N  \nATOM    337  CA  LYS B  15       1.249  29.567  22.812  1.00 15.76           C  \nATOM    338  C   LYS B  15       0.447  28.867  23.918  1.00 17.61           C  \nATOM    339  O   LYS B  15       0.437  29.313  25.075  1.00 17.96           O  \nATOM    340  CB  LYS B  15       0.369  30.565  22.065  1.00 23.84           C  \nATOM    341  CG  LYS B  15       1.179  31.551  21.245  1.00 23.57           C  \nATOM    342  CD  LYS B  15       0.283  32.614  20.607  1.00 25.52           C  \nATOM    343  CE  LYS B  15       0.317  32.582  19.108  1.00 27.49           C  \nATOM    344  NZ  LYS B  15      -0.421  33.759  18.544  1.00 33.14           N1+\nATOM    345  N   GLU B  16      -0.241  27.782  23.574  1.00 14.64           N  \nATOM    346  CA  GLU B  16      -0.965  27.003  24.586  1.00 16.12           C  \nATOM    347  C   GLU B  16       0.003  26.377  25.595  1.00 15.30           C  \nATOM    348  O   GLU B  16      -0.307  26.249  26.788  1.00 16.84           O  \nATOM    349  CB  GLU B  16      -1.808  25.911  23.918  1.00 17.28           C  \nATOM    350  CG  GLU B  16      -2.971  26.442  23.110  1.00 21.13           C  \nATOM    351  CD  GLU B  16      -3.862  25.330  22.587  1.00 43.02           C  \nATOM    352  OE1 GLU B  16      -3.915  24.253  23.218  1.00 49.05           O  \nATOM    353  OE2 GLU B  16      -4.500  25.530  21.535  1.00 55.01           O1-\nATOM    354  N   VAL B  17       1.168  25.963  25.119  1.00 14.58           N  \nATOM    355  CA  VAL B  17       2.221  25.446  25.985  1.00 14.93           C  \nATOM    356  C   VAL B  17       2.698  26.559  26.916  1.00 18.74           C  \nATOM    357  O   VAL B  17       2.871  26.345  28.123  1.00 16.88           O  \nATOM    358  CB  VAL B  17       3.406  24.867  25.167  1.00 15.84           C  \nATOM    359  CG1 VAL B  17       4.611  24.613  26.068  1.00 16.46           C  \nATOM    360  CG2 VAL B  17       2.985  23.561  24.471  1.00 16.99           C  \nATOM    361  N   ALA B  18       2.886  27.767  26.382  1.00 17.84           N  \nATOM    362  CA  ALA B  18       3.287  28.883  27.250  1.00 20.58           C  \nATOM    363  C   ALA B  18       2.271  29.135  28.369  1.00 18.49           C  \nATOM    364  O   ALA B  18       2.648  29.372  29.517  1.00 20.98           O  \nATOM    365  CB  ALA B  18       3.488  30.153  26.438  1.00 17.24           C  \nATOM    366  N   TRP B  19       0.984  29.104  28.036  1.00 17.25           N  \nATOM    367  CA  TRP B  19      -0.044  29.313  29.051  1.00 17.08           C  \nATOM    368  C   TRP B  19      -0.009  28.206  30.091  1.00 17.13           C  \nATOM    369  O   TRP B  19      -0.128  28.471  31.288  1.00 17.90           O  \nATOM    370  CB  TRP B  19      -1.438  29.391  28.421  1.00 19.43           C  \nATOM    371  CG  TRP B  19      -2.489  29.633  29.430  1.00 19.53           C  \nATOM    372  CD1 TRP B  19      -3.426  28.746  29.868  1.00 21.23           C  \nATOM    373  CD2 TRP B  19      -2.655  30.817  30.211  1.00 25.02           C  \nATOM    374  CE2 TRP B  19      -3.741  30.595  31.081  1.00 30.57           C  \nATOM    375  CE3 TRP B  19      -2.001  32.052  30.248  1.00 23.17           C  \nATOM    376  NE1 TRP B  19      -4.198  29.322  30.850  1.00 29.32           N  \nATOM    377  CZ2 TRP B  19      -4.186  31.561  31.975  1.00 28.76           C  \nATOM    378  CZ3 TRP B  19      -2.446  33.010  31.135  1.00 22.57           C  \nATOM    379  CH2 TRP B  19      -3.525  32.760  31.989  1.00 29.87           C  \nATOM    380  N   ALA B  20       0.207  26.972  29.655  1.00 18.49           N  \nATOM    381  CA  ALA B  20       0.259  25.880  30.621  1.00 16.61           C  \nATOM    382  C   ALA B  20       1.429  26.045  31.595  1.00 20.40           C  \nATOM    383  O   ALA B  20       1.318  25.749  32.796  1.00 18.19           O  \nATOM    384  CB  ALA B  20       0.352  24.538  29.889  1.00 17.69           C  \nATOM    385  N   ILE B  21       2.553  26.534  31.097  1.00 18.07           N  \nATOM    386  CA  ILE B  21       3.716  26.754  31.954  1.00 17.06           C  \nATOM    387  C   ILE B  21       3.438  27.901  32.963  1.00 21.10           C  \nATOM    388  O   ILE B  21       3.854  27.845  34.136  1.00 22.38           O  \nATOM    389  CB  ILE B  21       4.975  27.040  31.095  1.00 17.82           C  \nATOM    390  CG1 ILE B  21       5.303  25.815  30.222  1.00 18.52           C  \nATOM    391  CG2 ILE B  21       6.166  27.429  31.968  1.00 20.68           C  \nATOM    392  CD1 ILE B  21       6.378  26.080  29.180  1.00 21.87           C  \nATOM    393  N   LYS B  22       2.719  28.937  32.527  1.00 19.97           N  \nATOM    394  CA  LYS B  22       2.264  29.962  33.474  1.00 19.37           C  \nATOM    395  C   LYS B  22       1.345  29.376  34.554  1.00 25.11           C  \nATOM    396  O   LYS B  22       1.377  29.812  35.713  1.00 22.02           O  \nATOM    397  CB  LYS B  22       1.552  31.101  32.743  1.00 21.83           C  \nATOM    398  CG  LYS B  22       2.492  32.076  32.074  1.00 27.45           C  \nATOM    399  CD  LYS B  22       1.725  33.115  31.276  1.00 36.15           C  \nATOM    400  CE  LYS B  22       2.628  34.267  30.851  1.00 43.33           C  \nATOM    401  NZ  LYS B  22       3.992  33.820  30.468  1.00 49.66           N1+\nATOM    402  N   GLU B  23       0.536  28.386  34.181  1.00 23.84           N  \nATOM    403  CA  GLU B  23      -0.337  27.705  35.143  1.00 21.04           C  \nATOM    404  C   GLU B  23       0.489  26.934  36.177  1.00 20.45           C  \nATOM    405  O   GLU B  23       0.120  26.841  37.364  1.00 22.60           O  \nATOM    406  CB  GLU B  23      -1.300  26.767  34.406  1.00 23.51           C  \nATOM    407  CG  GLU B  23      -2.311  27.495  33.532  1.00 26.94           C  \nATOM    408  CD  GLU B  23      -3.425  26.594  33.026  1.00 32.42           C  \nATOM    409  OE1 GLU B  23      -3.128  25.672  32.234  1.00 37.09           O  \nATOM    410  OE2 GLU B  23      -4.591  26.814  33.407  1.00 50.62           O1-\nATOM    411  N   VAL B  24       1.614  26.385  35.729  1.00 21.58           N  \nATOM    412  CA  VAL B  24       2.536  25.722  36.648  1.00 22.64           C  \nATOM    413  C   VAL B  24       3.091  26.753  37.613  1.00 28.38           C  \nATOM    414  O   VAL B  24       3.169  26.509  38.811  1.00 22.59           O  \nATOM    415  CB  VAL B  24       3.679  25.032  35.902  1.00 22.61           C  \nATOM    416  CG1 VAL B  24       4.756  24.585  36.878  1.00 20.22           C  \nATOM    417  CG2 VAL B  24       3.128  23.855  35.131  1.00 23.24           C  \nATOM    418  N   ALA B  25       3.461  27.918  37.087  1.00 24.48           N  \nATOM    419  CA  ALA B  25       3.966  28.999  37.938  1.00 26.23           C  \nATOM    420  C   ALA B  25       2.938  29.426  38.993  1.00 25.84           C  \nATOM    421  O   ALA B  25       3.325  29.622  40.154  1.00 29.53           O  \nATOM    422  CB  ALA B  25       4.386  30.185  37.088  1.00 25.61           C  \nATOM    423  N  AGLN B  26       1.658  29.579  38.608  1.00 28.47           N  \nATOM    424  CA AGLN B  26       0.618  29.902  39.554  0.43 26.82           C  \nATOM    425  C  AGLN B  26       0.555  28.831  40.647  1.00 25.15           C  \nATOM    426  O  AGLN B  26       0.443  29.123  41.834  1.00 28.57           O  \nATOM    427  CB AGLN B  26      -0.722  30.021  38.826  0.43 24.40           C  \nATOM    428  CG AGLN B  26      -1.703  30.950  39.483  0.43 30.29           C  \nATOM    429  CD AGLN B  26      -3.155  30.649  39.140  0.43 35.60           C  \nATOM    430  NE2AGLN B  26      -4.055  31.500  39.626  0.43 48.28           N  \nATOM    431  OE1AGLN B  26      -3.468  29.657  38.482  0.43 40.56           O  \nATOM    432  N   ALA B  27       0.633  27.575  40.226  1.00 25.24           N  \nATOM    433  CA  ALA B  27       0.482  26.469  41.173  1.00 27.85           C  \nATOM    434  C   ALA B  27       1.587  26.526  42.214  1.00 30.23           C  \nATOM    435  O   ALA B  27       1.339  26.351  43.404  1.00 27.54           O  \nATOM    436  CB  ALA B  27       0.488  25.120  40.446  1.00 25.82           C  \nATOM    437  N   ILE B  28       2.801  26.821  41.770  1.00 27.12           N  \nATOM    438  CA  ILE B  28       3.934  26.949  42.676  1.00 31.03           C  \nATOM    439  C   ILE B  28       3.751  28.136  43.625  1.00 34.68           C  \nATOM    440  O   ILE B  28       4.023  28.030  44.824  1.00 36.13           O  \nATOM    441  CB  ILE B  28       5.257  27.104  41.886  1.00 31.17           C  \nATOM    442  CG1 ILE B  28       5.554  25.822  41.099  1.00 30.20           C  \nATOM    443  CG2 ILE B  28       6.407  27.472  42.823  1.00 28.57           C  \nATOM    444  CD1 ILE B  28       6.743  25.921  40.174  1.00 29.52           C  \nATOM    445  N   LYS B  29       3.279  29.259  43.092  1.00 32.67           N  \nATOM    446  CA  LYS B  29       3.045  30.458  43.899  1.00 40.15           C  \nATOM    447  C   LYS B  29       1.943  30.213  44.921  1.00 40.35           C  \nATOM    448  O   LYS B  29       2.000  30.717  46.046  1.00 43.00           O  \nATOM    449  CB  LYS B  29       2.666  31.634  42.998  1.00 41.73           C  \nATOM    450  CG  LYS B  29       3.834  32.338  42.347  1.00 44.86           C  \nATOM    451  CD  LYS B  29       3.372  33.557  41.560  1.00 49.30           C  \nATOM    452  CE  LYS B  29       3.250  34.786  42.446  0.00 45.12           C  \nATOM    453  NZ  LYS B  29       4.584  35.379  42.759  0.00 42.82           N1+\nATOM    454  N   GLY B  30       0.936  29.453  44.494  1.00 43.46           N  \nATOM    455  CA  GLY B  30      -0.150  28.989  45.343  1.00 48.31           C  \nATOM    456  C   GLY B  30       0.181  28.761  46.801  1.00 60.51           C  \nATOM    457  O   GLY B  30      -0.555  29.198  47.686  1.00 61.09           O  \nTER   \nATOM    458  N   NH2 B  31       1.244  28.103  47.120  1.00  0.00           N  \nATOM    459  H1  NH2 B  31       1.850  27.743  46.397  1.00  0.00           H  \nATOM    460  H2  NH2 B  31       1.469  27.948  48.092  1.00  0.00           H  \nATOM    461  C   ACE C   0      -3.237  17.844   1.996  1.00  0.00           C  \nATOM    462  O   ACE C   0      -2.982  16.643   2.156  1.00  0.00           O  \nATOM    463  CH3 ACE C   0      -4.586  18.412   2.382  1.00  0.00           C  \nATOM    464 1HH3 ACE C   0      -4.761  18.264   3.438  1.00  0.00           H  \nATOM    465 2HH3 ACE C   0      -4.616  19.470   2.168  1.00  0.00           H  \nATOM    466 3HH3 ACE C   0      -5.368  17.919   1.825  1.00  0.00           H  \nATOM    467  N   GLY C   1      -2.341  18.622   1.491  1.00 28.34           N  \nATOM    468  CA  GLY C   1      -1.043  18.088   1.116  1.00 26.39           C  \nATOM    469  C   GLY C   1      -0.286  17.400   2.229  1.00 24.18           C  \nATOM    470  O   GLY C   1      -0.540  17.645   3.413  1.00 22.23           O  \nATOM    471  N   GLU C   2       0.645  16.528   1.859  1.00 22.06           N  \nATOM    472  CA  GLU C   2       1.339  15.730   2.861  1.00 18.21           C  \nATOM    473  C   GLU C   2       2.208  16.560   3.790  1.00 21.54           C  \nATOM    474  O   GLU C   2       2.312  16.223   4.951  1.00 20.26           O  \nATOM    475  CB  GLU C   2       2.213  14.655   2.211  1.00 27.66           C  \nATOM    476  CG  GLU C   2       3.256  15.184   1.264  1.00 29.41           C  \nATOM    477  CD  GLU C   2       4.248  14.113   0.850  1.00 46.39           C  \nATOM    478  OE1 GLU C   2       4.062  12.941   1.247  1.00 48.16           O  \nATOM    479  OE2 GLU C   2       5.213  14.442   0.131  1.00 36.49           O1-\nATOM    480  N   VAL C   3       2.844  17.623   3.301  1.00 17.60           N  \nATOM    481  CA  VAL C   3       3.690  18.436   4.190  1.00 15.70           C  \nATOM    482  C   VAL C   3       2.830  19.223   5.186  1.00 15.61           C  \nATOM    483  O   VAL C   3       3.094  19.201   6.396  1.00 15.93           O  \nATOM    484  CB  VAL C   3       4.617  19.383   3.385  1.00 19.81           C  \nATOM    485  CG1 VAL C   3       5.282  20.404   4.327  1.00 18.32           C  \nATOM    486  CG2 VAL C   3       5.676  18.551   2.647  1.00 20.69           C  \nATOM    487  N   ALA C   4       1.782  19.872   4.694  1.00 19.23           N  \nATOM    488  CA  ALA C   4       0.851  20.579   5.575  1.00 17.44           C  \nATOM    489  C   ALA C   4       0.222  19.628   6.590  1.00 19.88           C  \nATOM    490  O   ALA C   4       0.119  19.947   7.790  1.00 17.62           O  \nATOM    491  CB  ALA C   4      -0.224  21.275   4.750  1.00 17.82           C  \nATOM    492  N  AGLN C   5      -0.181  18.436   6.161  1.00 17.04           N  \nATOM    493  CA AGLN C   5      -0.776  17.492   7.110  0.43 17.22           C  \nATOM    494  C  AGLN C   5       0.229  17.079   8.187  1.00 21.52           C  \nATOM    495  O  AGLN C   5      -0.131  16.941   9.359  1.00 23.34           O  \nATOM    496  CB AGLN C   5      -1.317  16.253   6.388  0.43 21.79           C  \nATOM    497  CG AGLN C   5      -2.489  16.525   5.449  0.43 29.76           C  \nATOM    498  CD AGLN C   5      -3.714  17.074   6.157  0.43 33.24           C  \nATOM    499  NE2AGLN C   5      -4.633  16.187   6.519  0.43 39.98           N  \nATOM    500  OE1AGLN C   5      -3.835  18.280   6.372  0.43 36.26           O  \nATOM    501  N   ALA C   6       1.494  16.900   7.803  1.00 15.83           N  \nATOM    502  CA  ALA C   6       2.513  16.503   8.782  1.00 16.58           C  \nATOM    503  C   ALA C   6       2.753  17.612   9.807  1.00 17.07           C  \nATOM    504  O   ALA C   6       2.966  17.358  11.000  1.00 17.00           O  \nATOM    505  CB  ALA C   6       3.815  16.133   8.082  1.00 21.87           C  \nATOM    506  N   ILE C   7       2.736  18.847   9.329  1.00 17.53           N  \nATOM    507  CA  ILE C   7       2.903  19.993  10.208  1.00 16.54           C  \nATOM    508  C   ILE C   7       1.710  20.097  11.159  1.00 16.15           C  \nATOM    509  O   ILE C   7       1.872  20.457  12.321  1.00 17.38           O  \nATOM    510  CB  ILE C   7       3.085  21.271   9.377  1.00 15.64           C  \nATOM    511  CG1 ILE C   7       4.423  21.191   8.638  1.00 13.96           C  \nATOM    512  CG2 ILE C   7       3.077  22.508  10.271  1.00 14.53           C  \nATOM    513  CD1 ILE C   7       4.624  22.270   7.574  1.00 18.66           C  \nATOM    514  N   LYS C   8       0.512  19.777  10.677  1.00 14.52           N  \nATOM    515  CA  LYS C   8      -0.649  19.739  11.560  1.00 18.80           C  \nATOM    516  C   LYS C   8      -0.466  18.673  12.640  1.00 17.55           C  \nATOM    517  O   LYS C   8      -0.912  18.845  13.780  1.00 18.16           O  \nATOM    518  CB  LYS C   8      -1.934  19.493  10.776  1.00 19.95           C  \nATOM    519  CG  LYS C   8      -2.422  20.706  10.003  1.00 21.08           C  \nATOM    520  CD  LYS C   8      -3.738  20.392   9.317  1.00 29.26           C  \nATOM    521  CE  LYS C   8      -4.426  21.645   8.818  1.00 43.14           C  \nATOM    522  NZ  LYS C   8      -5.707  21.320   8.129  0.00 41.12           N1+\nATOM    523  N   GLU C   9       0.191  17.569  12.294  1.00 17.98           N  \nATOM    524  CA  GLU C   9       0.493  16.533  13.290  1.00 16.98           C  \nATOM    525  C   GLU C   9       1.447  17.043  14.380  1.00 16.16           C  \nATOM    526  O   GLU C   9       1.331  16.656  15.545  1.00 20.39           O  \nATOM    527  CB  GLU C   9       1.082  15.301  12.604  1.00 23.72           C  \nATOM    528  CG  GLU C   9       0.065  14.556  11.762  1.00 31.41           C  \nATOM    529  CD  GLU C   9       0.610  13.265  11.190  1.00 62.66           C  \nATOM    530  OE1 GLU C   9       1.367  12.568  11.899  1.00 70.42           O  \nATOM    531  OE2 GLU C   9       0.285  12.951  10.024  1.00 73.19           O1-\nATOM    532  N   VAL C  10       2.401  17.884  13.989  1.00 15.07           N  \nATOM    533  CA  VAL C  10       3.313  18.534  14.935  1.00 15.27           C  \nATOM    534  C   VAL C  10       2.505  19.446  15.865  1.00 17.47           C  \nATOM    535  O   VAL C  10       2.689  19.415  17.081  1.00 18.15           O  \nATOM    536  CB  VAL C  10       4.401  19.354  14.188  1.00 18.75           C  \nATOM    537  CG1 VAL C  10       5.138  20.286  15.138  1.00 18.82           C  \nATOM    538  CG2 VAL C  10       5.382  18.411  13.497  1.00 18.02           C  \nATOM    539  N   ALA C  11       1.586  20.225  15.289  1.00 16.47           N  \nATOM    540  CA  ALA C  11       0.724  21.094  16.086  1.00 15.83           C  \nATOM    541  C   ALA C  11      -0.078  20.290  17.116  1.00 17.71           C  \nATOM    542  O   ALA C  11      -0.160  20.670  18.299  1.00 19.10           O  \nATOM    543  CB  ALA C  11      -0.218  21.882  15.186  1.00 18.09           C  \nATOM    544  N   LYS C  12      -0.647  19.166  16.681  1.00 16.38           N  \nATOM    545  CA  LYS C  12      -1.455  18.326  17.569  1.00 17.89           C  \nATOM    546  C   LYS C  12      -0.607  17.762  18.705  1.00 17.14           C  \nATOM    547  O   LYS C  12      -1.055  17.663  19.863  1.00 19.09           O  \nATOM    548  CB  LYS C  12      -2.091  17.176  16.778  1.00 19.76           C  \nATOM    549  CG  LYS C  12      -3.223  17.570  15.838  1.00 26.37           C  \nATOM    550  CD  LYS C  12      -3.528  16.401  14.908  0.00 26.98           C  \nATOM    551  CE  LYS C  12      -3.974  16.860  13.533  0.00 26.39           C  \nATOM    552  NZ  LYS C  12      -4.048  15.726  12.567  0.00 25.98           N1+\nATOM    553  N   ALA C  13       0.626  17.393  18.376  1.00 15.64           N  \nATOM    554  CA  ALA C  13       1.554  16.861  19.376  1.00 14.88           C  \nATOM    555  C   ALA C  13       1.931  17.924  20.394  1.00 16.39           C  \nATOM    556  O   ALA C  13       2.100  17.634  21.569  1.00 15.94           O  \nATOM    557  CB  ALA C  13       2.809  16.318  18.704  1.00 19.15           C  \nATOM    558  N   ILE C  14       2.092  19.158  19.937  1.00 15.53           N  \nATOM    559  CA  ILE C  14       2.437  20.249  20.841  1.00 18.24           C  \nATOM    560  C   ILE C  14       1.276  20.528  21.798  1.00 18.19           C  \nATOM    561  O   ILE C  14       1.493  20.836  22.962  1.00 17.17           O  \nATOM    562  CB  ILE C  14       2.832  21.503  20.041  1.00 16.66           C  \nATOM    563  CG1 ILE C  14       4.166  21.239  19.336  1.00 14.22           C  \nATOM    564  CG2 ILE C  14       2.970  22.709  20.966  1.00 17.44           C  \nATOM    565  CD1 ILE C  14       4.575  22.302  18.306  1.00 12.86           C  \nATOM    566  N   LYS C  15       0.043  20.382  21.324  1.00 17.15           N  \nATOM    567  CA  LYS C  15      -1.120  20.486  22.210  1.00 17.16           C  \nATOM    568  C   LYS C  15      -1.073  19.422  23.307  1.00 19.94           C  \nATOM    569  O   LYS C  15      -1.465  19.676  24.444  1.00 19.98           O  \nATOM    570  CB  LYS C  15      -2.422  20.334  21.420  1.00 21.13           C  \nATOM    571  CG  LYS C  15      -2.781  21.516  20.543  1.00 21.95           C  \nATOM    572  CD  LYS C  15      -4.123  21.271  19.872  1.00 27.30           C  \nATOM    573  CE  LYS C  15      -4.642  22.486  19.127  1.00 50.36           C  \nATOM    574  NZ  LYS C  15      -4.596  23.716  19.945  1.00 57.26           N1+\nATOM    575  N   GLU C  16      -0.612  18.217  22.974  1.00 20.24           N  \nATOM    576  CA  GLU C  16      -0.461  17.168  23.987  1.00 16.89           C  \nATOM    577  C   GLU C  16       0.562  17.577  25.046  1.00 18.28           C  \nATOM    578  O   GLU C  16       0.393  17.276  26.225  1.00 19.40           O  \nATOM    579  CB  GLU C  16      -0.040  15.856  23.332  1.00 24.25           C  \nATOM    580  CG  GLU C  16      -1.101  15.244  22.437  1.00 29.89           C  \nATOM    581  CD  GLU C  16      -0.717  13.862  21.950  1.00 41.71           C  \nATOM    582  OE1 GLU C  16       0.046  13.168  22.655  1.00 51.84           O  \nATOM    583  OE2 GLU C  16      -1.170  13.475  20.854  1.00 49.74           O1-\nATOM    584  N   VAL C  17       1.612  18.287  24.629  1.00 19.67           N  \nATOM    585  CA  VAL C  17       2.614  18.799  25.555  1.00 13.46           C  \nATOM    586  C   VAL C  17       1.953  19.794  26.503  1.00 17.80           C  \nATOM    587  O   VAL C  17       2.142  19.714  27.719  1.00 18.03           O  \nATOM    588  CB  VAL C  17       3.794  19.475  24.810  1.00 16.54           C  \nATOM    589  CG1 VAL C  17       4.658  20.285  25.787  1.00 16.38           C  \nATOM    590  CG2 VAL C  17       4.636  18.441  24.079  1.00 18.48           C  \nATOM    591  N   ALA C  18       1.132  20.685  25.956  1.00 17.56           N  \nATOM    592  CA  ALA C  18       0.419  21.658  26.779  1.00 15.11           C  \nATOM    593  C   ALA C  18      -0.494  20.971  27.804  1.00 17.51           C  \nATOM    594  O   ALA C  18      -0.495  21.323  28.999  1.00 18.84           O  \nATOM    595  CB  ALA C  18      -0.385  22.612  25.887  1.00 19.68           C  \nATOM    596  N   TRP C  19      -1.244  19.966  27.366  1.00 18.06           N  \nATOM    597  CA  TRP C  19      -2.138  19.255  28.284  1.00 18.69           C  \nATOM    598  C   TRP C  19      -1.342  18.536  29.380  1.00 19.64           C  \nATOM    599  O   TRP C  19      -1.777  18.462  30.534  1.00 22.42           O  \nATOM    600  CB  TRP C  19      -3.012  18.260  27.524  1.00 24.22           C  \nATOM    601  CG  TRP C  19      -3.892  18.894  26.483  1.00 29.12           C  \nATOM    602  CD1 TRP C  19      -4.376  20.171  26.481  1.00 35.81           C  \nATOM    603  CD2 TRP C  19      -4.395  18.270  25.289  1.00 31.70           C  \nATOM    604  CE2 TRP C  19      -5.175  19.235  24.618  1.00 44.10           C  \nATOM    605  CE3 TRP C  19      -4.259  16.998  24.730  1.00 41.66           C  \nATOM    606  NE1 TRP C  19      -5.148  20.380  25.362  1.00 43.76           N  \nATOM    607  CZ2 TRP C  19      -5.816  18.958  23.408  1.00 47.34           C  \nATOM    608  CZ3 TRP C  19      -4.898  16.727  23.529  1.00 27.94           C  \nATOM    609  CH2 TRP C  19      -5.667  17.704  22.883  1.00 41.01           C  \nATOM    610  N   ALA C  20      -0.188  17.982  29.015  1.00 18.28           N  \nATOM    611  CA  ALA C  20       0.654  17.311  30.005  1.00 18.71           C  \nATOM    612  C   ALA C  20       1.194  18.304  31.030  1.00 19.54           C  \nATOM    613  O   ALA C  20       1.332  17.992  32.206  1.00 18.32           O  \nATOM    614  CB  ALA C  20       1.798  16.581  29.324  1.00 18.58           C  \nATOM    615  N   ILE C  21       1.521  19.508  30.584  1.00 16.62           N  \nATOM    616  CA  ILE C  21       2.018  20.516  31.519  1.00 16.93           C  \nATOM    617  C   ILE C  21       0.915  20.946  32.486  1.00 19.95           C  \nATOM    618  O   ILE C  21       1.173  21.198  33.671  1.00 20.82           O  \nATOM    619  CB  ILE C  21       2.588  21.712  30.742  1.00 18.65           C  \nATOM    620  CG1 ILE C  21       3.831  21.250  29.969  1.00 16.08           C  \nATOM    621  CG2 ILE C  21       2.953  22.862  31.680  1.00 17.73           C  \nATOM    622  CD1 ILE C  21       4.359  22.256  28.967  1.00 17.23           C  \nATOM    623  N   LYS C  22      -0.317  20.998  31.993  1.00 22.02           N  \nATOM    624  CA  LYS C  22      -1.460  21.274  32.856  1.00 18.81           C  \nATOM    625  C   LYS C  22      -1.581  20.216  33.947  1.00 19.93           C  \nATOM    626  O   LYS C  22      -1.971  20.516  35.074  1.00 22.24           O  \nATOM    627  CB  LYS C  22      -2.740  21.329  32.030  1.00 22.03           C  \nATOM    628  CG  LYS C  22      -2.862  22.600  31.215  1.00 24.23           C  \nATOM    629  CD  LYS C  22      -4.067  22.534  30.291  1.00 39.83           C  \nATOM    630  CE  LYS C  22      -4.319  23.873  29.625  1.00 50.90           C  \nATOM    631  NZ  LYS C  22      -4.667  24.936  30.602  1.00 57.06           N1+\nATOM    632  N   GLU C  23      -1.241  18.977  33.618  1.00 22.71           N  \nATOM    633  CA  GLU C  23      -1.262  17.923  34.630  1.00 20.80           C  \nATOM    634  C   GLU C  23      -0.201  18.159  35.689  1.00 24.56           C  \nATOM    635  O   GLU C  23      -0.413  17.839  36.855  1.00 22.06           O  \nATOM    636  CB  GLU C  23      -1.075  16.549  33.986  1.00 28.22           C  \nATOM    637  CG  GLU C  23      -2.227  16.134  33.099  1.00 36.85           C  \nATOM    638  CD  GLU C  23      -2.213  14.647  32.796  1.00 55.17           C  \nATOM    639  OE1 GLU C  23      -1.222  13.973  33.158  1.00 44.30           O  \nATOM    640  OE2 GLU C  23      -3.185  14.156  32.184  1.00 68.57           O1-\nATOM    641  N   VAL C  24       0.938  18.715  35.277  1.00 23.05           N  \nATOM    642  CA  VAL C  24       1.997  19.057  36.211  1.00 21.65           C  \nATOM    643  C   VAL C  24       1.501  20.160  37.145  1.00 20.62           C  \nATOM    644  O   VAL C  24       1.685  20.082  38.347  1.00 22.86           O  \nATOM    645  CB  VAL C  24       3.283  19.508  35.489  1.00 21.40           C  \nATOM    646  CG1 VAL C  24       4.267  20.152  36.464  1.00 24.04           C  \nATOM    647  CG2 VAL C  24       3.923  18.324  34.784  1.00 23.87           C  \nATOM    648  N   ALA C  25       0.854  21.177  36.579  1.00 22.87           N  \nATOM    649  CA  ALA C  25       0.288  22.257  37.382  1.00 22.07           C  \nATOM    650  C   ALA C  25      -0.744  21.731  38.376  1.00 21.99           C  \nATOM    651  O   ALA C  25      -0.754  22.110  39.556  1.00 23.41           O  \nATOM    652  CB  ALA C  25      -0.336  23.325  36.476  1.00 21.10           C  \nATOM    653  N   GLN C  26      -1.609  20.840  37.912  1.00 25.64           N  \nATOM    654  CA  GLN C  26      -2.631  20.290  38.794  1.00 26.40           C  \nATOM    655  C   GLN C  26      -2.007  19.432  39.893  1.00 27.45           C  \nATOM    656  O   GLN C  26      -2.508  19.396  41.021  1.00 29.27           O  \nATOM    657  CB  GLN C  26      -3.655  19.479  38.004  1.00 26.17           C  \nATOM    658  CG  GLN C  26      -4.544  20.337  37.141  1.00 39.36           C  \nATOM    659  CD  GLN C  26      -5.287  21.371  37.967  1.00 58.95           C  \nATOM    660  NE2 GLN C  26      -6.293  20.926  38.716  1.00 60.63           N  \nATOM    661  OE1 GLN C  26      -4.959  22.554  37.935  1.00 61.16           O  \nATOM    662  N   ALA C  27      -0.923  18.736  39.557  1.00 27.75           N  \nATOM    663  CA  ALA C  27      -0.221  17.905  40.535  1.00 24.82           C  \nATOM    664  C   ALA C  27       0.387  18.738  41.651  1.00 29.01           C  \nATOM    665  O   ALA C  27       0.331  18.347  42.808  1.00 27.63           O  \nATOM    666  CB  ALA C  27       0.856  17.073  39.856  1.00 28.35           C  \nATOM    667  N   ILE C  28       0.981  19.872  41.288  1.00 27.25           N  \nATOM    668  CA  ILE C  28       1.584  20.789  42.253  1.00 24.11           C  \nATOM    669  C   ILE C  28       0.528  21.424  43.153  1.00 27.11           C  \nATOM    670  O   ILE C  28       0.699  21.534  44.378  1.00 29.28           O  \nATOM    671  CB  ILE C  28       2.377  21.908  41.527  1.00 28.61           C  \nATOM    672  CG1 ILE C  28       3.590  21.317  40.806  1.00 27.37           C  \nATOM    673  CG2 ILE C  28       2.820  22.984  42.498  1.00 27.41           C  \nATOM    674  CD1 ILE C  28       4.338  22.302  39.942  1.00 27.25           C  \nATOM    675  N   LYS C  29      -0.575  21.827  42.536  1.00 27.24           N  \nATOM    676  CA  LYS C  29      -1.667  22.482  43.251  1.00 36.81           C  \nATOM    677  C   LYS C  29      -2.311  21.552  44.278  1.00 30.12           C  \nATOM    678  O   LYS C  29      -2.696  21.981  45.372  1.00 37.10           O  \nATOM    679  CB  LYS C  29      -2.710  22.982  42.242  1.00 42.98           C  \nATOM    680  CG  LYS C  29      -3.828  23.817  42.842  1.00 45.61           C  \nATOM    681  CD  LYS C  29      -4.742  24.360  41.753  1.00 43.41           C  \nATOM    682  CE  LYS C  29      -5.794  25.299  42.325  0.00 42.70           C  \nATOM    683  NZ  LYS C  29      -6.569  24.682  43.432  0.00 43.26           N1+\nATOM    684  N   GLY C  30      -2.402  20.271  43.941  1.00 30.16           N  \nATOM    685  CA  GLY C  30      -2.924  19.279  44.867  1.00 43.82           C  \nATOM    686  C   GLY C  30      -1.915  18.752  45.870  1.00 49.00           C  \nATOM    687  O   GLY C  30      -2.206  18.673  47.062  1.00 44.92           O  \nTER   \nATOM    688  N   NH2 C  31      -0.745  18.385  45.470  1.00  0.00           N  \nATOM    689  H1  NH2 C  31      -0.503  18.448  44.492  1.00  0.00           H  \nATOM    690  H2  NH2 C  31      -0.071  18.033  46.135  1.00  0.00           H  \nATOM    691  C   ACE D   0       6.468  10.091   1.525  1.00  0.00           C  \nATOM    692  O   ACE D   0       7.570   9.554   1.699  1.00  0.00           O  \nATOM    693  CH3 ACE D   0       5.184   9.361   1.853  1.00  0.00           C  \nATOM    694 1HH3 ACE D   0       5.164   9.098   2.901  1.00  0.00           H  \nATOM    695 2HH3 ACE D   0       4.334   9.991   1.635  1.00  0.00           H  \nATOM    696 3HH3 ACE D   0       5.111   8.459   1.264  1.00  0.00           H  \nATOM    697  N   GLY D   1       6.414  11.292   1.057  1.00 26.37           N  \nATOM    698  CA  GLY D   1       7.638  12.002   0.739  1.00 22.86           C  \nATOM    699  C   GLY D   1       8.574  12.113   1.920  1.00 25.08           C  \nATOM    700  O   GLY D   1       8.134  12.039   3.070  1.00 23.61           O  \nATOM    701  N   GLU D   2       9.864  12.287   1.645  1.00 24.17           N  \nATOM    702  CA  GLU D   2      10.852  12.282   2.718  1.00 24.99           C  \nATOM    703  C   GLU D   2      10.712  13.472   3.651  1.00 21.14           C  \nATOM    704  O   GLU D   2      10.950  13.330   4.837  1.00 20.34           O  \nATOM    705  CB  GLU D   2      12.270  12.239   2.165  1.00 25.49           C  \nATOM    706  CG  GLU D   2      12.596  13.363   1.225  1.00 21.63           C  \nATOM    707  CD  GLU D   2      14.070  13.417   0.876  1.00 36.18           C  \nATOM    708  OE1 GLU D   2      14.830  12.519   1.304  1.00 38.65           O  \nATOM    709  OE2 GLU D   2      14.467  14.366   0.175  1.00 31.20           O1-\nATOM    710  N   VAL D   3      10.340  14.643   3.136  1.00 19.23           N  \nATOM    711  CA  VAL D   3      10.190  15.799   4.031  1.00 19.64           C  \nATOM    712  C   VAL D   3       8.982  15.617   4.934  1.00 17.54           C  \nATOM    713  O   VAL D   3       9.075  15.825   6.138  1.00 19.11           O  \nATOM    714  CB  VAL D   3      10.079  17.133   3.255  1.00 16.92           C  \nATOM    715  CG1 VAL D   3       9.681  18.277   4.211  1.00 20.85           C  \nATOM    716  CG2 VAL D   3      11.406  17.444   2.594  1.00 19.47           C  \nATOM    717  N   ALA D   4       7.852  15.203   4.369  1.00 18.96           N  \nATOM    718  CA  ALA D   4       6.670  14.922   5.185  1.00 22.13           C  \nATOM    719  C   ALA D   4       6.950  13.842   6.226  1.00 19.02           C  \nATOM    720  O   ALA D   4       6.537  13.967   7.374  1.00 20.61           O  \nATOM    721  CB  ALA D   4       5.503  14.510   4.301  1.00 22.14           C  \nATOM    722  N   GLN D   5       7.652  12.779   5.833  1.00 18.99           N  \nATOM    723  CA  GLN D   5       7.950  11.706   6.787  1.00 19.16           C  \nATOM    724  C   GLN D   5       8.857  12.190   7.929  1.00 20.68           C  \nATOM    725  O   GLN D   5       8.683  11.801   9.097  1.00 23.83           O  \nATOM    726  CB  GLN D   5       8.581  10.519   6.070  1.00 25.66           C  \nATOM    727  CG  GLN D   5       7.603   9.819   5.131  1.00 38.71           C  \nATOM    728  CD  GLN D   5       6.361   9.325   5.854  1.00 60.41           C  \nATOM    729  NE2 GLN D   5       5.196   9.567   5.265  1.00 67.97           N  \nATOM    730  OE1 GLN D   5       6.449   8.749   6.938  1.00 74.78           O  \nATOM    731  N   ALA D   6       9.807  13.057   7.608  1.00 16.88           N  \nATOM    732  CA  ALA D   6      10.692  13.601   8.642  1.00 18.99           C  \nATOM    733  C   ALA D   6       9.915  14.479   9.621  1.00 20.15           C  \nATOM    734  O   ALA D   6      10.141  14.438  10.836  1.00 20.09           O  \nATOM    735  CB  ALA D   6      11.833  14.384   8.009  1.00 20.84           C  \nATOM    736  N   ILE D   7       8.977  15.260   9.105  1.00 18.26           N  \nATOM    737  CA  ILE D   7       8.164  16.104   9.971  1.00 16.87           C  \nATOM    738  C   ILE D   7       7.292  15.213  10.893  1.00 19.84           C  \nATOM    739  O   ILE D   7       7.105  15.498  12.087  1.00 16.68           O  \nATOM    740  CB  ILE D   7       7.311  17.081   9.135  1.00 16.61           C  \nATOM    741  CG1 ILE D   7       8.237  18.035   8.372  1.00 17.18           C  \nATOM    742  CG2 ILE D   7       6.334  17.861  10.034  1.00 16.07           C  \nATOM    743  CD1 ILE D   7       7.510  18.921   7.340  1.00 15.00           C  \nATOM    744  N   LYS D   8       6.817  14.094  10.360  1.00 17.60           N  \nATOM    745  CA  LYS D   8       6.074  13.127  11.156  1.00 16.82           C  \nATOM    746  C   LYS D   8       6.935  12.572  12.302  1.00 19.21           C  \nATOM    747  O   LYS D   8       6.432  12.300  13.396  1.00 21.21           O  \nATOM    748  CB  LYS D   8       5.569  11.980  10.269  1.00 19.83           C  \nATOM    749  CG  LYS D   8       4.409  12.362   9.365  1.00 27.23           C  \nATOM    750  CD  LYS D   8       3.950  11.183   8.507  1.00 39.17           C  \nATOM    751  CE  LYS D   8       2.972  10.285   9.233  1.00 56.28           C  \nATOM    752  NZ  LYS D   8       1.596  10.854   9.206  1.00 67.65           N1+\nATOM    753  N   GLU D   9       8.230  12.397  12.053  1.00 16.70           N  \nATOM    754  CA  GLU D   9       9.141  11.964  13.116  1.00 18.40           C  \nATOM    755  C   GLU D   9       9.266  13.031  14.197  1.00 16.92           C  \nATOM    756  O   GLU D   9       9.396  12.706  15.376  1.00 19.38           O  \nATOM    757  CB  GLU D   9      10.527  11.629  12.565  1.00 19.61           C  \nATOM    758  CG  GLU D   9      10.577  10.371  11.723  1.00 27.32           C  \nATOM    759  CD  GLU D   9      11.994   9.997  11.348  1.00 49.45           C  \nATOM    760  OE1 GLU D   9      12.895  10.168  12.198  1.00 49.53           O  \nATOM    761  OE2 GLU D   9      12.208   9.531  10.210  1.00 64.19           O1-\nATOM    762  N   VAL D  10       9.244  14.302  13.797  1.00 15.88           N  \nATOM    763  CA  VAL D  10       9.268  15.385  14.765  1.00 16.14           C  \nATOM    764  C   VAL D  10       8.020  15.309  15.633  1.00 16.31           C  \nATOM    765  O   VAL D  10       8.104  15.383  16.854  1.00 18.00           O  \nATOM    766  CB  VAL D  10       9.370  16.748  14.065  1.00 16.53           C  \nATOM    767  CG1 VAL D  10       9.041  17.885  15.036  1.00 19.07           C  \nATOM    768  CG2 VAL D  10      10.757  16.914  13.468  1.00 20.19           C  \nATOM    769  N   ALA D  11       6.866  15.096  15.006  1.00 16.24           N  \nATOM    770  CA  ALA D  11       5.616  14.951  15.746  1.00 17.47           C  \nATOM    771  C   ALA D  11       5.697  13.808  16.768  1.00 18.15           C  \nATOM    772  O   ALA D  11       5.268  13.960  17.907  1.00 19.70           O  \nATOM    773  CB  ALA D  11       4.448  14.716  14.779  1.00 19.38           C  \nATOM    774  N  ALYS D  12       6.244  12.668  16.352  1.00 17.25           N  \nATOM    775  CA ALYS D  12       6.347  11.516  17.242  0.45 15.96           C  \nATOM    776  C  ALYS D  12       7.254  11.815  18.435  1.00 15.48           C  \nATOM    777  O  ALYS D  12       6.967  11.399  19.561  1.00 20.80           O  \nATOM    778  CB ALYS D  12       6.854  10.303  16.470  0.45 20.12           C  \nATOM    779  CG ALYS D  12       5.898   9.806  15.380  0.45 19.00           C  \nATOM    780  CD ALYS D  12       4.661   9.111  15.959  0.45 32.45           C  \nATOM    781  CE ALYS D  12       3.464  10.051  16.103  0.45 32.34           C  \nATOM    782  NZ ALYS D  12       2.257   9.338  16.607  0.45 45.56           N1+\nATOM    783  N   ALA D  13       8.345  12.531  18.181  1.00 17.01           N  \nATOM    784  CA  ALA D  13       9.284  12.882  19.241  1.00 18.38           C  \nATOM    785  C   ALA D  13       8.643  13.858  20.230  1.00 16.58           C  \nATOM    786  O   ALA D  13       8.865  13.766  21.435  1.00 17.45           O  \nATOM    787  CB  ALA D  13      10.551  13.459  18.654  1.00 19.14           C  \nATOM    788  N   ILE D  14       7.832  14.783  19.730  1.00 16.18           N  \nATOM    789  CA  ILE D  14       7.147  15.727  20.610  1.00 16.53           C  \nATOM    790  C   ILE D  14       6.121  14.977  21.496  1.00 17.82           C  \nATOM    791  O   ILE D  14       5.951  15.304  22.688  1.00 16.71           O  \nATOM    792  CB  ILE D  14       6.483  16.861  19.783  1.00 18.17           C  \nATOM    793  CG1 ILE D  14       7.563  17.746  19.147  1.00 15.71           C  \nATOM    794  CG2 ILE D  14       5.577  17.718  20.654  1.00 19.33           C  \nATOM    795  CD1 ILE D  14       7.000  18.747  18.119  1.00 14.54           C  \nATOM    796  N   LYS D  15       5.480  13.940  20.956  1.00 15.28           N  \nATOM    797  CA  LYS D  15       4.609  13.090  21.773  1.00 17.23           C  \nATOM    798  C   LYS D  15       5.394  12.429  22.902  1.00 19.89           C  \nATOM    799  O   LYS D  15       4.851  12.195  23.980  1.00 20.53           O  \nATOM    800  CB  LYS D  15       3.931  12.013  20.915  1.00 24.28           C  \nATOM    801  CG  LYS D  15       2.857  12.574  19.993  1.00 22.82           C  \nATOM    802  CD  LYS D  15       2.141  11.477  19.231  1.00 26.87           C  \nATOM    803  CE  LYS D  15       0.959  12.032  18.463  1.00 44.50           C  \nATOM    804  NZ  LYS D  15       0.098  10.959  17.896  0.00 43.44           N1+\nATOM    805  N   GLU D  16       6.650  12.075  22.637  1.00 19.31           N  \nATOM    806  CA  GLU D  16       7.517  11.498  23.669  1.00 19.89           C  \nATOM    807  C   GLU D  16       7.791  12.497  24.785  1.00 18.90           C  \nATOM    808  O   GLU D  16       7.916  12.131  25.958  1.00 19.15           O  \nATOM    809  CB  GLU D  16       8.837  11.028  23.065  1.00 19.74           C  \nATOM    810  CG  GLU D  16       8.690   9.834  22.140  1.00 27.54           C  \nATOM    811  CD  GLU D  16      10.025   9.255  21.733  1.00 42.49           C  \nATOM    812  OE1 GLU D  16      11.000   9.403  22.503  1.00 48.46           O  \nATOM    813  OE2 GLU D  16      10.094   8.639  20.652  1.00 51.09           O1-\nATOM    814  N   VAL D  17       7.916  13.764  24.414  1.00 17.03           N  \nATOM    815  CA  VAL D  17       8.081  14.835  25.386  1.00 15.10           C  \nATOM    816  C   VAL D  17       6.836  14.955  26.254  1.00 17.20           C  \nATOM    817  O   VAL D  17       6.954  15.064  27.468  1.00 18.20           O  \nATOM    818  CB  VAL D  17       8.395  16.181  24.685  1.00 16.28           C  \nATOM    819  CG1 VAL D  17       8.240  17.373  25.655  1.00 15.41           C  \nATOM    820  CG2 VAL D  17       9.801  16.135  24.110  1.00 18.72           C  \nATOM    821  N   ALA D  18       5.653  14.898  25.639  1.00 15.46           N  \nATOM    822  CA  ALA D  18       4.401  14.968  26.385  1.00 15.47           C  \nATOM    823  C   ALA D  18       4.308  13.843  27.408  1.00 16.69           C  \nATOM    824  O   ALA D  18       3.901  14.068  28.548  1.00 19.39           O  \nATOM    825  CB  ALA D  18       3.217  14.915  25.449  1.00 18.98           C  \nATOM    826  N   TRP D  19       4.668  12.632  26.988  1.00 19.20           N  \nATOM    827  CA  TRP D  19       4.624  11.479  27.887  1.00 16.88           C  \nATOM    828  C   TRP D  19       5.609  11.632  29.048  1.00 16.72           C  \nATOM    829  O   TRP D  19       5.271  11.337  30.201  1.00 20.25           O  \nATOM    830  CB  TRP D  19       4.898  10.194  27.090  1.00 20.04           C  \nATOM    831  CG  TRP D  19       4.894   8.932  27.926  1.00 22.95           C  \nATOM    832  CD1 TRP D  19       5.976   8.162  28.258  1.00 32.80           C  \nATOM    833  CD2 TRP D  19       3.768   8.349  28.600  1.00 24.43           C  \nATOM    834  CE2 TRP D  19       4.237   7.211  29.295  1.00 28.09           C  \nATOM    835  CE3 TRP D  19       2.410   8.676  28.684  1.00 37.35           C  \nATOM    836  NE1 TRP D  19       5.584   7.116  29.069  1.00 39.61           N  \nATOM    837  CZ2 TRP D  19       3.392   6.392  30.046  1.00 30.84           C  \nATOM    838  CZ3 TRP D  19       1.575   7.862  29.435  1.00 39.09           C  \nATOM    839  CH2 TRP D  19       2.071   6.735  30.108  1.00 32.59           C  \nATOM    840  N   ALA D  20       6.797  12.155  28.756  1.00 17.44           N  \nATOM    841  CA  ALA D  20       7.800  12.372  29.793  1.00 18.97           C  \nATOM    842  C   ALA D  20       7.299  13.408  30.803  1.00 17.00           C  \nATOM    843  O   ALA D  20       7.539  13.283  32.008  1.00 17.49           O  \nATOM    844  CB  ALA D  20       9.113  12.806  29.184  1.00 20.35           C  \nATOM    845  N   ILE D  21       6.592  14.422  30.318  1.00 17.62           N  \nATOM    846  CA  ILE D  21       6.019  15.417  31.215  1.00 15.44           C  \nATOM    847  C   ILE D  21       4.898  14.788  32.072  1.00 19.52           C  \nATOM    848  O   ILE D  21       4.771  15.083  33.270  1.00 17.61           O  \nATOM    849  CB  ILE D  21       5.502  16.626  30.417  1.00 19.55           C  \nATOM    850  CG1 ILE D  21       6.677  17.361  29.783  1.00 16.46           C  \nATOM    851  CG2 ILE D  21       4.731  17.596  31.321  1.00 20.53           C  \nATOM    852  CD1 ILE D  21       6.231  18.435  28.780  1.00 15.42           C  \nATOM    853  N   LYS D  22       4.112  13.881  31.496  1.00 19.13           N  \nATOM    854  CA  LYS D  22       3.107  13.181  32.288  1.00 20.36           C  \nATOM    855  C   LYS D  22       3.793  12.374  33.389  1.00 19.73           C  \nATOM    856  O   LYS D  22       3.261  12.248  34.500  1.00 20.47           O  \nATOM    857  CB  LYS D  22       2.246  12.265  31.418  1.00 20.97           C  \nATOM    858  CG  LYS D  22       1.242  13.032  30.565  1.00 23.05           C  \nATOM    859  CD  LYS D  22       0.509  12.102  29.612  1.00 27.65           C  \nATOM    860  CE  LYS D  22      -0.749  11.540  30.248  1.00 43.19           C  \nATOM    861  NZ  LYS D  22      -1.735  12.616  30.546  1.00 54.34           N1+\nATOM    862  N  AGLU D  23       4.980  11.842  33.095  1.00 20.92           N  \nATOM    863  CA AGLU D  23       5.723  11.110  34.116  0.49 19.07           C  \nATOM    864  C  AGLU D  23       6.160  12.048  35.244  1.00 22.87           C  \nATOM    865  O  AGLU D  23       6.217  11.643  36.397  1.00 22.72           O  \nATOM    866  CB AGLU D  23       6.935  10.404  33.513  0.49 24.08           C  \nATOM    867  CG AGLU D  23       7.660   9.500  34.493  0.49 27.96           C  \nATOM    868  CD AGLU D  23       8.664   8.585  33.827  0.49 37.13           C  \nATOM    869  OE1AGLU D  23       8.748   8.596  32.582  0.49 36.99           O  \nATOM    870  OE2AGLU D  23       9.367   7.850  34.555  0.49 44.00           O1-\nATOM    871  N   VAL D  24       6.459  13.298  34.910  1.00 21.15           N  \nATOM    872  CA  VAL D  24       6.819  14.285  35.927  1.00 18.79           C  \nATOM    873  C   VAL D  24       5.631  14.562  36.848  1.00 19.96           C  \nATOM    874  O   VAL D  24       5.780  14.567  38.076  1.00 20.60           O  \nATOM    875  CB  VAL D  24       7.319  15.592  35.286  1.00 20.31           C  \nATOM    876  CG1 VAL D  24       7.377  16.725  36.326  1.00 17.45           C  \nATOM    877  CG2 VAL D  24       8.671  15.358  34.675  1.00 18.84           C  \nATOM    878  N   ALA D  25       4.447  14.737  36.260  1.00 21.33           N  \nATOM    879  CA  ALA D  25       3.234  14.936  37.047  1.00 19.78           C  \nATOM    880  C   ALA D  25       3.026  13.754  37.984  1.00 19.08           C  \nATOM    881  O   ALA D  25       2.682  13.923  39.160  1.00 22.50           O  \nATOM    882  CB  ALA D  25       2.023  15.109  36.145  1.00 19.77           C  \nATOM    883  N   GLN D  26       3.248  12.544  37.469  1.00 21.51           N  \nATOM    884  CA  GLN D  26       3.029  11.354  38.275  1.00 25.68           C  \nATOM    885  C   GLN D  26       4.016  11.295  39.429  1.00 21.96           C  \nATOM    886  O   GLN D  26       3.649  10.925  40.537  1.00 25.91           O  \nATOM    887  CB  GLN D  26       3.145  10.080  37.421  1.00 24.27           C  \nATOM    888  CG  GLN D  26       2.852   8.791  38.222  1.00 24.11           C  \nATOM    889  CD  GLN D  26       1.367   8.581  38.449  1.00 33.77           C  \nATOM    890  NE2 GLN D  26       1.026   7.640  39.327  1.00 27.19           N  \nATOM    891  OE1 GLN D  26       0.532   9.268  37.852  1.00 29.64           O  \nATOM    892  N   ALA D  27       5.251  11.716  39.187  1.00 23.00           N  \nATOM    893  CA  ALA D  27       6.274  11.728  40.233  1.00 25.46           C  \nATOM    894  C   ALA D  27       5.920  12.698  41.365  1.00 23.34           C  \nATOM    895  O   ALA D  27       6.099  12.394  42.556  1.00 26.58           O  \nATOM    896  CB  ALA D  27       7.626  12.079  39.642  1.00 24.20           C  \nATOM    897  N   ILE D  28       5.401  13.858  40.980  1.00 22.25           N  \nATOM    898  CA  ILE D  28       5.000  14.888  41.928  1.00 20.53           C  \nATOM    899  C   ILE D  28       3.859  14.379  42.821  1.00 23.27           C  \nATOM    900  O   ILE D  28       3.812  14.668  44.017  1.00 25.60           O  \nATOM    901  CB  ILE D  28       4.578  16.176  41.176  1.00 19.59           C  \nATOM    902  CG1 ILE D  28       5.795  16.773  40.474  1.00 22.61           C  \nATOM    903  CG2 ILE D  28       3.948  17.189  42.136  1.00 22.95           C  \nATOM    904  CD1 ILE D  28       5.453  17.928  39.537  1.00 19.80           C  \nATOM    905  N   LYS D  29       2.913  13.670  42.210  1.00 23.81           N  \nATOM    906  CA  LYS D  29       1.775  13.059  42.907  1.00 24.60           C  \nATOM    907  C   LYS D  29       2.157  11.887  43.840  1.00 26.94           C  \nATOM    908  O   LYS D  29       1.428  11.559  44.775  1.00 32.91           O  \nATOM    909  CB  LYS D  29       0.720  12.627  41.883  1.00 33.51           C  \nATOM    910  CG  LYS D  29      -0.171  13.795  41.462  1.00 41.34           C  \nATOM    911  CD  LYS D  29      -1.316  13.414  40.535  1.00 42.56           C  \nATOM    912  CE  LYS D  29      -0.878  13.317  39.098  1.00 45.60           C  \nATOM    913  NZ  LYS D  29      -2.055  13.148  38.193  1.00 35.57           N1+\nATOM    914  N   GLY D  30       3.245  11.200  43.509  1.00 26.05           N  \nATOM    915  CA  GLY D  30       3.753  10.113  44.319  1.00 27.48           C  \nATOM    916  C   GLY D  30       3.566   8.758  43.657  1.00 40.99           C  \nATOM    917  O   GLY D  30       4.502   7.953  43.617  1.00 37.65           O  \nTER   \nATOM    918  N   NH2 D  31       2.427   8.448  43.136  1.00  0.00           N  \nATOM    919  H1  NH2 D  31       1.661   9.105  43.168  1.00  0.00           H  \nATOM    920  H2  NH2 D  31       2.302   7.548  42.696  1.00  0.00           H  \nATOM    921  C   ACE E   0      18.422  12.833   1.489  1.00  0.00           C  \nATOM    922  O   ACE E   0      19.535  13.315   1.735  1.00  0.00           O  \nATOM    923  CH3 ACE E   0      18.165  11.348   1.633  1.00  0.00           C  \nATOM    924 1HH3 ACE E   0      18.346  11.038   2.652  1.00  0.00           H  \nATOM    925 2HH3 ACE E   0      17.141  11.123   1.375  1.00  0.00           H  \nATOM    926 3HH3 ACE E   0      18.821  10.795   0.977  1.00  0.00           H  \nATOM    927  N   GLY E   1      17.465  13.608   1.104  1.00 41.15           N  \nATOM    928  CA  GLY E   1      17.699  15.036   0.962  1.00 34.93           C  \nATOM    929  C   GLY E   1      18.199  15.765   2.185  1.00 28.20           C  \nATOM    930  O   GLY E   1      17.971  15.336   3.319  1.00 27.45           O  \nATOM    931  N   GLU E   2      18.869  16.890   1.960  1.00 25.80           N  \nATOM    932  CA  GLU E   2      19.483  17.634   3.056  1.00 22.37           C  \nATOM    933  C   GLU E   2      18.442  18.244   3.995  1.00 25.80           C  \nATOM    934  O   GLU E   2      18.677  18.329   5.198  1.00 23.60           O  \nATOM    935  CB  GLU E   2      20.405  18.726   2.511  1.00 38.02           C  \nATOM    936  CG  GLU E   2      19.728  19.724   1.587  1.00 39.63           C  \nATOM    937  CD  GLU E   2      20.632  20.888   1.234  1.00 50.46           C  \nATOM    938  OE1 GLU E   2      21.819  20.860   1.624  1.00 55.31           O  \nATOM    939  OE2 GLU E   2      20.157  21.834   0.573  1.00 41.89           O1-\nATOM    940  N   VAL E   3      17.302  18.673   3.455  1.00 21.54           N  \nATOM    941  CA  VAL E   3      16.268  19.256   4.307  1.00 18.82           C  \nATOM    942  C   VAL E   3      15.628  18.177   5.188  1.00 18.55           C  \nATOM    943  O   VAL E   3      15.493  18.359   6.402  1.00 19.76           O  \nATOM    944  CB  VAL E   3      15.183  19.977   3.479  1.00 23.08           C  \nATOM    945  CG1 VAL E   3      13.999  20.362   4.351  1.00 19.27           C  \nATOM    946  CG2 VAL E   3      15.777  21.212   2.824  1.00 23.26           C  \nATOM    947  N   ALA E   4      15.267  17.042   4.599  1.00 18.62           N  \nATOM    948  CA  ALA E   4      14.698  15.929   5.373  1.00 17.27           C  \nATOM    949  C   ALA E   4      15.650  15.441   6.461  1.00 20.40           C  \nATOM    950  O   ALA E   4      15.230  15.217   7.596  1.00 22.17           O  \nATOM    951  CB  ALA E   4      14.322  14.759   4.445  1.00 22.58           C  \nATOM    952  N   GLN E   5      16.932  15.305   6.132  1.00 22.30           N  \nATOM    953  CA  GLN E   5      17.906  14.825   7.117  1.00 25.88           C  \nATOM    954  C   GLN E   5      18.074  15.816   8.268  1.00 26.49           C  \nATOM    955  O   GLN E   5      18.230  15.413   9.424  1.00 24.01           O  \nATOM    956  CB  GLN E   5      19.254  14.538   6.453  1.00 28.40           C  \nATOM    957  CG  GLN E   5      19.219  13.348   5.491  1.00 33.03           C  \nATOM    958  CD  GLN E   5      18.784  12.066   6.179  1.00 54.13           C  \nATOM    959  NE2 GLN E   5      17.901  11.315   5.532  1.00 60.76           N  \nATOM    960  OE1 GLN E   5      19.230  11.760   7.286  1.00 69.45           O  \nATOM    961  N   ALA E   6      18.030  17.110   7.956  1.00 22.56           N  \nATOM    962  CA  ALA E   6      18.125  18.140   8.986  1.00 19.94           C  \nATOM    963  C   ALA E   6      16.895  18.088   9.897  1.00 22.70           C  \nATOM    964  O   ALA E   6      16.999  18.253  11.108  1.00 20.98           O  \nATOM    965  CB  ALA E   6      18.268  19.531   8.343  1.00 20.18           C  \nATOM    966  N   ILE E   7      15.723  17.856   9.312  1.00 17.90           N  \nATOM    967  CA  ILE E   7      14.503  17.728  10.105  1.00 18.72           C  \nATOM    968  C   ILE E   7      14.569  16.482  11.012  1.00 20.61           C  \nATOM    969  O   ILE E   7      14.089  16.497  12.157  1.00 20.17           O  \nATOM    970  CB  ILE E   7      13.251  17.695   9.185  1.00 21.33           C  \nATOM    971  CG1 ILE E   7      13.080  19.055   8.508  1.00 17.25           C  \nATOM    972  CG2 ILE E   7      11.994  17.382   9.982  1.00 20.98           C  \nATOM    973  CD1 ILE E   7      12.024  19.072   7.426  1.00 19.84           C  \nATOM    974  N   LYS E   8      15.170  15.406  10.517  1.00 20.89           N  \nATOM    975  CA  LYS E   8      15.376  14.213  11.334  1.00 18.51           C  \nATOM    976  C   LYS E   8      16.275  14.530  12.529  1.00 22.72           C  \nATOM    977  O   LYS E   8      16.093  13.980  13.628  1.00 21.14           O  \nATOM    978  CB  LYS E   8      16.000  13.100  10.500  1.00 22.10           C  \nATOM    979  CG  LYS E   8      15.069  12.478   9.481  1.00 23.83           C  \nATOM    980  CD  LYS E   8      15.776  11.374   8.726  1.00 27.50           C  \nATOM    981  CE  LYS E   8      14.824  10.562   7.859  1.00 43.94           C  \nATOM    982  NZ  LYS E   8      13.514  10.296   8.500  1.00 54.69           N1+\nATOM    983  N   GLU E   9      17.247  15.416  12.323  1.00 21.63           N  \nATOM    984  CA  GLU E   9      18.107  15.823  13.437  1.00 24.31           C  \nATOM    985  C   GLU E   9      17.310  16.557  14.509  1.00 25.22           C  \nATOM    986  O   GLU E   9      17.600  16.426  15.697  1.00 20.92           O  \nATOM    987  CB  GLU E   9      19.252  16.717  12.976  1.00 24.39           C  \nATOM    988  CG  GLU E   9      20.318  16.035  12.161  1.00 25.01           C  \nATOM    989  CD  GLU E   9      21.504  16.947  11.913  1.00 45.18           C  \nATOM    990  OE1 GLU E   9      21.871  17.708  12.838  1.00 45.34           O  \nATOM    991  OE2 GLU E   9      22.069  16.906  10.799  1.00 57.73           O1-\nATOM    992  N   VAL E  10      16.326  17.345  14.082  1.00 18.70           N  \nATOM    993  CA  VAL E  10      15.448  18.026  15.018  1.00 17.20           C  \nATOM    994  C   VAL E  10      14.671  16.987  15.838  1.00 17.18           C  \nATOM    995  O   VAL E  10      14.601  17.078  17.071  1.00 18.33           O  \nATOM    996  CB  VAL E  10      14.491  18.970  14.275  1.00 19.73           C  \nATOM    997  CG1 VAL E  10      13.406  19.505  15.203  1.00 17.91           C  \nATOM    998  CG2 VAL E  10      15.283  20.125  13.693  1.00 20.10           C  \nATOM    999  N   ALA E  11      14.130  15.975  15.165  1.00 21.03           N  \nATOM   1000  CA  ALA E  11      13.401  14.924  15.875  1.00 15.57           C  \nATOM   1001  C   ALA E  11      14.288  14.243  16.923  1.00 21.06           C  \nATOM   1002  O   ALA E  11      13.866  14.002  18.046  1.00 22.53           O  \nATOM   1003  CB  ALA E  11      12.851  13.893  14.893  1.00 19.21           C  \nATOM   1004  N   LYS E  12      15.516  13.920  16.552  1.00 18.75           N  \nATOM   1005  CA  LYS E  12      16.422  13.268  17.486  1.00 19.07           C  \nATOM   1006  C   LYS E  12      16.765  14.163  18.669  1.00 25.60           C  \nATOM   1007  O   LYS E  12      16.914  13.679  19.790  1.00 23.27           O  \nATOM   1008  CB  LYS E  12      17.675  12.796  16.771  1.00 24.40           C  \nATOM   1009  CG  LYS E  12      17.414  11.477  16.043  1.00 32.64           C  \nATOM   1010  CD  LYS E  12      18.412  11.144  14.957  0.00 31.27           C  \nATOM   1011  CE  LYS E  12      18.903  12.377  14.237  0.00 27.91           C  \nATOM   1012  NZ  LYS E  12      19.679  12.005  13.027  0.00 29.04           N1+\nATOM   1013  N   ALA E  13      16.901  15.462  18.421  1.00 18.85           N  \nATOM   1014  CA  ALA E  13      17.188  16.393  19.507  1.00 20.04           C  \nATOM   1015  C   ALA E  13      15.999  16.462  20.461  1.00 20.01           C  \nATOM   1016  O   ALA E  13      16.174  16.562  21.668  1.00 18.42           O  \nATOM   1017  CB  ALA E  13      17.514  17.781  18.952  1.00 18.49           C  \nATOM   1018  N   ILE E  14      14.791  16.409  19.913  1.00 19.22           N  \nATOM   1019  CA  ILE E  14      13.580  16.456  20.724  1.00 18.62           C  \nATOM   1020  C   ILE E  14      13.474  15.202  21.608  1.00 19.65           C  \nATOM   1021  O   ILE E  14      13.010  15.273  22.756  1.00 19.11           O  \nATOM   1022  CB  ILE E  14      12.335  16.622  19.825  1.00 14.45           C  \nATOM   1023  CG1 ILE E  14      12.331  18.041  19.240  1.00 15.83           C  \nATOM   1024  CG2 ILE E  14      11.048  16.423  20.612  1.00 18.65           C  \nATOM   1025  CD1 ILE E  14      11.263  18.247  18.167  1.00 18.24           C  \nATOM   1026  N   LYS E  15      13.917  14.060  21.086  1.00 19.00           N  \nATOM   1027  CA  LYS E  15      13.987  12.845  21.898  1.00 16.77           C  \nATOM   1028  C   LYS E  15      14.928  13.036  23.090  1.00 18.60           C  \nATOM   1029  O   LYS E  15      14.689  12.493  24.156  1.00 20.54           O  \nATOM   1030  CB  LYS E  15      14.470  11.663  21.061  1.00 24.78           C  \nATOM   1031  CG  LYS E  15      13.464  11.135  20.068  1.00 28.38           C  \nATOM   1032  CD  LYS E  15      14.061   9.949  19.339  1.00 26.31           C  \nATOM   1033  CE  LYS E  15      13.053   9.236  18.474  1.00 44.53           C  \nATOM   1034  NZ  LYS E  15      11.823   8.934  19.223  0.00 41.79           N1+\nATOM   1035  N   GLU E  16      16.019  13.769  22.890  1.00 19.12           N  \nATOM   1036  CA  GLU E  16      16.934  14.054  23.991  1.00 21.56           C  \nATOM   1037  C   GLU E  16      16.253  14.895  25.058  1.00 17.06           C  \nATOM   1038  O   GLU E  16      16.520  14.719  26.245  1.00 21.26           O  \nATOM   1039  CB  GLU E  16      18.193  14.768  23.512  1.00 24.71           C  \nATOM   1040  CG  GLU E  16      19.124  13.929  22.663  1.00 30.41           C  \nATOM   1041  CD  GLU E  16      20.447  14.634  22.422  1.00 49.91           C  \nATOM   1042  OE1 GLU E  16      20.842  15.467  23.268  1.00 55.51           O  \nATOM   1043  OE2 GLU E  16      21.094  14.358  21.392  1.00 58.87           O1-\nATOM   1044  N   VAL E  17      15.385  15.811  24.632  1.00 19.99           N  \nATOM   1045  CA  VAL E  17      14.608  16.611  25.574  1.00 18.04           C  \nATOM   1046  C   VAL E  17      13.672  15.706  26.371  1.00 17.87           C  \nATOM   1047  O   VAL E  17      13.589  15.804  27.593  1.00 19.31           O  \nATOM   1048  CB  VAL E  17      13.804  17.694  24.847  1.00 17.88           C  \nATOM   1049  CG1 VAL E  17      12.770  18.326  25.790  1.00 18.21           C  \nATOM   1050  CG2 VAL E  17      14.761  18.740  24.291  1.00 17.37           C  \nATOM   1051  N   ALA E  18      13.008  14.776  25.690  1.00 17.42           N  \nATOM   1052  CA  ALA E  18      12.119  13.842  26.387  1.00 15.27           C  \nATOM   1053  C   ALA E  18      12.867  13.027  27.450  1.00 19.50           C  \nATOM   1054  O   ALA E  18      12.376  12.811  28.560  1.00 20.68           O  \nATOM   1055  CB  ALA E  18      11.441  12.917  25.396  1.00 20.57           C  \nATOM   1056  N   TRP E  19      14.054  12.559  27.104  1.00 20.20           N  \nATOM   1057  CA  TRP E  19      14.851  11.791  28.048  1.00 20.07           C  \nATOM   1058  C   TRP E  19      15.271  12.626  29.248  1.00 25.15           C  \nATOM   1059  O   TRP E  19      15.283  12.144  30.376  1.00 23.03           O  \nATOM   1060  CB  TRP E  19      16.100  11.235  27.388  1.00 26.21           C  \nATOM   1061  CG  TRP E  19      16.877  10.420  28.349  1.00 26.95           C  \nATOM   1062  CD1 TRP E  19      18.036  10.770  28.980  1.00 29.69           C  \nATOM   1063  CD2 TRP E  19      16.539   9.113  28.818  1.00 28.30           C  \nATOM   1064  CE2 TRP E  19      17.543   8.725  29.727  1.00 30.69           C  \nATOM   1065  CE3 TRP E  19      15.492   8.227  28.549  1.00 33.03           C  \nATOM   1066  NE1 TRP E  19      18.442   9.754  29.817  1.00 27.09           N  \nATOM   1067  CZ2 TRP E  19      17.531   7.486  30.361  1.00 28.12           C  \nATOM   1068  CZ3 TRP E  19      15.479   6.999  29.194  1.00 34.30           C  \nATOM   1069  CH2 TRP E  19      16.491   6.643  30.086  1.00 36.03           C  \nATOM   1070  N   ALA E  20      15.630  13.880  29.002  1.00 20.68           N  \nATOM   1071  CA  ALA E  20      16.053  14.756  30.091  1.00 18.01           C  \nATOM   1072  C   ALA E  20      14.890  15.002  31.045  1.00 18.95           C  \nATOM   1073  O   ALA E  20      15.079  15.071  32.254  1.00 19.49           O  \nATOM   1074  CB  ALA E  20      16.592  16.065  29.542  1.00 20.77           C  \nATOM   1075  N   ILE E  21      13.687  15.120  30.494  1.00 20.31           N  \nATOM   1076  CA  ILE E  21      12.491  15.301  31.312  1.00 18.45           C  \nATOM   1077  C   ILE E  21      12.207  14.023  32.124  1.00 16.50           C  \nATOM   1078  O   ILE E  21      11.771  14.106  33.270  1.00 21.02           O  \nATOM   1079  CB  ILE E  21      11.279  15.687  30.442  1.00 15.90           C  \nATOM   1080  CG1 ILE E  21      11.503  17.069  29.826  1.00 15.88           C  \nATOM   1081  CG2 ILE E  21      10.006  15.743  31.247  1.00 17.64           C  \nATOM   1082  CD1 ILE E  21      10.452  17.422  28.791  1.00 16.24           C  \nATOM   1083  N   LYS E  22      12.479  12.853  31.550  1.00 18.65           N  \nATOM   1084  CA  LYS E  22      12.369  11.601  32.317  1.00 18.44           C  \nATOM   1085  C   LYS E  22      13.309  11.609  33.506  1.00 25.81           C  \nATOM   1086  O   LYS E  22      12.970  11.080  34.561  1.00 24.20           O  \nATOM   1087  CB  LYS E  22      12.667  10.384  31.431  1.00 26.90           C  \nATOM   1088  CG  LYS E  22      11.541   9.996  30.491  1.00 27.67           C  \nATOM   1089  CD  LYS E  22      11.985   8.879  29.543  1.00 29.97           C  \nATOM   1090  CE  LYS E  22      10.818   8.289  28.770  1.00 33.78           C  \nATOM   1091  NZ  LYS E  22       9.853   7.599  29.671  1.00 54.93           N1+\nATOM   1092  N  AGLU E  23      14.482  12.220  33.349  1.00 25.66           N  \nATOM   1093  CA AGLU E  23      15.414  12.279  34.467  0.81 23.38           C  \nATOM   1094  C  AGLU E  23      14.889  13.200  35.567  1.00 26.51           C  \nATOM   1095  O  AGLU E  23      15.101  12.928  36.752  1.00 24.61           O  \nATOM   1096  CB AGLU E  23      16.797  12.737  34.012  0.81 23.25           C  \nATOM   1097  CG AGLU E  23      17.792  12.623  35.153  0.81 22.91           C  \nATOM   1098  CD AGLU E  23      19.207  12.957  34.774  0.81 38.99           C  \nATOM   1099  OE1AGLU E  23      20.063  12.978  35.685  0.81 38.29           O  \nATOM   1100  OE2AGLU E  23      19.470  13.195  33.584  0.81 32.38           O1-\nATOM   1101  N   VAL E  24      14.196  14.271  35.185  1.00 23.56           N  \nATOM   1102  CA  VAL E  24      13.575  15.154  36.164  1.00 24.91           C  \nATOM   1103  C   VAL E  24      12.516  14.384  36.952  1.00 22.78           C  \nATOM   1104  O   VAL E  24      12.445  14.491  38.183  1.00 22.68           O  \nATOM   1105  CB  VAL E  24      12.931  16.394  35.493  1.00 24.12           C  \nATOM   1106  CG1 VAL E  24      12.013  17.127  36.477  1.00 20.79           C  \nATOM   1107  CG2 VAL E  24      14.010  17.323  34.941  1.00 23.22           C  \nATOM   1108  N   ALA E  25      11.705  13.590  36.259  1.00 21.61           N  \nATOM   1109  CA  ALA E  25      10.692  12.785  36.939  1.00 22.76           C  \nATOM   1110  C   ALA E  25      11.341  11.854  37.970  1.00 28.21           C  \nATOM   1111  O   ALA E  25      10.886  11.737  39.101  1.00 27.58           O  \nATOM   1112  CB  ALA E  25       9.901  11.976  35.941  1.00 24.90           C  \nATOM   1113  N   GLN E  26      12.434  11.220  37.570  1.00 24.74           N  \nATOM   1114  CA  GLN E  26      13.156  10.319  38.457  1.00 28.61           C  \nATOM   1115  C   GLN E  26      13.788  11.054  39.639  1.00 31.10           C  \nATOM   1116  O   GLN E  26      13.869  10.525  40.760  1.00 32.90           O  \nATOM   1117  CB  GLN E  26      14.218   9.550  37.671  1.00 33.04           C  \nATOM   1118  CG  GLN E  26      13.634   8.480  36.802  1.00 54.22           C  \nATOM   1119  CD  GLN E  26      12.853   7.478  37.613  1.00 60.21           C  \nATOM   1120  NE2 GLN E  26      13.563   6.585  38.283  1.00 60.67           N  \nATOM   1121  OE1 GLN E  26      11.631   7.562  37.710  1.00 65.05           O  \nATOM   1122  N   ALA E  27      14.234  12.278  39.396  1.00 28.00           N  \nATOM   1123  CA  ALA E  27      14.806  13.108  40.458  1.00 31.80           C  \nATOM   1124  C   ALA E  27      13.734  13.417  41.503  1.00 34.56           C  \nATOM   1125  O   ALA E  27      13.973  13.342  42.714  1.00 33.00           O  \nATOM   1126  CB  ALA E  27      15.365  14.396  39.863  1.00 32.02           C  \nATOM   1127  N   ILE E  28      12.536  13.736  41.019  1.00 28.63           N  \nATOM   1128  CA  ILE E  28      11.406  14.030  41.896  1.00 27.18           C  \nATOM   1129  C   ILE E  28      10.970  12.792  42.690  1.00 25.69           C  \nATOM   1130  O   ILE E  28      10.704  12.878  43.884  1.00 29.17           O  \nATOM   1131  CB  ILE E  28      10.214  14.590  41.092  1.00 25.60           C  \nATOM   1132  CG1 ILE E  28      10.589  15.946  40.489  1.00 26.96           C  \nATOM   1133  CG2 ILE E  28       8.981  14.705  41.994  1.00 33.58           C  \nATOM   1134  CD1 ILE E  28       9.558  16.492  39.545  1.00 24.81           C  \nATOM   1135  N   LYS E  29      10.936  11.645  42.017  1.00 29.41           N  \nATOM   1136  CA  LYS E  29      10.536  10.383  42.636  1.00 35.54           C  \nATOM   1137  C   LYS E  29      11.505  10.012  43.752  1.00 40.52           C  \nATOM   1138  O   LYS E  29      11.105   9.464  44.789  1.00 44.18           O  \nATOM   1139  CB  LYS E  29      10.477   9.279  41.566  1.00 34.10           C  \nATOM   1140  CG  LYS E  29       9.996   7.931  42.073  1.00 45.67           C  \nATOM   1141  CD  LYS E  29       9.897   6.911  40.952  1.00 46.94           C  \nATOM   1142  CE  LYS E  29       9.386   5.577  41.472  0.00 46.05           C  \nATOM   1143  NZ  LYS E  29       9.298   4.549  40.400  0.00 46.41           N1+\nATOM   1144  N   GLY E  30      12.778  10.328  43.548  1.00 36.39           N  \nATOM   1145  CA  GLY E  30      13.774  10.141  44.584  1.00 44.09           C  \nATOM   1146  C   GLY E  30      13.826  11.315  45.545  1.00 37.46           C  \nATOM   1147  O   GLY E  30      13.842  11.119  46.764  1.00 54.26           O  \nTER   \nATOM   1148  N   NH2 E  31      13.853  12.521  45.087  1.00  0.00           N  \nATOM   1149  H1  NH2 E  31      13.840  12.683  44.090  1.00  0.00           H  \nATOM   1150  H2  NH2 E  31      13.888  13.303  45.725  1.00  0.00           H  \nATOM   1151  C   ACE F   0      23.900  24.001   2.300  1.00  0.00           C  \nATOM   1152  O   ACE F   0      24.155  25.179   2.582  1.00  0.00           O  \nATOM   1153  CH3 ACE F   0      24.909  22.902   2.554  1.00  0.00           C  \nATOM   1154 1HH3 ACE F   0      25.148  22.855   3.607  1.00  0.00           H  \nATOM   1155 2HH3 ACE F   0      24.505  21.949   2.245  1.00  0.00           H  \nATOM   1156 3HH3 ACE F   0      25.814  23.095   1.997  1.00  0.00           H  \nATOM   1157  N   GLY F   1      22.756  23.705   1.782  1.00 38.58           N  \nATOM   1158  CA  GLY F   1      21.781  24.749   1.534  1.00 28.18           C  \nATOM   1159  C   GLY F   1      21.408  25.543   2.762  1.00 26.29           C  \nATOM   1160  O   GLY F   1      21.482  25.042   3.884  1.00 26.18           O  \nATOM   1161  N   GLU F   2      20.960  26.773   2.553  1.00 28.20           N  \nATOM   1162  CA  GLU F   2      20.699  27.670   3.664  1.00 24.84           C  \nATOM   1163  C   GLU F   2      19.536  27.204   4.535  1.00 24.07           C  \nATOM   1164  O   GLU F   2      19.564  27.398   5.748  1.00 23.68           O  \nATOM   1165  CB  GLU F   2      20.445  29.094   3.162  1.00 27.22           C  \nATOM   1166  CG  GLU F   2      19.295  29.238   2.178  1.00 35.18           C  \nATOM   1167  CD  GLU F   2      18.968  30.693   1.878  1.00 41.06           C  \nATOM   1168  OE1 GLU F   2      19.709  31.582   2.350  1.00 37.15           O  \nATOM   1169  OE2 GLU F   2      17.960  30.949   1.189  1.00 30.33           O1-\nATOM   1170  N   VAL F   3      18.513  26.595   3.940  1.00 21.82           N  \nATOM   1171  CA  VAL F   3      17.378  26.137   4.746  1.00 19.52           C  \nATOM   1172  C   VAL F   3      17.768  24.947   5.608  1.00 24.59           C  \nATOM   1173  O   VAL F   3      17.466  24.921   6.797  1.00 21.58           O  \nATOM   1174  CB  VAL F   3      16.165  25.795   3.861  1.00 21.82           C  \nATOM   1175  CG1 VAL F   3      15.084  25.095   4.674  1.00 21.57           C  \nATOM   1176  CG2 VAL F   3      15.620  27.067   3.261  1.00 21.93           C  \nATOM   1177  N   ALA F   4      18.441  23.971   5.019  1.00 22.38           N  \nATOM   1178  CA  ALA F   4      18.920  22.819   5.778  1.00 22.26           C  \nATOM   1179  C   ALA F   4      19.839  23.234   6.911  1.00 22.51           C  \nATOM   1180  O   ALA F   4      19.747  22.704   8.023  1.00 22.00           O  \nATOM   1181  CB  ALA F   4      19.640  21.837   4.842  1.00 26.57           C  \nATOM   1182  N   GLN F   5      20.724  24.185   6.639  1.00 23.54           N  \nATOM   1183  CA  GLN F   5      21.672  24.638   7.674  1.00 24.00           C  \nATOM   1184  C   GLN F   5      20.954  25.315   8.836  1.00 27.01           C  \nATOM   1185  O   GLN F   5      21.310  25.138  10.009  1.00 22.32           O  \nATOM   1186  CB  GLN F   5      22.699  25.613   7.075  1.00 25.53           C  \nATOM   1187  CG  GLN F   5      23.574  25.017   5.988  1.00 47.89           C  \nATOM   1188  CD  GLN F   5      24.345  23.800   6.422  1.00 66.85           C  \nATOM   1189  NE2 GLN F   5      24.367  22.792   5.565  1.00 71.53           N  \nATOM   1190  OE1 GLN F   5      24.924  23.762   7.511  1.00 74.48           O  \nATOM   1191  N   ALA F   6      19.926  26.081   8.500  1.00 24.20           N  \nATOM   1192  CA  ALA F   6      19.144  26.769   9.509  1.00 23.04           C  \nATOM   1193  C   ALA F   6      18.400  25.773  10.390  1.00 18.19           C  \nATOM   1194  O   ALA F   6      18.278  25.960  11.596  1.00 20.16           O  \nATOM   1195  CB  ALA F   6      18.168  27.728   8.854  1.00 24.05           C  \nATOM   1196  N   ILE F   7      17.890  24.715   9.776  1.00 18.08           N  \nATOM   1197  CA  ILE F   7      17.174  23.678  10.510  1.00 17.32           C  \nATOM   1198  C   ILE F   7      18.149  22.948  11.445  1.00 18.62           C  \nATOM   1199  O   ILE F   7      17.808  22.631  12.589  1.00 19.14           O  \nATOM   1200  CB  ILE F   7      16.471  22.692   9.547  1.00 17.41           C  \nATOM   1201  CG1 ILE F   7      15.382  23.424   8.760  1.00 16.40           C  \nATOM   1202  CG2 ILE F   7      15.848  21.552  10.330  1.00 21.25           C  \nATOM   1203  CD1 ILE F   7      14.770  22.605   7.603  1.00 24.81           C  \nATOM   1204  N   LYS F   8      19.379  22.734  10.988  1.00 20.00           N  \nATOM   1205  CA  LYS F   8      20.414  22.155  11.849  1.00 21.18           C  \nATOM   1206  C   LYS F   8      20.689  23.038  13.064  1.00 22.32           C  \nATOM   1207  O   LYS F   8      20.984  22.530  14.147  1.00 23.86           O  \nATOM   1208  CB  LYS F   8      21.715  21.937  11.081  1.00 24.06           C  \nATOM   1209  CG  LYS F   8      21.714  20.758  10.125  1.00 27.77           C  \nATOM   1210  CD  LYS F   8      23.087  20.632   9.479  1.00 38.07           C  \nATOM   1211  CE  LYS F   8      23.272  19.288   8.810  1.00 56.22           C  \nATOM   1212  NZ  LYS F   8      22.203  19.011   7.831  1.00 63.60           N1+\nATOM   1213  N   GLU F   9      20.615  24.355  12.888  1.00 20.76           N  \nATOM   1214  CA  GLU F   9      20.769  25.272  14.020  1.00 20.08           C  \nATOM   1215  C   GLU F   9      19.628  25.100  15.016  1.00 19.52           C  \nATOM   1216  O   GLU F   9      19.831  25.236  16.230  1.00 21.24           O  \nATOM   1217  CB  GLU F   9      20.828  26.726  13.548  1.00 24.51           C  \nATOM   1218  CG  GLU F   9      22.093  27.119  12.821  1.00 34.48           C  \nATOM   1219  CD  GLU F   9      22.143  28.608  12.535  1.00 56.69           C  \nATOM   1220  OE1 GLU F   9      21.697  29.389  13.401  1.00 60.34           O  \nATOM   1221  OE2 GLU F   9      22.634  29.002  11.457  1.00 66.97           O1-\nATOM   1222  N   VAL F  10      18.424  24.835  14.510  1.00 18.71           N  \nATOM   1223  CA  VAL F  10      17.288  24.556  15.386  1.00 19.70           C  \nATOM   1224  C   VAL F  10      17.546  23.280  16.200  1.00 19.18           C  \nATOM   1225  O   VAL F  10      17.281  23.242  17.407  1.00 19.26           O  \nATOM   1226  CB  VAL F  10      15.971  24.450  14.582  1.00 20.66           C  \nATOM   1227  CG1 VAL F  10      14.856  23.844  15.435  1.00 19.11           C  \nATOM   1228  CG2 VAL F  10      15.577  25.839  14.094  1.00 18.24           C  \nATOM   1229  N   ALA F  11      18.059  22.242  15.547  1.00 19.06           N  \nATOM   1230  CA  ALA F  11      18.388  21.000  16.255  1.00 17.55           C  \nATOM   1231  C   ALA F  11      19.400  21.239  17.364  1.00 21.06           C  \nATOM   1232  O   ALA F  11      19.244  20.719  18.472  1.00 20.51           O  \nATOM   1233  CB  ALA F  11      18.915  19.948  15.277  1.00 23.56           C  \nATOM   1234  N   LYS F  12      20.435  22.021  17.063  1.00 20.11           N  \nATOM   1235  CA  LYS F  12      21.495  22.293  18.036  1.00 20.62           C  \nATOM   1236  C   LYS F  12      20.933  23.038  19.246  1.00 21.23           C  \nATOM   1237  O   LYS F  12      21.312  22.773  20.390  1.00 22.30           O  \nATOM   1238  CB  LYS F  12      22.608  23.101  17.373  1.00 30.44           C  \nATOM   1239  CG  LYS F  12      23.456  22.294  16.402  1.00 42.12           C  \nATOM   1240  CD  LYS F  12      24.259  23.185  15.463  1.00 47.55           C  \nATOM   1241  CE  LYS F  12      25.239  24.069  16.205  0.00 44.02           C  \nATOM   1242  NZ  LYS F  12      26.002  24.927  15.255  0.00 42.81           N1+\nATOM   1243  N   ALA F  13      20.020  23.966  18.993  1.00 21.27           N  \nATOM   1244  CA  ALA F  13      19.404  24.736  20.075  1.00 19.65           C  \nATOM   1245  C   ALA F  13      18.522  23.846  20.946  1.00 21.85           C  \nATOM   1246  O   ALA F  13      18.478  24.007  22.171  1.00 18.74           O  \nATOM   1247  CB  ALA F  13      18.612  25.900  19.517  1.00 18.67           C  \nATOM   1248  N   ILE F  14      17.837  22.890  20.328  1.00 16.92           N  \nATOM   1249  CA  ILE F  14      16.997  21.971  21.085  1.00 16.87           C  \nATOM   1250  C   ILE F  14      17.868  21.075  21.987  1.00 20.03           C  \nATOM   1251  O   ILE F  14      17.482  20.772  23.116  1.00 19.20           O  \nATOM   1252  CB  ILE F  14      16.107  21.135  20.160  1.00 15.37           C  \nATOM   1253  CG1 ILE F  14      15.069  22.048  19.503  1.00 16.57           C  \nATOM   1254  CG2 ILE F  14      15.413  19.985  20.935  1.00 18.96           C  \nATOM   1255  CD1 ILE F  14      14.257  21.336  18.413  1.00 20.34           C  \nATOM   1256  N   LYS F  15      19.052  20.694  21.515  1.00 18.66           N  \nATOM   1257  CA  LYS F  15      20.002  19.981  22.366  1.00 20.27           C  \nATOM   1258  C   LYS F  15      20.405  20.823  23.587  1.00 25.35           C  \nATOM   1259  O   LYS F  15      20.559  20.293  24.700  1.00 23.13           O  \nATOM   1260  CB  LYS F  15      21.253  19.574  21.582  1.00 22.07           C  \nATOM   1261  CG  LYS F  15      21.054  18.410  20.629  1.00 26.90           C  \nATOM   1262  CD  LYS F  15      22.383  18.015  19.990  1.00 37.45           C  \nATOM   1263  CE  LYS F  15      22.263  16.728  19.183  1.00 53.55           C  \nATOM   1264  NZ  LYS F  15      20.982  16.011  19.437  1.00 52.18           N1+\nATOM   1265  N   GLU F  16      20.544  22.132  23.395  1.00 20.87           N  \nATOM   1266  CA  GLU F  16      20.854  23.018  24.515  1.00 21.89           C  \nATOM   1267  C   GLU F  16      19.719  23.008  25.541  1.00 24.44           C  \nATOM   1268  O   GLU F  16      19.957  23.120  26.744  1.00 21.13           O  \nATOM   1269  CB  GLU F  16      21.105  24.446  24.035  1.00 25.73           C  \nATOM   1270  CG  GLU F  16      22.358  24.620  23.206  1.00 32.54           C  \nATOM   1271  CD  GLU F  16      22.680  26.080  22.945  1.00 43.80           C  \nATOM   1272  OE1 GLU F  16      23.321  26.378  21.920  1.00 54.76           O  \nATOM   1273  OE2 GLU F  16      22.298  26.931  23.775  1.00 43.00           O1-\nATOM   1274  N   VAL F  17      18.486  22.891  25.061  1.00 22.06           N  \nATOM   1275  CA  VAL F  17      17.338  22.800  25.958  1.00 18.98           C  \nATOM   1276  C   VAL F  17      17.411  21.507  26.791  1.00 19.32           C  \nATOM   1277  O   VAL F  17      17.169  21.524  28.005  1.00 19.10           O  \nATOM   1278  CB  VAL F  17      16.014  22.882  25.171  1.00 19.77           C  \nATOM   1279  CG1 VAL F  17      14.833  22.480  26.052  1.00 17.63           C  \nATOM   1280  CG2 VAL F  17      15.824  24.292  24.621  1.00 15.25           C  \nATOM   1281  N   ALA F  18      17.769  20.397  26.149  1.00 17.37           N  \nATOM   1282  CA  ALA F  18      17.931  19.116  26.848  1.00 17.77           C  \nATOM   1283  C   ALA F  18      18.984  19.208  27.948  1.00 22.08           C  \nATOM   1284  O   ALA F  18      18.762  18.733  29.061  1.00 21.32           O  \nATOM   1285  CB  ALA F  18      18.299  18.020  25.859  1.00 19.76           C  \nATOM   1286  N   TRP F  19      20.120  19.835  27.646  1.00 21.23           N  \nATOM   1287  CA  TRP F  19      21.186  19.973  28.640  1.00 21.63           C  \nATOM   1288  C   TRP F  19      20.714  20.807  29.825  1.00 24.35           C  \nATOM   1289  O   TRP F  19      21.073  20.516  30.958  1.00 25.89           O  \nATOM   1290  CB  TRP F  19      22.437  20.621  28.048  1.00 31.47           C  \nATOM   1291  CG  TRP F  19      23.069  19.866  26.923  1.00 46.59           C  \nATOM   1292  CD1 TRP F  19      23.022  18.519  26.704  1.00 54.38           C  \nATOM   1293  CD2 TRP F  19      23.848  20.421  25.860  1.00 50.49           C  \nATOM   1294  CE2 TRP F  19      24.244  19.354  25.026  1.00 58.44           C  \nATOM   1295  CE3 TRP F  19      24.253  21.719  25.525  1.00 51.83           C  \nATOM   1296  NE1 TRP F  19      23.724  18.201  25.564  1.00 49.86           N  \nATOM   1297  CZ2 TRP F  19      25.019  19.542  23.883  1.00 67.72           C  \nATOM   1298  CZ3 TRP F  19      25.022  21.907  24.387  1.00 56.99           C  \nATOM   1299  CH2 TRP F  19      25.398  20.823  23.581  1.00 62.17           C  \nATOM   1300  N   ALA F  20      19.944  21.861  29.561  1.00 21.81           N  \nATOM   1301  CA  ALA F  20      19.436  22.704  30.640  1.00 24.00           C  \nATOM   1302  C   ALA F  20      18.464  21.947  31.533  1.00 20.42           C  \nATOM   1303  O   ALA F  20      18.484  22.102  32.756  1.00 21.14           O  \nATOM   1304  CB  ALA F  20      18.775  23.942  30.085  1.00 22.28           C  \nATOM   1305  N   ILE F  21      17.639  21.094  30.933  1.00 20.13           N  \nATOM   1306  CA  ILE F  21      16.692  20.301  31.722  1.00 19.03           C  \nATOM   1307  C   ILE F  21      17.427  19.292  32.628  1.00 19.02           C  \nATOM   1308  O   ILE F  21      17.014  19.042  33.764  1.00 23.61           O  \nATOM   1309  CB  ILE F  21      15.684  19.584  30.791  1.00 17.73           C  \nATOM   1310  CG1 ILE F  21      14.792  20.626  30.114  1.00 16.38           C  \nATOM   1311  CG2 ILE F  21      14.812  18.586  31.544  1.00 19.56           C  \nATOM   1312  CD1 ILE F  21      13.908  20.034  29.010  1.00 22.05           C  \nATOM   1313  N   LYS F  22      18.524  18.730  32.134  1.00 20.15           N  \nATOM   1314  CA  LYS F  22      19.373  17.862  32.952  1.00 20.56           C  \nATOM   1315  C   LYS F  22      19.938  18.620  34.141  1.00 26.20           C  \nATOM   1316  O   LYS F  22      20.134  18.038  35.207  1.00 27.55           O  \nATOM   1317  CB  LYS F  22      20.506  17.260  32.124  1.00 27.50           C  \nATOM   1318  CG  LYS F  22      20.041  16.143  31.215  1.00 25.26           C  \nATOM   1319  CD  LYS F  22      21.159  15.654  30.312  1.00 30.39           C  \nATOM   1320  CE  LYS F  22      20.737  14.404  29.567  1.00 43.48           C  \nATOM   1321  NZ  LYS F  22      21.829  13.831  28.733  1.00 49.57           N1+\nATOM   1322  N   GLU F  23      20.211  19.910  33.960  1.00 23.62           N  \nATOM   1323  CA  GLU F  23      20.674  20.727  35.084  1.00 25.05           C  \nATOM   1324  C   GLU F  23      19.580  20.841  36.133  1.00 23.75           C  \nATOM   1325  O   GLU F  23      19.856  20.885  37.336  1.00 26.81           O  \nATOM   1326  CB  GLU F  23      21.071  22.128  34.626  1.00 25.80           C  \nATOM   1327  CG  GLU F  23      22.270  22.184  33.718  1.00 29.09           C  \nATOM   1328  CD  GLU F  23      22.810  23.583  33.567  1.00 35.53           C  \nATOM   1329  OE1 GLU F  23      22.833  24.332  34.567  1.00 38.63           O  \nATOM   1330  OE2 GLU F  23      23.201  23.939  32.440  1.00 39.13           O1-\nATOM   1331  N   VAL F  24      18.337  20.908  35.669  1.00 21.61           N  \nATOM   1332  CA  VAL F  24      17.189  20.958  36.565  1.00 20.67           C  \nATOM   1333  C   VAL F  24      17.085  19.648  37.357  1.00 23.28           C  \nATOM   1334  O   VAL F  24      16.867  19.673  38.576  1.00 23.57           O  \nATOM   1335  CB  VAL F  24      15.876  21.243  35.784  1.00 22.39           C  \nATOM   1336  CG1 VAL F  24      14.670  21.077  36.696  1.00 21.32           C  \nATOM   1337  CG2 VAL F  24      15.893  22.653  35.214  1.00 22.79           C  \nATOM   1338  N   ALA F  25      17.258  18.515  36.680  1.00 21.95           N  \nATOM   1339  CA  ALA F  25      17.233  17.221  37.362  1.00 22.02           C  \nATOM   1340  C   ALA F  25      18.306  17.155  38.429  1.00 24.54           C  \nATOM   1341  O   ALA F  25      18.063  16.683  39.543  1.00 26.42           O  \nATOM   1342  CB  ALA F  25      17.404  16.091  36.361  1.00 22.23           C  \nATOM   1343  N   GLN F  26      19.501  17.628  38.095  1.00 24.22           N  \nATOM   1344  CA  GLN F  26      20.607  17.586  39.057  1.00 25.55           C  \nATOM   1345  C   GLN F  26      20.375  18.548  40.232  1.00 29.79           C  \nATOM   1346  O   GLN F  26      20.781  18.260  41.357  1.00 28.38           O  \nATOM   1347  CB  GLN F  26      21.935  17.873  38.368  1.00 28.12           C  \nATOM   1348  CG  GLN F  26      22.334  16.745  37.416  0.00 26.89           C  \nATOM   1349  CD  GLN F  26      22.403  15.389  38.110  0.00 25.38           C  \nATOM   1350  NE2 GLN F  26      21.750  14.392  37.518  0.00 24.01           N  \nATOM   1351  OE1 GLN F  26      23.023  15.243  39.165  0.00 26.09           O  \nATOM   1352  N   ALA F  27      19.735  19.685  39.954  1.00 28.87           N  \nATOM   1353  CA  ALA F  27      19.415  20.657  40.994  1.00 28.30           C  \nATOM   1354  C   ALA F  27      18.441  20.034  41.988  1.00 26.42           C  \nATOM   1355  O   ALA F  27      18.558  20.218  43.193  1.00 25.83           O  \nATOM   1356  CB  ALA F  27      18.824  21.920  40.393  1.00 25.37           C  \nATOM   1357  N   ILE F  28      17.466  19.299  41.465  1.00 24.10           N  \nATOM   1358  CA  ILE F  28      16.490  18.599  42.301  1.00 25.95           C  \nATOM   1359  C   ILE F  28      17.150  17.483  43.135  1.00 26.67           C  \nATOM   1360  O   ILE F  28      16.860  17.310  44.327  1.00 30.55           O  \nATOM   1361  CB  ILE F  28      15.354  18.025  41.426  1.00 23.90           C  \nATOM   1362  CG1 ILE F  28      14.543  19.176  40.818  1.00 29.47           C  \nATOM   1363  CG2 ILE F  28      14.454  17.098  42.229  1.00 26.95           C  \nATOM   1364  CD1 ILE F  28      13.508  18.732  39.796  1.00 26.68           C  \nATOM   1365  N   LYS F  29      18.051  16.740  42.506  1.00 32.42           N  \nATOM   1366  CA  LYS F  29      18.766  15.652  43.167  1.00 28.29           C  \nATOM   1367  C   LYS F  29      19.661  16.231  44.257  1.00 34.53           C  \nATOM   1368  O   LYS F  29      19.857  15.624  45.315  1.00 34.81           O  \nATOM   1369  CB  LYS F  29      19.580  14.884  42.125  1.00 34.49           C  \nATOM   1370  CG  LYS F  29      18.756  13.908  41.312  1.00 38.87           C  \nATOM   1371  CD  LYS F  29      19.613  13.168  40.300  1.00 45.93           C  \nATOM   1372  CE  LYS F  29      18.763  12.683  39.135  1.00 48.16           C  \nATOM   1373  NZ  LYS F  29      19.540  11.913  38.121  1.00 41.08           N1+\nATOM   1374  N   GLY F  30      20.239  17.389  43.947  1.00 29.10           N  \nATOM   1375  CA  GLY F  30      20.994  18.212  44.876  1.00 41.02           C  \nATOM   1376  C   GLY F  30      20.516  18.172  46.307  1.00 52.95           C  \nATOM   1377  O   GLY F  30      21.329  18.021  47.217  1.00 58.14           O  \nTER   \nATOM   1378  N   NH2 F  31      19.260  18.296  46.574  1.00  0.00           N  \nATOM   1379  H1  NH2 F  31      18.594  18.420  45.825  1.00  0.00           H  \nATOM   1380  H2  NH2 F  31      18.943  18.269  47.532  1.00  0.00           H  \nATOM   1381  C   ACE G   0      18.539  35.093   3.032  1.00  0.00           C  \nATOM   1382  O   ACE G   0      17.781  36.029   3.320  1.00  0.00           O  \nATOM   1383  CH3 ACE G   0      20.018  35.163   3.344  1.00  0.00           C  \nATOM   1384 1HH3 ACE G   0      20.167  35.280   4.408  1.00  0.00           H  \nATOM   1385 2HH3 ACE G   0      20.508  34.257   3.020  1.00  0.00           H  \nATOM   1386 3HH3 ACE G   0      20.464  36.004   2.834  1.00  0.00           H  \nATOM   1387  N   GLY G   1      18.060  34.042   2.458  1.00 32.28           N  \nATOM   1388  CA  GLY G   1      16.643  33.963   2.154  1.00 27.81           C  \nATOM   1389  C   GLY G   1      15.731  34.134   3.347  1.00 22.47           C  \nATOM   1390  O   GLY G   1      16.119  33.858   4.480  1.00 25.50           O  \nATOM   1391  N  AGLU G   2      14.500  34.563   3.085  1.00 21.42           N  \nATOM   1392  CA AGLU G   2      13.596  34.875   4.185  0.73 21.74           C  \nATOM   1393  C  AGLU G   2      13.177  33.639   4.974  1.00 26.25           C  \nATOM   1394  O  AGLU G   2      12.991  33.739   6.166  1.00 21.65           O  \nATOM   1395  CB AGLU G   2      12.351  35.608   3.692  0.73 25.18           C  \nATOM   1396  CG AGLU G   2      11.550  34.830   2.675  0.73 20.92           C  \nATOM   1397  CD AGLU G   2      10.217  35.472   2.367  0.73 37.44           C  \nATOM   1398  OE1AGLU G   2       9.898  36.520   2.968  0.73 37.96           O  \nATOM   1399  OE2AGLU G   2       9.487  34.926   1.519  0.73 27.09           O1-\nATOM   1400  N   VAL G   3      13.042  32.485   4.328  1.00 20.24           N  \nATOM   1401  CA  VAL G   3      12.639  31.292   5.071  1.00 18.63           C  \nATOM   1402  C   VAL G   3      13.767  30.821   5.984  1.00 22.72           C  \nATOM   1403  O   VAL G   3      13.542  30.562   7.176  1.00 18.67           O  \nATOM   1404  CB  VAL G   3      12.190  30.154   4.131  1.00 17.78           C  \nATOM   1405  CG1 VAL G   3      12.057  28.832   4.898  1.00 17.09           C  \nATOM   1406  CG2 VAL G   3      10.871  30.543   3.475  1.00 20.15           C  \nATOM   1407  N   ALA G   4      14.981  30.748   5.448  1.00 19.84           N  \nATOM   1408  CA  ALA G   4      16.142  30.380   6.264  1.00 20.89           C  \nATOM   1409  C   ALA G   4      16.347  31.348   7.433  1.00 19.11           C  \nATOM   1410  O   ALA G   4      16.609  30.914   8.562  1.00 20.41           O  \nATOM   1411  CB  ALA G   4      17.400  30.313   5.405  1.00 24.95           C  \nATOM   1412  N  AGLN G   5      16.218  32.650   7.182  1.00 22.31           N  \nATOM   1413  CA AGLN G   5      16.361  33.639   8.250  0.59 22.22           C  \nATOM   1414  C  AGLN G   5      15.281  33.461   9.321  1.00 20.43           C  \nATOM   1415  O  AGLN G   5      15.553  33.612  10.504  1.00 22.93           O  \nATOM   1416  CB AGLN G   5      16.316  35.059   7.677  0.59 22.60           C  \nATOM   1417  CG AGLN G   5      17.536  35.422   6.842  0.59 32.31           C  \nATOM   1418  CD AGLN G   5      17.366  36.727   6.088  0.59 41.28           C  \nATOM   1419  NE2AGLN G   5      18.397  37.121   5.352  0.59 46.09           N  \nATOM   1420  OE1AGLN G   5      16.321  37.371   6.165  0.59 48.02           O  \nATOM   1421  N   ALA G   6      14.059  33.131   8.908  1.00 19.67           N  \nATOM   1422  CA  ALA G   6      12.982  32.913   9.877  1.00 21.48           C  \nATOM   1423  C   ALA G   6      13.255  31.687  10.741  1.00 19.23           C  \nATOM   1424  O   ALA G   6      12.995  31.692  11.949  1.00 19.16           O  \nATOM   1425  CB  ALA G   6      11.627  32.759   9.174  1.00 18.26           C  \nATOM   1426  N   ILE G   7      13.781  30.631  10.126  1.00 16.73           N  \nATOM   1427  CA  ILE G   7      14.115  29.414  10.864  1.00 16.81           C  \nATOM   1428  C   ILE G   7      15.233  29.702  11.864  1.00 20.37           C  \nATOM   1429  O   ILE G   7      15.204  29.212  12.989  1.00 20.38           O  \nATOM   1430  CB  ILE G   7      14.534  28.269   9.901  1.00 16.76           C  \nATOM   1431  CG1 ILE G   7      13.343  27.850   9.041  1.00 14.47           C  \nATOM   1432  CG2 ILE G   7      15.055  27.048  10.697  1.00 17.89           C  \nATOM   1433  CD1 ILE G   7      13.718  26.909   7.892  1.00 18.17           C  \nATOM   1434  N   LYS G   8      16.196  30.532  11.469  1.00 21.68           N  \nATOM   1435  CA  LYS G   8      17.249  30.934  12.395  1.00 21.30           C  \nATOM   1436  C   LYS G   8      16.677  31.697  13.586  1.00 24.32           C  \nATOM   1437  O   LYS G   8      17.210  31.593  14.693  1.00 22.08           O  \nATOM   1438  CB  LYS G   8      18.330  31.754  11.693  1.00 24.02           C  \nATOM   1439  CG  LYS G   8      19.233  30.908  10.808  1.00 24.38           C  \nATOM   1440  CD  LYS G   8      20.381  31.705  10.221  1.00 32.26           C  \nATOM   1441  CE  LYS G   8      19.963  32.526   9.040  1.00 43.42           C  \nATOM   1442  NZ  LYS G   8      21.046  33.477   8.648  1.00 52.83           N1+\nATOM   1443  N  AGLU G   9      15.609  32.464  13.378  1.00 19.46           N  \nATOM   1444  CA AGLU G   9      14.927  33.135  14.491  0.48 17.73           C  \nATOM   1445  C  AGLU G   9      14.324  32.121  15.470  1.00 20.12           C  \nATOM   1446  O  AGLU G   9      14.309  32.335  16.684  1.00 20.27           O  \nATOM   1447  CB AGLU G   9      13.830  34.071  13.986  0.48 19.65           C  \nATOM   1448  CG AGLU G   9      14.344  35.271  13.201  0.48 20.64           C  \nATOM   1449  CD AGLU G   9      13.266  36.309  12.930  0.48 32.55           C  \nATOM   1450  OE1AGLU G   9      13.425  37.087  11.967  0.48 42.32           O  \nATOM   1451  OE2AGLU G   9      12.271  36.363  13.685  0.48 33.15           O1-\nATOM   1452  N   VAL G  10      13.807  31.020  14.932  1.00 18.23           N  \nATOM   1453  CA  VAL G  10      13.260  29.957  15.766  1.00 17.34           C  \nATOM   1454  C   VAL G  10      14.378  29.381  16.631  1.00 14.00           C  \nATOM   1455  O   VAL G  10      14.193  29.152  17.821  1.00 19.18           O  \nATOM   1456  CB  VAL G  10      12.602  28.846  14.894  1.00 15.48           C  \nATOM   1457  CG1 VAL G  10      12.318  27.598  15.719  1.00 14.01           C  \nATOM   1458  CG2 VAL G  10      11.319  29.373  14.272  1.00 21.27           C  \nATOM   1459  N   ALA G  11      15.543  29.157  16.029  1.00 16.02           N  \nATOM   1460  CA  ALA G  11      16.700  28.646  16.763  1.00 17.71           C  \nATOM   1461  C   ALA G  11      17.078  29.574  17.919  1.00 23.80           C  \nATOM   1462  O   ALA G  11      17.359  29.126  19.035  1.00 19.84           O  \nATOM   1463  CB  ALA G  11      17.882  28.473  15.827  1.00 20.50           C  \nATOM   1464  N   LYS G  12      17.088  30.869  17.633  1.00 21.16           N  \nATOM   1465  CA  LYS G  12      17.441  31.883  18.615  1.00 24.06           C  \nATOM   1466  C   LYS G  12      16.435  31.889  19.762  1.00 22.84           C  \nATOM   1467  O   LYS G  12      16.793  32.054  20.933  1.00 24.78           O  \nATOM   1468  CB  LYS G  12      17.494  33.259  17.944  1.00 19.62           C  \nATOM   1469  CG  LYS G  12      18.559  34.143  18.522  1.00 34.11           C  \nATOM   1470  CD  LYS G  12      19.897  33.457  18.329  0.00 32.16           C  \nATOM   1471  CE  LYS G  12      21.066  34.355  18.638  0.00 31.89           C  \nATOM   1472  NZ  LYS G  12      22.309  33.718  18.128  0.00 31.38           N1+\nATOM   1473  N   ALA G  13      15.165  31.703  19.423  1.00 20.61           N  \nATOM   1474  CA  ALA G  13      14.118  31.660  20.434  1.00 20.85           C  \nATOM   1475  C   ALA G  13      14.256  30.417  21.321  1.00 22.02           C  \nATOM   1476  O   ALA G  13      14.031  30.480  22.525  1.00 19.97           O  \nATOM   1477  CB  ALA G  13      12.737  31.704  19.772  1.00 20.96           C  \nATOM   1478  N   ILE G  14      14.641  29.292  20.727  1.00 18.57           N  \nATOM   1479  CA  ILE G  14      14.822  28.054  21.483  1.00 16.01           C  \nATOM   1480  C   ILE G  14      16.007  28.219  22.449  1.00 20.90           C  \nATOM   1481  O   ILE G  14      15.970  27.733  23.584  1.00 17.73           O  \nATOM   1482  CB  ILE G  14      15.003  26.836  20.513  1.00 14.90           C  \nATOM   1483  CG1 ILE G  14      13.708  26.599  19.732  1.00 18.64           C  \nATOM   1484  CG2 ILE G  14      15.423  25.570  21.276  1.00 20.28           C  \nATOM   1485  CD1 ILE G  14      13.854  25.592  18.601  1.00 19.45           C  \nATOM   1486  N   LYS G  15      17.033  28.953  22.029  1.00 21.15           N  \nATOM   1487  CA  LYS G  15      18.145  29.268  22.925  1.00 22.19           C  \nATOM   1488  C   LYS G  15      17.667  30.040  24.147  1.00 19.61           C  \nATOM   1489  O   LYS G  15      18.199  29.860  25.248  1.00 21.44           O  \nATOM   1490  CB  LYS G  15      19.222  30.075  22.205  1.00 27.36           C  \nATOM   1491  CG  LYS G  15      20.046  29.276  21.230  1.00 26.36           C  \nATOM   1492  CD  LYS G  15      21.131  30.152  20.628  1.00 32.27           C  \nATOM   1493  CE  LYS G  15      22.114  29.352  19.792  1.00 45.15           C  \nATOM   1494  NZ  LYS G  15      22.605  28.151  20.507  0.00 39.96           N1+\nATOM   1495  N  AGLU G  16      16.674  30.909  23.974  1.00 18.64           N  \nATOM   1496  CA AGLU G  16      16.137  31.641  25.120  0.50 20.85           C  \nATOM   1497  C  AGLU G  16      15.386  30.706  26.076  1.00 19.41           C  \nATOM   1498  O  AGLU G  16      15.418  30.906  27.291  1.00 21.50           O  \nATOM   1499  CB AGLU G  16      15.228  32.778  24.658  0.50 18.32           C  \nATOM   1500  CG AGLU G  16      15.925  33.758  23.718  0.50 22.61           C  \nATOM   1501  CD AGLU G  16      15.112  35.008  23.464  0.50 32.58           C  \nATOM   1502  OE1AGLU G  16      14.432  35.483  24.397  0.50 41.90           O  \nATOM   1503  OE2AGLU G  16      15.160  35.526  22.329  0.50 46.94           O1-\nATOM   1504  N   VAL G  17      14.731  29.680  25.534  1.00 19.06           N  \nATOM   1505  CA  VAL G  17      14.062  28.687  26.374  1.00 17.51           C  \nATOM   1506  C   VAL G  17      15.110  27.950  27.198  1.00 19.25           C  \nATOM   1507  O   VAL G  17      14.928  27.733  28.405  1.00 18.29           O  \nATOM   1508  CB  VAL G  17      13.228  27.715  25.514  1.00 15.86           C  \nATOM   1509  CG1 VAL G  17      12.762  26.517  26.310  1.00 15.88           C  \nATOM   1510  CG2 VAL G  17      12.036  28.474  24.932  1.00 15.48           C  \nATOM   1511  N   ALA G  18      16.224  27.588  26.569  1.00 17.42           N  \nATOM   1512  CA  ALA G  18      17.305  26.917  27.297  1.00 19.55           C  \nATOM   1513  C   ALA G  18      17.828  27.778  28.454  1.00 24.14           C  \nATOM   1514  O   ALA G  18      18.083  27.281  29.556  1.00 20.00           O  \nATOM   1515  CB  ALA G  18      18.445  26.558  26.349  1.00 24.99           C  \nATOM   1516  N   TRP G  19      18.004  29.069  28.204  1.00 20.97           N  \nATOM   1517  CA  TRP G  19      18.490  29.953  29.254  1.00 21.55           C  \nATOM   1518  C   TRP G  19      17.493  30.037  30.412  1.00 21.33           C  \nATOM   1519  O   TRP G  19      17.869  30.055  31.586  1.00 25.41           O  \nATOM   1520  CB  TRP G  19      18.743  31.352  28.717  1.00 23.80           C  \nATOM   1521  CG  TRP G  19      19.291  32.208  29.784  1.00 23.62           C  \nATOM   1522  CD1 TRP G  19      18.634  33.172  30.480  1.00 27.75           C  \nATOM   1523  CD2 TRP G  19      20.616  32.147  30.322  1.00 24.45           C  \nATOM   1524  CE2 TRP G  19      20.701  33.130  31.323  1.00 31.97           C  \nATOM   1525  CE3 TRP G  19      21.744  31.378  30.029  1.00 29.83           C  \nATOM   1526  NE1 TRP G  19      19.475  33.733  31.414  1.00 29.05           N  \nATOM   1527  CZ2 TRP G  19      21.868  33.340  32.055  1.00 36.56           C  \nATOM   1528  CZ3 TRP G  19      22.896  31.590  30.759  1.00 33.61           C  \nATOM   1529  CH2 TRP G  19      22.954  32.570  31.750  1.00 33.05           C  \nATOM   1530  N   ALA G  20      16.214  30.085  30.063  1.00 20.63           N  \nATOM   1531  CA  ALA G  20      15.152  30.180  31.046  1.00 17.79           C  \nATOM   1532  C   ALA G  20      15.109  28.930  31.928  1.00 20.07           C  \nATOM   1533  O   ALA G  20      14.829  29.011  33.118  1.00 22.34           O  \nATOM   1534  CB  ALA G  20      13.818  30.394  30.358  1.00 21.69           C  \nATOM   1535  N   ILE G  21      15.368  27.772  31.331  1.00 21.73           N  \nATOM   1536  CA  ILE G  21      15.402  26.512  32.087  1.00 18.78           C  \nATOM   1537  C   ILE G  21      16.607  26.507  33.023  1.00 21.77           C  \nATOM   1538  O   ILE G  21      16.522  26.025  34.155  1.00 23.37           O  \nATOM   1539  CB  ILE G  21      15.405  25.302  31.124  1.00 15.36           C  \nATOM   1540  CG1 ILE G  21      14.078  25.281  30.364  1.00 21.39           C  \nATOM   1541  CG2 ILE G  21      15.635  23.978  31.874  1.00 17.58           C  \nATOM   1542  CD1 ILE G  21      14.037  24.310  29.180  1.00 21.74           C  \nATOM   1543  N   LYS G  22      17.718  27.083  32.570  1.00 21.34           N  \nATOM   1544  CA  LYS G  22      18.858  27.285  33.463  1.00 20.82           C  \nATOM   1545  C   LYS G  22      18.493  28.177  34.659  1.00 24.69           C  \nATOM   1546  O   LYS G  22      18.997  27.969  35.762  1.00 27.50           O  \nATOM   1547  CB  LYS G  22      20.033  27.893  32.703  1.00 31.00           C  \nATOM   1548  CG  LYS G  22      20.800  26.919  31.819  1.00 22.60           C  \nATOM   1549  CD  LYS G  22      21.834  27.682  30.994  1.00 36.17           C  \nATOM   1550  CE  LYS G  22      22.801  26.749  30.289  1.00 44.63           C  \nATOM   1551  NZ  LYS G  22      23.631  25.987  31.270  1.00 41.77           N1+\nATOM   1552  N   GLU G  23      17.626  29.168  34.453  1.00 23.67           N  \nATOM   1553  CA  GLU G  23      17.171  29.998  35.578  1.00 27.19           C  \nATOM   1554  C   GLU G  23      16.321  29.215  36.573  1.00 26.01           C  \nATOM   1555  O   GLU G  23      16.355  29.493  37.785  1.00 24.18           O  \nATOM   1556  CB  GLU G  23      16.396  31.221  35.079  1.00 29.22           C  \nATOM   1557  CG  GLU G  23      17.258  32.198  34.314  1.00 35.80           C  \nATOM   1558  CD  GLU G  23      16.609  33.563  34.145  1.00 39.92           C  \nATOM   1559  OE1 GLU G  23      15.409  33.710  34.455  1.00 43.52           O  \nATOM   1560  OE2 GLU G  23      17.316  34.501  33.725  1.00 40.96           O1-\nATOM   1561  N   VAL G  24      15.542  28.261  36.072  1.00 24.33           N  \nATOM   1562  CA  VAL G  24      14.768  27.378  36.939  1.00 23.70           C  \nATOM   1563  C   VAL G  24      15.716  26.520  37.775  1.00 21.49           C  \nATOM   1564  O   VAL G  24      15.517  26.365  38.985  1.00 24.40           O  \nATOM   1565  CB  VAL G  24      13.794  26.487  36.120  1.00 19.89           C  \nATOM   1566  CG1 VAL G  24      13.202  25.392  36.981  1.00 23.98           C  \nATOM   1567  CG2 VAL G  24      12.687  27.340  35.535  1.00 20.91           C  \nATOM   1568  N   ALA G  25      16.755  25.983  37.138  1.00 21.06           N  \nATOM   1569  CA  ALA G  25      17.755  25.184  37.844  1.00 20.67           C  \nATOM   1570  C   ALA G  25      18.413  25.998  38.953  1.00 23.78           C  \nATOM   1571  O   ALA G  25      18.641  25.494  40.048  1.00 27.96           O  \nATOM   1572  CB  ALA G  25      18.801  24.652  36.878  1.00 27.02           C  \nATOM   1573  N   GLN G  26      18.720  27.261  38.661  1.00 26.72           N  \nATOM   1574  CA  GLN G  26      19.353  28.131  39.657  1.00 28.82           C  \nATOM   1575  C   GLN G  26      18.423  28.410  40.835  1.00 30.40           C  \nATOM   1576  O   GLN G  26      18.856  28.482  41.995  1.00 33.04           O  \nATOM   1577  CB  GLN G  26      19.759  29.460  39.019  1.00 38.27           C  \nATOM   1578  CG  GLN G  26      20.892  29.366  38.022  1.00 41.45           C  \nATOM   1579  CD  GLN G  26      22.181  28.868  38.643  1.00 47.53           C  \nATOM   1580  NE2 GLN G  26      22.775  27.845  38.037  1.00 46.86           N  \nATOM   1581  OE1 GLN G  26      22.638  29.395  39.659  1.00 49.30           O  \nATOM   1582  N   ALA G  27      17.142  28.558  40.522  1.00 27.84           N  \nATOM   1583  CA  ALA G  27      16.118  28.797  41.520  1.00 26.63           C  \nATOM   1584  C   ALA G  27      15.987  27.601  42.453  1.00 29.38           C  \nATOM   1585  O   ALA G  27      15.811  27.761  43.656  1.00 31.54           O  \nATOM   1586  CB  ALA G  27      14.785  29.108  40.843  1.00 31.14           C  \nATOM   1587  N   ILE G  28      16.038  26.400  41.890  1.00 27.56           N  \nATOM   1588  CA  ILE G  28      15.967  25.191  42.700  1.00 31.70           C  \nATOM   1589  C   ILE G  28      17.206  25.037  43.587  1.00 25.88           C  \nATOM   1590  O   ILE G  28      17.099  24.732  44.779  1.00 29.80           O  \nATOM   1591  CB  ILE G  28      15.792  23.941  41.795  1.00 22.73           C  \nATOM   1592  CG1 ILE G  28      14.469  24.037  41.016  1.00 29.10           C  \nATOM   1593  CG2 ILE G  28      15.928  22.638  42.598  1.00 23.68           C  \nATOM   1594  CD1 ILE G  28      14.280  22.942  39.981  1.00 25.90           C  \nATOM   1595  N   LYS G  29      18.384  25.278  43.019  1.00 31.92           N  \nATOM   1596  CA  LYS G  29      19.624  25.162  43.782  1.00 35.41           C  \nATOM   1597  C   LYS G  29      19.656  26.241  44.863  1.00 37.75           C  \nATOM   1598  O   LYS G  29      20.161  26.012  45.962  1.00 39.86           O  \nATOM   1599  CB  LYS G  29      20.838  25.276  42.867  1.00 46.28           C  \nATOM   1600  CG  LYS G  29      21.174  23.984  42.143  1.00 48.44           C  \nATOM   1601  CD  LYS G  29      22.431  24.083  41.301  0.00 43.79           C  \nATOM   1602  CE  LYS G  29      23.449  23.037  41.733  0.00 42.03           C  \nATOM   1603  NZ  LYS G  29      23.522  21.903  40.761  0.00 39.86           N1+\nATOM   1604  N   GLY G  30      19.162  27.423  44.497  1.00 36.70           N  \nATOM   1605  CA  GLY G  30      18.938  28.536  45.400  1.00 43.66           C  \nATOM   1606  C   GLY G  30      18.535  28.139  46.802  1.00 50.42           C  \nATOM   1607  O   GLY G  30      19.093  28.666  47.764  1.00 47.25           O  \nTER   \nATOM   1608  N   NH2 G  31      17.613  27.256  46.988  1.00  0.00           N  \nATOM   1609  H1  NH2 G  31      17.158  26.826  46.196  1.00  0.00           H  \nATOM   1610  H2  NH2 G  31      17.347  26.994  47.927  1.00  0.00           H  \n",
                    "binary": false
                  }
                ],
                "kwargs": {
                  "defaultRepresentation": true,
                  "ext": "pdb"
                }
              },
              {
                "component_index": 1,
                "target": "compList",
                "type": "call_method",
                "methodName": "removeAllRepresentations",
                "reconstruc_color_scheme": false,
                "args": [],
                "kwargs": {}
              },
              {
                "component_index": 0,
                "target": "compList",
                "type": "call_method",
                "methodName": "removeAllRepresentations",
                "reconstruc_color_scheme": false,
                "args": [],
                "kwargs": {}
              },
              {
                "component_index": 0,
                "target": "compList",
                "type": "call_method",
                "methodName": "addRepresentation",
                "reconstruc_color_scheme": false,
                "args": [
                  "cartoon"
                ],
                "kwargs": {
                  "visible": true,
                  "sele": "protein",
                  "color": "white"
                }
              },
              {
                "component_index": 0,
                "target": "compList",
                "type": "call_method",
                "methodName": "addRepresentation",
                "reconstruc_color_scheme": false,
                "args": [
                  "ball+stick"
                ],
                "kwargs": {
                  "visible": false,
                  "sele": "not polymer and not ( protein or nucleic )"
                }
              },
              {
                "component_index": 0,
                "target": "compList",
                "type": "call_method",
                "methodName": "addRepresentation",
                "reconstruc_color_scheme": false,
                "args": [
                  "spacefill"
                ],
                "kwargs": {
                  "visible": false,
                  "sele": "water or ion",
                  "scale": 0.15
                }
              },
              {
                "component_index": 0,
                "target": "compList",
                "type": "call_method",
                "methodName": "addRepresentation",
                "reconstruc_color_scheme": true,
                "args": [
                  "cartoon"
                ],
                "kwargs": {
                  "sele": "3-28:A",
                  "color": [
                    [
                      "red",
                      "7:A or 14:A or 21:A or 28:A or 7:B or 14:B or 21:B or 28:B or 7:C or 14:C or 21:C or 28:C or 7:D or 14:D or 21:D or 28:D or 7:E or 14:E or 21:E or 28:E or 7:F or 14:F or 21:F or 28:F or 7:G or 14:G or 21:G or 28:G"
                    ],
                    [
                      "orange",
                      "8:A or 15:A or 22:A or 8:B or 15:B or 22:B or 8:C or 15:C or 22:C or 8:D or 15:D or 22:D or 8:E or 15:E or 22:E or 8:F or 15:F or 22:F or 29:F or 8:G or 15:G or 22:G"
                    ],
                    [
                      "yellow",
                      "9:A or 16:A or 23:A or 9:B or 16:B or 23:B or 9:C or 16:C or 23:C or 9:D or 16:D or 23:D or 9:E or 16:E or 23:E or 9:F or 16:F or 23:F or 9:G or 16:G or 23:G"
                    ],
                    [
                      "green",
                      "3:A or 10:A or 17:A or 24:A or 3:B or 10:B or 17:B or 24:B or 3:C or 10:C or 17:C or 24:C or 3:D or 10:D or 17:D or 24:D or 3:E or 10:E or 17:E or 24:E or 3:F or 10:F or 17:F or 24:F or 3:G or 10:G or 17:G or 24:G"
                    ],
                    [
                      "cyan",
                      "4:A or 11:A or 18:A or 25:A or 4:B or 11:B or 18:B or 25:B or 4:C or 11:C or 18:C or 25:C or 4:D or 11:D or 18:D or 25:D or 4:E or 11:E or 18:E or 25:E or 4:F or 11:F or 18:F or 25:F or 4:G or 11:G or 18:G or 25:G"
                    ],
                    [
                      "blue",
                      "5:A or 12:A or 19:A or 26:A or 5:B or 12:B or 19:B or 26:B or 5:C or 12:C or 19:C or 26:C or 5:D or 12:D or 19:D or 26:D or 5:E or 12:E or 19:E or 26:E or 5:F or 12:F or 19:F or 26:F or 5:G or 12:G or 19:G or 26:G"
                    ],
                    [
                      "violet",
                      "6:A or 13:A or 20:A or 27:A or 6:B or 13:B or 20:B or 27:B or 6:C or 13:C or 20:C or 27:C or 6:D or 13:D or 20:D or 27:D or 6:E or 13:E or 20:E or 27:E or 6:F or 13:F or 20:F or 27:F or 6:G or 13:G or 20:G or 27:G"
                    ]
                  ],
                  "color_label": "user_register"
                }
              },
              {
                "component_index": 0,
                "target": "compList",
                "type": "call_method",
                "methodName": "addRepresentation",
                "reconstruc_color_scheme": true,
                "args": [
                  "cartoon"
                ],
                "kwargs": {
                  "sele": "3-28:B",
                  "color": [
                    [
                      "red",
                      "7:A or 14:A or 21:A or 28:A or 7:B or 14:B or 21:B or 28:B or 7:C or 14:C or 21:C or 28:C or 7:D or 14:D or 21:D or 28:D or 7:E or 14:E or 21:E or 28:E or 7:F or 14:F or 21:F or 28:F or 7:G or 14:G or 21:G or 28:G"
                    ],
                    [
                      "orange",
                      "8:A or 15:A or 22:A or 8:B or 15:B or 22:B or 8:C or 15:C or 22:C or 8:D or 15:D or 22:D or 8:E or 15:E or 22:E or 8:F or 15:F or 22:F or 29:F or 8:G or 15:G or 22:G"
                    ],
                    [
                      "yellow",
                      "9:A or 16:A or 23:A or 9:B or 16:B or 23:B or 9:C or 16:C or 23:C or 9:D or 16:D or 23:D or 9:E or 16:E or 23:E or 9:F or 16:F or 23:F or 9:G or 16:G or 23:G"
                    ],
                    [
                      "green",
                      "3:A or 10:A or 17:A or 24:A or 3:B or 10:B or 17:B or 24:B or 3:C or 10:C or 17:C or 24:C or 3:D or 10:D or 17:D or 24:D or 3:E or 10:E or 17:E or 24:E or 3:F or 10:F or 17:F or 24:F or 3:G or 10:G or 17:G or 24:G"
                    ],
                    [
                      "cyan",
                      "4:A or 11:A or 18:A or 25:A or 4:B or 11:B or 18:B or 25:B or 4:C or 11:C or 18:C or 25:C or 4:D or 11:D or 18:D or 25:D or 4:E or 11:E or 18:E or 25:E or 4:F or 11:F or 18:F or 25:F or 4:G or 11:G or 18:G or 25:G"
                    ],
                    [
                      "blue",
                      "5:A or 12:A or 19:A or 26:A or 5:B or 12:B or 19:B or 26:B or 5:C or 12:C or 19:C or 26:C or 5:D or 12:D or 19:D or 26:D or 5:E or 12:E or 19:E or 26:E or 5:F or 12:F or 19:F or 26:F or 5:G or 12:G or 19:G or 26:G"
                    ],
                    [
                      "violet",
                      "6:A or 13:A or 20:A or 27:A or 6:B or 13:B or 20:B or 27:B or 6:C or 13:C or 20:C or 27:C or 6:D or 13:D or 20:D or 27:D or 6:E or 13:E or 20:E or 27:E or 6:F or 13:F or 20:F or 27:F or 6:G or 13:G or 20:G or 27:G"
                    ]
                  ],
                  "color_label": "user_register"
                }
              },
              {
                "component_index": 0,
                "target": "compList",
                "type": "call_method",
                "methodName": "addRepresentation",
                "reconstruc_color_scheme": true,
                "args": [
                  "cartoon"
                ],
                "kwargs": {
                  "sele": "3-28:C",
                  "color": [
                    [
                      "red",
                      "7:A or 14:A or 21:A or 28:A or 7:B or 14:B or 21:B or 28:B or 7:C or 14:C or 21:C or 28:C or 7:D or 14:D or 21:D or 28:D or 7:E or 14:E or 21:E or 28:E or 7:F or 14:F or 21:F or 28:F or 7:G or 14:G or 21:G or 28:G"
                    ],
                    [
                      "orange",
                      "8:A or 15:A or 22:A or 8:B or 15:B or 22:B or 8:C or 15:C or 22:C or 8:D or 15:D or 22:D or 8:E or 15:E or 22:E or 8:F or 15:F or 22:F or 29:F or 8:G or 15:G or 22:G"
                    ],
                    [
                      "yellow",
                      "9:A or 16:A or 23:A or 9:B or 16:B or 23:B or 9:C or 16:C or 23:C or 9:D or 16:D or 23:D or 9:E or 16:E or 23:E or 9:F or 16:F or 23:F or 9:G or 16:G or 23:G"
                    ],
                    [
                      "green",
                      "3:A or 10:A or 17:A or 24:A or 3:B or 10:B or 17:B or 24:B or 3:C or 10:C or 17:C or 24:C or 3:D or 10:D or 17:D or 24:D or 3:E or 10:E or 17:E or 24:E or 3:F or 10:F or 17:F or 24:F or 3:G or 10:G or 17:G or 24:G"
                    ],
                    [
                      "cyan",
                      "4:A or 11:A or 18:A or 25:A or 4:B or 11:B or 18:B or 25:B or 4:C or 11:C or 18:C or 25:C or 4:D or 11:D or 18:D or 25:D or 4:E or 11:E or 18:E or 25:E or 4:F or 11:F or 18:F or 25:F or 4:G or 11:G or 18:G or 25:G"
                    ],
                    [
                      "blue",
                      "5:A or 12:A or 19:A or 26:A or 5:B or 12:B or 19:B or 26:B or 5:C or 12:C or 19:C or 26:C or 5:D or 12:D or 19:D or 26:D or 5:E or 12:E or 19:E or 26:E or 5:F or 12:F or 19:F or 26:F or 5:G or 12:G or 19:G or 26:G"
                    ],
                    [
                      "violet",
                      "6:A or 13:A or 20:A or 27:A or 6:B or 13:B or 20:B or 27:B or 6:C or 13:C or 20:C or 27:C or 6:D or 13:D or 20:D or 27:D or 6:E or 13:E or 20:E or 27:E or 6:F or 13:F or 20:F or 27:F or 6:G or 13:G or 20:G or 27:G"
                    ]
                  ],
                  "color_label": "user_register"
                }
              },
              {
                "component_index": 0,
                "target": "compList",
                "type": "call_method",
                "methodName": "addRepresentation",
                "reconstruc_color_scheme": true,
                "args": [
                  "cartoon"
                ],
                "kwargs": {
                  "sele": "3-28:D",
                  "color": [
                    [
                      "red",
                      "7:A or 14:A or 21:A or 28:A or 7:B or 14:B or 21:B or 28:B or 7:C or 14:C or 21:C or 28:C or 7:D or 14:D or 21:D or 28:D or 7:E or 14:E or 21:E or 28:E or 7:F or 14:F or 21:F or 28:F or 7:G or 14:G or 21:G or 28:G"
                    ],
                    [
                      "orange",
                      "8:A or 15:A or 22:A or 8:B or 15:B or 22:B or 8:C or 15:C or 22:C or 8:D or 15:D or 22:D or 8:E or 15:E or 22:E or 8:F or 15:F or 22:F or 29:F or 8:G or 15:G or 22:G"
                    ],
                    [
                      "yellow",
                      "9:A or 16:A or 23:A or 9:B or 16:B or 23:B or 9:C or 16:C or 23:C or 9:D or 16:D or 23:D or 9:E or 16:E or 23:E or 9:F or 16:F or 23:F or 9:G or 16:G or 23:G"
                    ],
                    [
                      "green",
                      "3:A or 10:A or 17:A or 24:A or 3:B or 10:B or 17:B or 24:B or 3:C or 10:C or 17:C or 24:C or 3:D or 10:D or 17:D or 24:D or 3:E or 10:E or 17:E or 24:E or 3:F or 10:F or 17:F or 24:F or 3:G or 10:G or 17:G or 24:G"
                    ],
                    [
                      "cyan",
                      "4:A or 11:A or 18:A or 25:A or 4:B or 11:B or 18:B or 25:B or 4:C or 11:C or 18:C or 25:C or 4:D or 11:D or 18:D or 25:D or 4:E or 11:E or 18:E or 25:E or 4:F or 11:F or 18:F or 25:F or 4:G or 11:G or 18:G or 25:G"
                    ],
                    [
                      "blue",
                      "5:A or 12:A or 19:A or 26:A or 5:B or 12:B or 19:B or 26:B or 5:C or 12:C or 19:C or 26:C or 5:D or 12:D or 19:D or 26:D or 5:E or 12:E or 19:E or 26:E or 5:F or 12:F or 19:F or 26:F or 5:G or 12:G or 19:G or 26:G"
                    ],
                    [
                      "violet",
                      "6:A or 13:A or 20:A or 27:A or 6:B or 13:B or 20:B or 27:B or 6:C or 13:C or 20:C or 27:C or 6:D or 13:D or 20:D or 27:D or 6:E or 13:E or 20:E or 27:E or 6:F or 13:F or 20:F or 27:F or 6:G or 13:G or 20:G or 27:G"
                    ]
                  ],
                  "color_label": "user_register"
                }
              },
              {
                "component_index": 0,
                "target": "compList",
                "type": "call_method",
                "methodName": "addRepresentation",
                "reconstruc_color_scheme": true,
                "args": [
                  "cartoon"
                ],
                "kwargs": {
                  "sele": "3-28:E",
                  "color": [
                    [
                      "red",
                      "7:A or 14:A or 21:A or 28:A or 7:B or 14:B or 21:B or 28:B or 7:C or 14:C or 21:C or 28:C or 7:D or 14:D or 21:D or 28:D or 7:E or 14:E or 21:E or 28:E or 7:F or 14:F or 21:F or 28:F or 7:G or 14:G or 21:G or 28:G"
                    ],
                    [
                      "orange",
                      "8:A or 15:A or 22:A or 8:B or 15:B or 22:B or 8:C or 15:C or 22:C or 8:D or 15:D or 22:D or 8:E or 15:E or 22:E or 8:F or 15:F or 22:F or 29:F or 8:G or 15:G or 22:G"
                    ],
                    [
                      "yellow",
                      "9:A or 16:A or 23:A or 9:B or 16:B or 23:B or 9:C or 16:C or 23:C or 9:D or 16:D or 23:D or 9:E or 16:E or 23:E or 9:F or 16:F or 23:F or 9:G or 16:G or 23:G"
                    ],
                    [
                      "green",
                      "3:A or 10:A or 17:A or 24:A or 3:B or 10:B or 17:B or 24:B or 3:C or 10:C or 17:C or 24:C or 3:D or 10:D or 17:D or 24:D or 3:E or 10:E or 17:E or 24:E or 3:F or 10:F or 17:F or 24:F or 3:G or 10:G or 17:G or 24:G"
                    ],
                    [
                      "cyan",
                      "4:A or 11:A or 18:A or 25:A or 4:B or 11:B or 18:B or 25:B or 4:C or 11:C or 18:C or 25:C or 4:D or 11:D or 18:D or 25:D or 4:E or 11:E or 18:E or 25:E or 4:F or 11:F or 18:F or 25:F or 4:G or 11:G or 18:G or 25:G"
                    ],
                    [
                      "blue",
                      "5:A or 12:A or 19:A or 26:A or 5:B or 12:B or 19:B or 26:B or 5:C or 12:C or 19:C or 26:C or 5:D or 12:D or 19:D or 26:D or 5:E or 12:E or 19:E or 26:E or 5:F or 12:F or 19:F or 26:F or 5:G or 12:G or 19:G or 26:G"
                    ],
                    [
                      "violet",
                      "6:A or 13:A or 20:A or 27:A or 6:B or 13:B or 20:B or 27:B or 6:C or 13:C or 20:C or 27:C or 6:D or 13:D or 20:D or 27:D or 6:E or 13:E or 20:E or 27:E or 6:F or 13:F or 20:F or 27:F or 6:G or 13:G or 20:G or 27:G"
                    ]
                  ],
                  "color_label": "user_register"
                }
              },
              {
                "component_index": 0,
                "target": "compList",
                "type": "call_method",
                "methodName": "addRepresentation",
                "reconstruc_color_scheme": true,
                "args": [
                  "cartoon"
                ],
                "kwargs": {
                  "sele": "3-29:F",
                  "color": [
                    [
                      "red",
                      "7:A or 14:A or 21:A or 28:A or 7:B or 14:B or 21:B or 28:B or 7:C or 14:C or 21:C or 28:C or 7:D or 14:D or 21:D or 28:D or 7:E or 14:E or 21:E or 28:E or 7:F or 14:F or 21:F or 28:F or 7:G or 14:G or 21:G or 28:G"
                    ],
                    [
                      "orange",
                      "8:A or 15:A or 22:A or 8:B or 15:B or 22:B or 8:C or 15:C or 22:C or 8:D or 15:D or 22:D or 8:E or 15:E or 22:E or 8:F or 15:F or 22:F or 29:F or 8:G or 15:G or 22:G"
                    ],
                    [
                      "yellow",
                      "9:A or 16:A or 23:A or 9:B or 16:B or 23:B or 9:C or 16:C or 23:C or 9:D or 16:D or 23:D or 9:E or 16:E or 23:E or 9:F or 16:F or 23:F or 9:G or 16:G or 23:G"
                    ],
                    [
                      "green",
                      "3:A or 10:A or 17:A or 24:A or 3:B or 10:B or 17:B or 24:B or 3:C or 10:C or 17:C or 24:C or 3:D or 10:D or 17:D or 24:D or 3:E or 10:E or 17:E or 24:E or 3:F or 10:F or 17:F or 24:F or 3:G or 10:G or 17:G or 24:G"
                    ],
                    [
                      "cyan",
                      "4:A or 11:A or 18:A or 25:A or 4:B or 11:B or 18:B or 25:B or 4:C or 11:C or 18:C or 25:C or 4:D or 11:D or 18:D or 25:D or 4:E or 11:E or 18:E or 25:E or 4:F or 11:F or 18:F or 25:F or 4:G or 11:G or 18:G or 25:G"
                    ],
                    [
                      "blue",
                      "5:A or 12:A or 19:A or 26:A or 5:B or 12:B or 19:B or 26:B or 5:C or 12:C or 19:C or 26:C or 5:D or 12:D or 19:D or 26:D or 5:E or 12:E or 19:E or 26:E or 5:F or 12:F or 19:F or 26:F or 5:G or 12:G or 19:G or 26:G"
                    ],
                    [
                      "violet",
                      "6:A or 13:A or 20:A or 27:A or 6:B or 13:B or 20:B or 27:B or 6:C or 13:C or 20:C or 27:C or 6:D or 13:D or 20:D or 27:D or 6:E or 13:E or 20:E or 27:E or 6:F or 13:F or 20:F or 27:F or 6:G or 13:G or 20:G or 27:G"
                    ]
                  ],
                  "color_label": "user_register"
                }
              },
              {
                "component_index": 0,
                "target": "compList",
                "type": "call_method",
                "methodName": "addRepresentation",
                "reconstruc_color_scheme": true,
                "args": [
                  "cartoon"
                ],
                "kwargs": {
                  "sele": "3-28:G",
                  "color": [
                    [
                      "red",
                      "7:A or 14:A or 21:A or 28:A or 7:B or 14:B or 21:B or 28:B or 7:C or 14:C or 21:C or 28:C or 7:D or 14:D or 21:D or 28:D or 7:E or 14:E or 21:E or 28:E or 7:F or 14:F or 21:F or 28:F or 7:G or 14:G or 21:G or 28:G"
                    ],
                    [
                      "orange",
                      "8:A or 15:A or 22:A or 8:B or 15:B or 22:B or 8:C or 15:C or 22:C or 8:D or 15:D or 22:D or 8:E or 15:E or 22:E or 8:F or 15:F or 22:F or 29:F or 8:G or 15:G or 22:G"
                    ],
                    [
                      "yellow",
                      "9:A or 16:A or 23:A or 9:B or 16:B or 23:B or 9:C or 16:C or 23:C or 9:D or 16:D or 23:D or 9:E or 16:E or 23:E or 9:F or 16:F or 23:F or 9:G or 16:G or 23:G"
                    ],
                    [
                      "green",
                      "3:A or 10:A or 17:A or 24:A or 3:B or 10:B or 17:B or 24:B or 3:C or 10:C or 17:C or 24:C or 3:D or 10:D or 17:D or 24:D or 3:E or 10:E or 17:E or 24:E or 3:F or 10:F or 17:F or 24:F or 3:G or 10:G or 17:G or 24:G"
                    ],
                    [
                      "cyan",
                      "4:A or 11:A or 18:A or 25:A or 4:B or 11:B or 18:B or 25:B or 4:C or 11:C or 18:C or 25:C or 4:D or 11:D or 18:D or 25:D or 4:E or 11:E or 18:E or 25:E or 4:F or 11:F or 18:F or 25:F or 4:G or 11:G or 18:G or 25:G"
                    ],
                    [
                      "blue",
                      "5:A or 12:A or 19:A or 26:A or 5:B or 12:B or 19:B or 26:B or 5:C or 12:C or 19:C or 26:C or 5:D or 12:D or 19:D or 26:D or 5:E or 12:E or 19:E or 26:E or 5:F or 12:F or 19:F or 26:F or 5:G or 12:G or 19:G or 26:G"
                    ],
                    [
                      "violet",
                      "6:A or 13:A or 20:A or 27:A or 6:B or 13:B or 20:B or 27:B or 6:C or 13:C or 20:C or 27:C or 6:D or 13:D or 20:D or 27:D or 6:E or 13:E or 20:E or 27:E or 6:F or 13:F or 20:F or 27:F or 6:G or 13:G or 20:G or 27:G"
                    ]
                  ],
                  "color_label": "user_register"
                }
              },
              {
                "component_index": 0,
                "target": "compList",
                "type": "call_method",
                "methodName": "addRepresentation",
                "reconstruc_color_scheme": true,
                "args": [
                  "ball+stick"
                ],
                "kwargs": {
                  "sele": "(18:C or 24:G or 7:A or 21:E or 13:A or 17:A or 6:C or 6:D or 13:F or 25:E or 18:E or 20:G or 14:B or 14:D or 7:D or 20:B or 20:F or 17:D or 11:E or 10:D or 17:G or 17:C or 18:A or 7:B or 6:G or 21:G or 11:A or 14:E or 17:B or 21:F or 6:B or 14:F or 24:F or 14:G or 20:C or 13:G or 13:B or 18:F or 6:E or 23:E or 7:E or 21:A or 11:D or 20:D or 24:E or 13:C or 24:B or 17:E or 7:G or 24:A or 21:D or 18:B or 25:D or 18:G or 13:E or 20:E or 7:C or 7:F or 10:F or 6:A or 17:F or 10:G or 11:C or 10:C or 25:A or 11:B or 24:C or 14:C or 11:F or 21:C or 10:B or 21:B or 25:F or 18:D or 14:A or 24:D or 13:D or 10:E or 25:C or 25:G or 10:A) and sidechainAttached",
                  "color": [
                    [
                      "red",
                      "7:A or 14:A or 21:A or 28:A or 7:B or 14:B or 21:B or 28:B or 7:C or 14:C or 21:C or 28:C or 7:D or 14:D or 21:D or 28:D or 7:E or 14:E or 21:E or 28:E or 7:F or 14:F or 21:F or 28:F or 7:G or 14:G or 21:G or 28:G"
                    ],
                    [
                      "orange",
                      "8:A or 15:A or 22:A or 8:B or 15:B or 22:B or 8:C or 15:C or 22:C or 8:D or 15:D or 22:D or 8:E or 15:E or 22:E or 8:F or 15:F or 22:F or 29:F or 8:G or 15:G or 22:G"
                    ],
                    [
                      "yellow",
                      "9:A or 16:A or 23:A or 9:B or 16:B or 23:B or 9:C or 16:C or 23:C or 9:D or 16:D or 23:D or 9:E or 16:E or 23:E or 9:F or 16:F or 23:F or 9:G or 16:G or 23:G"
                    ],
                    [
                      "green",
                      "3:A or 10:A or 17:A or 24:A or 3:B or 10:B or 17:B or 24:B or 3:C or 10:C or 17:C or 24:C or 3:D or 10:D or 17:D or 24:D or 3:E or 10:E or 17:E or 24:E or 3:F or 10:F or 17:F or 24:F or 3:G or 10:G or 17:G or 24:G"
                    ],
                    [
                      "cyan",
                      "4:A or 11:A or 18:A or 25:A or 4:B or 11:B or 18:B or 25:B or 4:C or 11:C or 18:C or 25:C or 4:D or 11:D or 18:D or 25:D or 4:E or 11:E or 18:E or 25:E or 4:F or 11:F or 18:F or 25:F or 4:G or 11:G or 18:G or 25:G"
                    ],
                    [
                      "blue",
                      "5:A or 12:A or 19:A or 26:A or 5:B or 12:B or 19:B or 26:B or 5:C or 12:C or 19:C or 26:C or 5:D or 12:D or 19:D or 26:D or 5:E or 12:E or 19:E or 26:E or 5:F or 12:F or 19:F or 26:F or 5:G or 12:G or 19:G or 26:G"
                    ],
                    [
                      "violet",
                      "6:A or 13:A or 20:A or 27:A or 6:B or 13:B or 20:B or 27:B or 6:C or 13:C or 20:C or 27:C or 6:D or 13:D or 20:D or 27:D or 6:E or 13:E or 20:E or 27:E or 6:F or 13:F or 20:F or 27:F or 6:G or 13:G or 20:G or 27:G"
                    ]
                  ],
                  "color_label": "user_register"
                }
              }
            ],
            "_ngl_original_stage_parameters": {
              "impostor": true,
              "quality": "medium",
              "workerDefault": true,
              "sampleLevel": 0,
              "backgroundColor": "white",
              "rotateSpeed": 2,
              "zoomSpeed": 1.2,
              "panSpeed": 1,
              "clipNear": 0,
              "clipFar": 100,
              "clipDist": 10,
              "clipMode": "scene",
              "clipScale": "relative",
              "fogNear": 50,
              "fogFar": 100,
              "cameraFov": 40,
              "cameraEyeSep": 0.3,
              "cameraType": "perspective",
              "lightColor": 14540253,
              "lightIntensity": 1,
              "ambientColor": 14540253,
              "ambientIntensity": 0.2,
              "hoverTimeout": 0,
              "tooltip": true,
              "mousePreset": "default"
            },
            "_ngl_repr_dict": {
              "0": {
                "0": {
                  "type": "cartoon",
                  "params": {
                    "lazy": false,
                    "visible": true,
                    "quality": "medium",
                    "aspectRatio": 5,
                    "subdiv": 6,
                    "radialSegments": 10,
                    "tension": null,
                    "capped": true,
                    "smoothSheet": false,
                    "radiusType": "sstruc",
                    "radiusData": {},
                    "radiusSize": 1,
                    "radiusScale": 0.7,
                    "assembly": "default",
                    "defaultAssembly": "",
                    "clipNear": 0,
                    "clipRadius": 0,
                    "clipCenter": {
                      "x": 0,
                      "y": 0,
                      "z": 0
                    },
                    "flatShaded": false,
                    "opacity": 1,
                    "depthWrite": true,
                    "side": "double",
                    "wireframe": false,
                    "colorScheme": "uniform",
                    "colorScale": "RdYlBu",
                    "colorReverse": false,
                    "colorValue": 16777215,
                    "colorMode": "hcl",
                    "roughness": 0.4,
                    "metalness": 0,
                    "diffuse": 16777215,
                    "diffuseInterior": false,
                    "useInteriorColor": true,
                    "interiorColor": 2236962,
                    "interiorDarkening": 0,
                    "matrix": {
                      "elements": [
                        1,
                        0,
                        0,
                        0,
                        0,
                        1,
                        0,
                        0,
                        0,
                        0,
                        1,
                        0,
                        0,
                        0,
                        0,
                        1
                      ]
                    },
                    "disablePicking": false,
                    "sele": "protein"
                  }
                },
                "1": {
                  "type": "cartoon",
                  "params": {
                    "lazy": false,
                    "visible": true,
                    "quality": "medium",
                    "aspectRatio": 5,
                    "subdiv": 6,
                    "radialSegments": 10,
                    "tension": null,
                    "capped": true,
                    "smoothSheet": false,
                    "radiusType": "sstruc",
                    "radiusData": {},
                    "radiusSize": 1,
                    "radiusScale": 0.7,
                    "assembly": "default",
                    "defaultAssembly": "",
                    "clipNear": 0,
                    "clipRadius": 0,
                    "clipCenter": {
                      "x": 0,
                      "y": 0,
                      "z": 0
                    },
                    "flatShaded": false,
                    "opacity": 1,
                    "depthWrite": true,
                    "side": "double",
                    "wireframe": false,
                    "colorScheme": "uniform",
                    "colorScale": "RdYlBu",
                    "colorReverse": false,
                    "colorValue": 16777215,
                    "colorMode": "hcl",
                    "roughness": 0.4,
                    "metalness": 0,
                    "diffuse": 16777215,
                    "diffuseInterior": false,
                    "useInteriorColor": true,
                    "interiorColor": 2236962,
                    "interiorDarkening": 0,
                    "matrix": {
                      "elements": [
                        1,
                        0,
                        0,
                        0,
                        0,
                        1,
                        0,
                        0,
                        0,
                        0,
                        1,
                        0,
                        0,
                        0,
                        0,
                        1
                      ]
                    },
                    "disablePicking": false,
                    "sele": "protein"
                  }
                },
                "2": {
                  "type": "ball+stick",
                  "params": {
                    "lazy": false,
                    "visible": false,
                    "quality": "medium",
                    "sphereDetail": 1,
                    "radialSegments": 10,
                    "openEnded": true,
                    "disableImpostor": false,
                    "aspectRatio": 2,
                    "lineOnly": false,
                    "cylinderOnly": false,
                    "multipleBond": "off",
                    "bondScale": 0.4,
                    "bondSpacing": 1,
                    "linewidth": 2,
                    "radiusType": "size",
                    "radiusData": {},
                    "radiusSize": 0.15,
                    "radiusScale": 1,
                    "assembly": "default",
                    "defaultAssembly": "",
                    "clipNear": 0,
                    "clipRadius": 0,
                    "clipCenter": {
                      "x": 0,
                      "y": 0,
                      "z": 0
                    },
                    "flatShaded": false,
                    "opacity": 1,
                    "depthWrite": true,
                    "side": "double",
                    "wireframe": false,
                    "colorScheme": "element",
                    "colorScale": "",
                    "colorReverse": false,
                    "colorValue": 9474192,
                    "colorMode": "hcl",
                    "roughness": 0.4,
                    "metalness": 0,
                    "diffuse": 16777215,
                    "diffuseInterior": false,
                    "useInteriorColor": true,
                    "interiorColor": 2236962,
                    "interiorDarkening": 0,
                    "matrix": {
                      "elements": [
                        1,
                        0,
                        0,
                        0,
                        0,
                        1,
                        0,
                        0,
                        0,
                        0,
                        1,
                        0,
                        0,
                        0,
                        0,
                        1
                      ]
                    },
                    "disablePicking": false,
                    "sele": "not polymer and not ( protein or nucleic )"
                  }
                },
                "3": {
                  "type": "ball+stick",
                  "params": {
                    "lazy": false,
                    "visible": false,
                    "quality": "medium",
                    "sphereDetail": 1,
                    "radialSegments": 10,
                    "openEnded": true,
                    "disableImpostor": false,
                    "aspectRatio": 2,
                    "lineOnly": false,
                    "cylinderOnly": false,
                    "multipleBond": "off",
                    "bondScale": 0.4,
                    "bondSpacing": 1,
                    "linewidth": 2,
                    "radiusType": "size",
                    "radiusData": {},
                    "radiusSize": 0.15,
                    "radiusScale": 1,
                    "assembly": "default",
                    "defaultAssembly": "",
                    "clipNear": 0,
                    "clipRadius": 0,
                    "clipCenter": {
                      "x": 0,
                      "y": 0,
                      "z": 0
                    },
                    "flatShaded": false,
                    "opacity": 1,
                    "depthWrite": true,
                    "side": "double",
                    "wireframe": false,
                    "colorScheme": "element",
                    "colorScale": "",
                    "colorReverse": false,
                    "colorValue": 9474192,
                    "colorMode": "hcl",
                    "roughness": 0.4,
                    "metalness": 0,
                    "diffuse": 16777215,
                    "diffuseInterior": false,
                    "useInteriorColor": true,
                    "interiorColor": 2236962,
                    "interiorDarkening": 0,
                    "matrix": {
                      "elements": [
                        1,
                        0,
                        0,
                        0,
                        0,
                        1,
                        0,
                        0,
                        0,
                        0,
                        1,
                        0,
                        0,
                        0,
                        0,
                        1
                      ]
                    },
                    "disablePicking": false,
                    "sele": "not polymer and not ( protein or nucleic )"
                  }
                },
                "4": {
                  "type": "spacefill",
                  "params": {
                    "lazy": false,
                    "visible": false,
                    "quality": "medium",
                    "sphereDetail": 1,
                    "disableImpostor": false,
                    "radiusType": "vdw",
                    "radiusData": {},
                    "radiusSize": 1,
                    "radiusScale": 1,
                    "assembly": "default",
                    "defaultAssembly": "",
                    "clipNear": 0,
                    "clipRadius": 0,
                    "clipCenter": {
                      "x": 0,
                      "y": 0,
                      "z": 0
                    },
                    "flatShaded": false,
                    "opacity": 1,
                    "depthWrite": true,
                    "side": "double",
                    "wireframe": false,
                    "colorScheme": "element",
                    "colorScale": "",
                    "colorReverse": false,
                    "colorValue": 9474192,
                    "colorMode": "hcl",
                    "roughness": 0.4,
                    "metalness": 0,
                    "diffuse": 16777215,
                    "diffuseInterior": false,
                    "useInteriorColor": true,
                    "interiorColor": 2236962,
                    "interiorDarkening": 0,
                    "matrix": {
                      "elements": [
                        1,
                        0,
                        0,
                        0,
                        0,
                        1,
                        0,
                        0,
                        0,
                        0,
                        1,
                        0,
                        0,
                        0,
                        0,
                        1
                      ]
                    },
                    "disablePicking": false,
                    "sele": "water or ion"
                  }
                },
                "5": {
                  "type": "spacefill",
                  "params": {
                    "lazy": false,
                    "visible": false,
                    "quality": "medium",
                    "sphereDetail": 1,
                    "disableImpostor": false,
                    "radiusType": "vdw",
                    "radiusData": {},
                    "radiusSize": 1,
                    "radiusScale": 1,
                    "assembly": "default",
                    "defaultAssembly": "",
                    "clipNear": 0,
                    "clipRadius": 0,
                    "clipCenter": {
                      "x": 0,
                      "y": 0,
                      "z": 0
                    },
                    "flatShaded": false,
                    "opacity": 1,
                    "depthWrite": true,
                    "side": "double",
                    "wireframe": false,
                    "colorScheme": "element",
                    "colorScale": "",
                    "colorReverse": false,
                    "colorValue": 9474192,
                    "colorMode": "hcl",
                    "roughness": 0.4,
                    "metalness": 0,
                    "diffuse": 16777215,
                    "diffuseInterior": false,
                    "useInteriorColor": true,
                    "interiorColor": 2236962,
                    "interiorDarkening": 0,
                    "matrix": {
                      "elements": [
                        1,
                        0,
                        0,
                        0,
                        0,
                        1,
                        0,
                        0,
                        0,
                        0,
                        1,
                        0,
                        0,
                        0,
                        0,
                        1
                      ]
                    },
                    "disablePicking": false,
                    "sele": "water or ion"
                  }
                },
                "6": {
                  "type": "cartoon",
                  "params": {
                    "lazy": false,
                    "visible": true,
                    "quality": "medium",
                    "aspectRatio": 5,
                    "subdiv": 6,
                    "radialSegments": 10,
                    "tension": null,
                    "capped": true,
                    "smoothSheet": false,
                    "radiusType": "sstruc",
                    "radiusData": {},
                    "radiusSize": 1,
                    "radiusScale": 0.7,
                    "assembly": "default",
                    "defaultAssembly": "",
                    "clipNear": 0,
                    "clipRadius": 0,
                    "clipCenter": {
                      "x": 0,
                      "y": 0,
                      "z": 0
                    },
                    "flatShaded": false,
                    "opacity": 1,
                    "depthWrite": true,
                    "side": "double",
                    "wireframe": false,
                    "colorScheme": "user_register",
                    "colorScale": "RdYlBu",
                    "colorReverse": false,
                    "colorValue": 9474192,
                    "colorMode": "hcl",
                    "roughness": 0.4,
                    "metalness": 0,
                    "diffuse": 16777215,
                    "diffuseInterior": false,
                    "useInteriorColor": true,
                    "interiorColor": 2236962,
                    "interiorDarkening": 0,
                    "matrix": {
                      "elements": [
                        1,
                        0,
                        0,
                        0,
                        0,
                        1,
                        0,
                        0,
                        0,
                        0,
                        1,
                        0,
                        0,
                        0,
                        0,
                        1
                      ]
                    },
                    "disablePicking": false,
                    "sele": "3-28:A"
                  }
                },
                "7": {
                  "type": "cartoon",
                  "params": {
                    "lazy": false,
                    "visible": true,
                    "quality": "medium",
                    "aspectRatio": 5,
                    "subdiv": 6,
                    "radialSegments": 10,
                    "tension": null,
                    "capped": true,
                    "smoothSheet": false,
                    "radiusType": "sstruc",
                    "radiusData": {},
                    "radiusSize": 1,
                    "radiusScale": 0.7,
                    "assembly": "default",
                    "defaultAssembly": "",
                    "clipNear": 0,
                    "clipRadius": 0,
                    "clipCenter": {
                      "x": 0,
                      "y": 0,
                      "z": 0
                    },
                    "flatShaded": false,
                    "opacity": 1,
                    "depthWrite": true,
                    "side": "double",
                    "wireframe": false,
                    "colorScheme": "user_register",
                    "colorScale": "RdYlBu",
                    "colorReverse": false,
                    "colorValue": 9474192,
                    "colorMode": "hcl",
                    "roughness": 0.4,
                    "metalness": 0,
                    "diffuse": 16777215,
                    "diffuseInterior": false,
                    "useInteriorColor": true,
                    "interiorColor": 2236962,
                    "interiorDarkening": 0,
                    "matrix": {
                      "elements": [
                        1,
                        0,
                        0,
                        0,
                        0,
                        1,
                        0,
                        0,
                        0,
                        0,
                        1,
                        0,
                        0,
                        0,
                        0,
                        1
                      ]
                    },
                    "disablePicking": false,
                    "sele": "3-28:B"
                  }
                },
                "8": {
                  "type": "cartoon",
                  "params": {
                    "lazy": false,
                    "visible": true,
                    "quality": "medium",
                    "aspectRatio": 5,
                    "subdiv": 6,
                    "radialSegments": 10,
                    "tension": null,
                    "capped": true,
                    "smoothSheet": false,
                    "radiusType": "sstruc",
                    "radiusData": {},
                    "radiusSize": 1,
                    "radiusScale": 0.7,
                    "assembly": "default",
                    "defaultAssembly": "",
                    "clipNear": 0,
                    "clipRadius": 0,
                    "clipCenter": {
                      "x": 0,
                      "y": 0,
                      "z": 0
                    },
                    "flatShaded": false,
                    "opacity": 1,
                    "depthWrite": true,
                    "side": "double",
                    "wireframe": false,
                    "colorScheme": "user_register",
                    "colorScale": "RdYlBu",
                    "colorReverse": false,
                    "colorValue": 9474192,
                    "colorMode": "hcl",
                    "roughness": 0.4,
                    "metalness": 0,
                    "diffuse": 16777215,
                    "diffuseInterior": false,
                    "useInteriorColor": true,
                    "interiorColor": 2236962,
                    "interiorDarkening": 0,
                    "matrix": {
                      "elements": [
                        1,
                        0,
                        0,
                        0,
                        0,
                        1,
                        0,
                        0,
                        0,
                        0,
                        1,
                        0,
                        0,
                        0,
                        0,
                        1
                      ]
                    },
                    "disablePicking": false,
                    "sele": "3-28:C"
                  }
                },
                "9": {
                  "type": "cartoon",
                  "params": {
                    "lazy": false,
                    "visible": true,
                    "quality": "medium",
                    "aspectRatio": 5,
                    "subdiv": 6,
                    "radialSegments": 10,
                    "tension": null,
                    "capped": true,
                    "smoothSheet": false,
                    "radiusType": "sstruc",
                    "radiusData": {},
                    "radiusSize": 1,
                    "radiusScale": 0.7,
                    "assembly": "default",
                    "defaultAssembly": "",
                    "clipNear": 0,
                    "clipRadius": 0,
                    "clipCenter": {
                      "x": 0,
                      "y": 0,
                      "z": 0
                    },
                    "flatShaded": false,
                    "opacity": 1,
                    "depthWrite": true,
                    "side": "double",
                    "wireframe": false,
                    "colorScheme": "user_register",
                    "colorScale": "RdYlBu",
                    "colorReverse": false,
                    "colorValue": 9474192,
                    "colorMode": "hcl",
                    "roughness": 0.4,
                    "metalness": 0,
                    "diffuse": 16777215,
                    "diffuseInterior": false,
                    "useInteriorColor": true,
                    "interiorColor": 2236962,
                    "interiorDarkening": 0,
                    "matrix": {
                      "elements": [
                        1,
                        0,
                        0,
                        0,
                        0,
                        1,
                        0,
                        0,
                        0,
                        0,
                        1,
                        0,
                        0,
                        0,
                        0,
                        1
                      ]
                    },
                    "disablePicking": false,
                    "sele": "3-28:D"
                  }
                },
                "10": {
                  "type": "cartoon",
                  "params": {
                    "lazy": false,
                    "visible": true,
                    "quality": "medium",
                    "aspectRatio": 5,
                    "subdiv": 6,
                    "radialSegments": 10,
                    "tension": null,
                    "capped": true,
                    "smoothSheet": false,
                    "radiusType": "sstruc",
                    "radiusData": {},
                    "radiusSize": 1,
                    "radiusScale": 0.7,
                    "assembly": "default",
                    "defaultAssembly": "",
                    "clipNear": 0,
                    "clipRadius": 0,
                    "clipCenter": {
                      "x": 0,
                      "y": 0,
                      "z": 0
                    },
                    "flatShaded": false,
                    "opacity": 1,
                    "depthWrite": true,
                    "side": "double",
                    "wireframe": false,
                    "colorScheme": "user_register",
                    "colorScale": "RdYlBu",
                    "colorReverse": false,
                    "colorValue": 9474192,
                    "colorMode": "hcl",
                    "roughness": 0.4,
                    "metalness": 0,
                    "diffuse": 16777215,
                    "diffuseInterior": false,
                    "useInteriorColor": true,
                    "interiorColor": 2236962,
                    "interiorDarkening": 0,
                    "matrix": {
                      "elements": [
                        1,
                        0,
                        0,
                        0,
                        0,
                        1,
                        0,
                        0,
                        0,
                        0,
                        1,
                        0,
                        0,
                        0,
                        0,
                        1
                      ]
                    },
                    "disablePicking": false,
                    "sele": "3-28:E"
                  }
                },
                "11": {
                  "type": "cartoon",
                  "params": {
                    "lazy": false,
                    "visible": true,
                    "quality": "medium",
                    "aspectRatio": 5,
                    "subdiv": 6,
                    "radialSegments": 10,
                    "tension": null,
                    "capped": true,
                    "smoothSheet": false,
                    "radiusType": "sstruc",
                    "radiusData": {},
                    "radiusSize": 1,
                    "radiusScale": 0.7,
                    "assembly": "default",
                    "defaultAssembly": "",
                    "clipNear": 0,
                    "clipRadius": 0,
                    "clipCenter": {
                      "x": 0,
                      "y": 0,
                      "z": 0
                    },
                    "flatShaded": false,
                    "opacity": 1,
                    "depthWrite": true,
                    "side": "double",
                    "wireframe": false,
                    "colorScheme": "user_register",
                    "colorScale": "RdYlBu",
                    "colorReverse": false,
                    "colorValue": 9474192,
                    "colorMode": "hcl",
                    "roughness": 0.4,
                    "metalness": 0,
                    "diffuse": 16777215,
                    "diffuseInterior": false,
                    "useInteriorColor": true,
                    "interiorColor": 2236962,
                    "interiorDarkening": 0,
                    "matrix": {
                      "elements": [
                        1,
                        0,
                        0,
                        0,
                        0,
                        1,
                        0,
                        0,
                        0,
                        0,
                        1,
                        0,
                        0,
                        0,
                        0,
                        1
                      ]
                    },
                    "disablePicking": false,
                    "sele": "3-29:F"
                  }
                },
                "12": {
                  "type": "cartoon",
                  "params": {
                    "lazy": false,
                    "visible": true,
                    "quality": "medium",
                    "aspectRatio": 5,
                    "subdiv": 6,
                    "radialSegments": 10,
                    "tension": null,
                    "capped": true,
                    "smoothSheet": false,
                    "radiusType": "sstruc",
                    "radiusData": {},
                    "radiusSize": 1,
                    "radiusScale": 0.7,
                    "assembly": "default",
                    "defaultAssembly": "",
                    "clipNear": 0,
                    "clipRadius": 0,
                    "clipCenter": {
                      "x": 0,
                      "y": 0,
                      "z": 0
                    },
                    "flatShaded": false,
                    "opacity": 1,
                    "depthWrite": true,
                    "side": "double",
                    "wireframe": false,
                    "colorScheme": "user_register",
                    "colorScale": "RdYlBu",
                    "colorReverse": false,
                    "colorValue": 9474192,
                    "colorMode": "hcl",
                    "roughness": 0.4,
                    "metalness": 0,
                    "diffuse": 16777215,
                    "diffuseInterior": false,
                    "useInteriorColor": true,
                    "interiorColor": 2236962,
                    "interiorDarkening": 0,
                    "matrix": {
                      "elements": [
                        1,
                        0,
                        0,
                        0,
                        0,
                        1,
                        0,
                        0,
                        0,
                        0,
                        1,
                        0,
                        0,
                        0,
                        0,
                        1
                      ]
                    },
                    "disablePicking": false,
                    "sele": "3-28:G"
                  }
                },
                "13": {
                  "type": "ball+stick",
                  "params": {
                    "lazy": false,
                    "visible": true,
                    "quality": "medium",
                    "sphereDetail": 1,
                    "radialSegments": 10,
                    "openEnded": true,
                    "disableImpostor": false,
                    "aspectRatio": 2,
                    "lineOnly": false,
                    "cylinderOnly": false,
                    "multipleBond": "off",
                    "bondScale": 0.4,
                    "bondSpacing": 1,
                    "linewidth": 2,
                    "radiusType": "size",
                    "radiusData": {},
                    "radiusSize": 0.15,
                    "radiusScale": 1,
                    "assembly": "default",
                    "defaultAssembly": "",
                    "clipNear": 0,
                    "clipRadius": 0,
                    "clipCenter": {
                      "x": 0,
                      "y": 0,
                      "z": 0
                    },
                    "flatShaded": false,
                    "opacity": 1,
                    "depthWrite": true,
                    "side": "double",
                    "wireframe": false,
                    "colorScheme": "user_register",
                    "colorScale": "",
                    "colorReverse": false,
                    "colorValue": 9474192,
                    "colorMode": "hcl",
                    "roughness": 0.4,
                    "metalness": 0,
                    "diffuse": 16777215,
                    "diffuseInterior": false,
                    "useInteriorColor": true,
                    "interiorColor": 2236962,
                    "interiorDarkening": 0,
                    "matrix": {
                      "elements": [
                        1,
                        0,
                        0,
                        0,
                        0,
                        1,
                        0,
                        0,
                        0,
                        0,
                        1,
                        0,
                        0,
                        0,
                        0,
                        1
                      ]
                    },
                    "disablePicking": false,
                    "sele": "(18:C or 24:G or 7:A or 21:E or 13:A or 17:A or 6:C or 6:D or 13:F or 25:E or 18:E or 20:G or 14:B or 14:D or 7:D or 20:B or 20:F or 17:D or 11:E or 10:D or 17:G or 17:C or 18:A or 7:B or 6:G or 21:G or 11:A or 14:E or 17:B or 21:F or 6:B or 14:F or 24:F or 14:G or 20:C or 13:G or 13:B or 18:F or 6:E or 23:E or 7:E or 21:A or 11:D or 20:D or 24:E or 13:C or 24:B or 17:E or 7:G or 24:A or 21:D or 18:B or 25:D or 18:G or 13:E or 20:E or 7:C or 7:F or 10:F or 6:A or 17:F or 10:G or 11:C or 10:C or 25:A or 11:B or 24:C or 14:C or 11:F or 21:C or 10:B or 21:B or 25:F or 18:D or 14:A or 24:D or 13:D or 10:E or 25:C or 25:G or 10:A) and sidechainAttached"
                  }
                }
              },
              "1": {}
            },
            "_ngl_serialize": false,
            "_ngl_version": "2.0.0-dev.39",
            "_ngl_view_id": [
              "32D1F479-A220-45C7-A4A7-AF773AFB7A96"
            ],
            "_player_dict": {},
            "_scene_position": {},
            "_scene_rotation": {},
            "_synced_model_ids": [],
            "_synced_repr_model_ids": [],
            "_view_count": null,
            "_view_height": "",
            "_view_module": "nglview-js-widgets",
            "_view_module_version": "3.0.8",
            "_view_name": "NGLView",
            "_view_width": "",
            "background": "white",
            "frame": 0,
            "gui_style": null,
            "layout": "IPY_MODEL_dc9573e7310147429c6e1960e41dd49b",
            "max_frame": 0,
            "n_components": 2,
            "picked": {}
          }
        },
        "d53b5c67fcb34fd58d8ba0aba15210bb": {
          "model_module": "@jupyter-widgets/base",
          "model_name": "LayoutModel",
          "model_module_version": "1.2.0",
          "state": {
            "_model_module": "@jupyter-widgets/base",
            "_model_module_version": "1.2.0",
            "_model_name": "LayoutModel",
            "_view_count": null,
            "_view_module": "@jupyter-widgets/base",
            "_view_module_version": "1.2.0",
            "_view_name": "LayoutView",
            "align_content": null,
            "align_items": null,
            "align_self": null,
            "border": null,
            "bottom": null,
            "display": null,
            "flex": null,
            "flex_flow": null,
            "grid_area": null,
            "grid_auto_columns": null,
            "grid_auto_flow": null,
            "grid_auto_rows": null,
            "grid_column": null,
            "grid_gap": null,
            "grid_row": null,
            "grid_template_areas": null,
            "grid_template_columns": null,
            "grid_template_rows": null,
            "height": null,
            "justify_content": null,
            "justify_items": null,
            "left": null,
            "margin": null,
            "max_height": null,
            "max_width": null,
            "min_height": null,
            "min_width": null,
            "object_fit": null,
            "object_position": null,
            "order": null,
            "overflow": null,
            "overflow_x": null,
            "overflow_y": null,
            "padding": null,
            "right": null,
            "top": null,
            "visibility": null,
            "width": null
          }
        },
        "7818a88eb5df47de85b6613233b2ecc6": {
          "model_module": "@jupyter-widgets/controls",
          "model_name": "DescriptionStyleModel",
          "model_module_version": "1.5.0",
          "state": {
            "_model_module": "@jupyter-widgets/controls",
            "_model_module_version": "1.5.0",
            "_model_name": "DescriptionStyleModel",
            "_view_count": null,
            "_view_module": "@jupyter-widgets/base",
            "_view_module_version": "1.2.0",
            "_view_name": "StyleView",
            "description_width": ""
          }
        },
        "25fd6f1a62b447b5a20d54aa32e57f70": {
          "model_module": "@jupyter-widgets/base",
          "model_name": "LayoutModel",
          "model_module_version": "1.2.0",
          "state": {
            "_model_module": "@jupyter-widgets/base",
            "_model_module_version": "1.2.0",
            "_model_name": "LayoutModel",
            "_view_count": null,
            "_view_module": "@jupyter-widgets/base",
            "_view_module_version": "1.2.0",
            "_view_name": "LayoutView",
            "align_content": null,
            "align_items": null,
            "align_self": null,
            "border": null,
            "bottom": null,
            "display": null,
            "flex": null,
            "flex_flow": null,
            "grid_area": null,
            "grid_auto_columns": null,
            "grid_auto_flow": null,
            "grid_auto_rows": null,
            "grid_column": null,
            "grid_gap": null,
            "grid_row": null,
            "grid_template_areas": null,
            "grid_template_columns": null,
            "grid_template_rows": null,
            "height": null,
            "justify_content": null,
            "justify_items": null,
            "left": null,
            "margin": null,
            "max_height": null,
            "max_width": null,
            "min_height": null,
            "min_width": null,
            "object_fit": null,
            "object_position": null,
            "order": null,
            "overflow": null,
            "overflow_x": null,
            "overflow_y": null,
            "padding": null,
            "right": null,
            "top": null,
            "visibility": null,
            "width": null
          }
        },
        "5fa2d09f2e2448938f94e5bbb0f59123": {
          "model_module": "@jupyter-widgets/controls",
          "model_name": "SliderStyleModel",
          "model_module_version": "1.5.0",
          "state": {
            "_model_module": "@jupyter-widgets/controls",
            "_model_module_version": "1.5.0",
            "_model_name": "SliderStyleModel",
            "_view_count": null,
            "_view_module": "@jupyter-widgets/base",
            "_view_module_version": "1.2.0",
            "_view_name": "StyleView",
            "description_width": "",
            "handle_color": null
          }
        },
        "dc9573e7310147429c6e1960e41dd49b": {
          "model_module": "@jupyter-widgets/base",
          "model_name": "LayoutModel",
          "model_module_version": "1.2.0",
          "state": {
            "_model_module": "@jupyter-widgets/base",
            "_model_module_version": "1.2.0",
            "_model_name": "LayoutModel",
            "_view_count": null,
            "_view_module": "@jupyter-widgets/base",
            "_view_module_version": "1.2.0",
            "_view_name": "LayoutView",
            "align_content": null,
            "align_items": null,
            "align_self": null,
            "border": null,
            "bottom": null,
            "display": null,
            "flex": null,
            "flex_flow": null,
            "grid_area": null,
            "grid_auto_columns": null,
            "grid_auto_flow": null,
            "grid_auto_rows": null,
            "grid_column": null,
            "grid_gap": null,
            "grid_row": null,
            "grid_template_areas": null,
            "grid_template_columns": null,
            "grid_template_rows": null,
            "height": null,
            "justify_content": null,
            "justify_items": null,
            "left": null,
            "margin": null,
            "max_height": null,
            "max_width": null,
            "min_height": null,
            "min_width": null,
            "object_fit": null,
            "object_position": null,
            "order": null,
            "overflow": null,
            "overflow_x": null,
            "overflow_y": null,
            "padding": null,
            "right": null,
            "top": null,
            "visibility": null,
            "width": null
          }
        },
        "39e170df28414ca0b271d8ead25c936e": {
          "model_module": "@jupyter-widgets/controls",
          "model_name": "ButtonModel",
          "model_module_version": "1.5.0",
          "state": {
            "_dom_classes": [],
            "_model_module": "@jupyter-widgets/controls",
            "_model_module_version": "1.5.0",
            "_model_name": "ButtonModel",
            "_view_count": null,
            "_view_module": "@jupyter-widgets/controls",
            "_view_module_version": "1.5.0",
            "_view_name": "ButtonView",
            "button_style": "",
            "description": "",
            "disabled": false,
            "icon": "compress",
            "layout": "IPY_MODEL_e3953355c9b44c08a3d7d3084af64f59",
            "style": "IPY_MODEL_4c4d199b051a44bcb1c6d99c8b886c3b",
            "tooltip": ""
          }
        },
        "26757c4d0131405895a718211bb6c452": {
          "model_module": "@jupyter-widgets/controls",
          "model_name": "HBoxModel",
          "model_module_version": "1.5.0",
          "state": {
            "_dom_classes": [],
            "_model_module": "@jupyter-widgets/controls",
            "_model_module_version": "1.5.0",
            "_model_name": "HBoxModel",
            "_view_count": null,
            "_view_module": "@jupyter-widgets/controls",
            "_view_module_version": "1.5.0",
            "_view_name": "HBoxView",
            "box_style": "",
            "children": [
              "IPY_MODEL_0b8fdb3017d045b4a5ca24297d3a223e",
              "IPY_MODEL_ffb94bd6d77748a982449f3384e29622"
            ],
            "layout": "IPY_MODEL_abc6a6917b734ccaa7fd7d34330a064c"
          }
        },
        "e3953355c9b44c08a3d7d3084af64f59": {
          "model_module": "@jupyter-widgets/base",
          "model_name": "LayoutModel",
          "model_module_version": "1.2.0",
          "state": {
            "_model_module": "@jupyter-widgets/base",
            "_model_module_version": "1.2.0",
            "_model_name": "LayoutModel",
            "_view_count": null,
            "_view_module": "@jupyter-widgets/base",
            "_view_module_version": "1.2.0",
            "_view_name": "LayoutView",
            "align_content": null,
            "align_items": null,
            "align_self": null,
            "border": null,
            "bottom": null,
            "display": null,
            "flex": null,
            "flex_flow": null,
            "grid_area": null,
            "grid_auto_columns": null,
            "grid_auto_flow": null,
            "grid_auto_rows": null,
            "grid_column": null,
            "grid_gap": null,
            "grid_row": null,
            "grid_template_areas": null,
            "grid_template_columns": null,
            "grid_template_rows": null,
            "height": null,
            "justify_content": null,
            "justify_items": null,
            "left": null,
            "margin": null,
            "max_height": null,
            "max_width": null,
            "min_height": null,
            "min_width": null,
            "object_fit": null,
            "object_position": null,
            "order": null,
            "overflow": null,
            "overflow_x": null,
            "overflow_y": null,
            "padding": null,
            "right": null,
            "top": null,
            "visibility": null,
            "width": "34px"
          }
        },
        "4c4d199b051a44bcb1c6d99c8b886c3b": {
          "model_module": "@jupyter-widgets/controls",
          "model_name": "ButtonStyleModel",
          "model_module_version": "1.5.0",
          "state": {
            "_model_module": "@jupyter-widgets/controls",
            "_model_module_version": "1.5.0",
            "_model_name": "ButtonStyleModel",
            "_view_count": null,
            "_view_module": "@jupyter-widgets/base",
            "_view_module_version": "1.2.0",
            "_view_name": "StyleView",
            "button_color": null,
            "font_weight": ""
          }
        },
        "abc6a6917b734ccaa7fd7d34330a064c": {
          "model_module": "@jupyter-widgets/base",
          "model_name": "LayoutModel",
          "model_module_version": "1.2.0",
          "state": {
            "_model_module": "@jupyter-widgets/base",
            "_model_module_version": "1.2.0",
            "_model_name": "LayoutModel",
            "_view_count": null,
            "_view_module": "@jupyter-widgets/base",
            "_view_module_version": "1.2.0",
            "_view_name": "LayoutView",
            "align_content": null,
            "align_items": null,
            "align_self": null,
            "border": null,
            "bottom": null,
            "display": null,
            "flex": null,
            "flex_flow": null,
            "grid_area": null,
            "grid_auto_columns": null,
            "grid_auto_flow": null,
            "grid_auto_rows": null,
            "grid_column": null,
            "grid_gap": null,
            "grid_row": null,
            "grid_template_areas": null,
            "grid_template_columns": null,
            "grid_template_rows": null,
            "height": null,
            "justify_content": null,
            "justify_items": null,
            "left": null,
            "margin": null,
            "max_height": null,
            "max_width": null,
            "min_height": null,
            "min_width": null,
            "object_fit": null,
            "object_position": null,
            "order": null,
            "overflow": null,
            "overflow_x": null,
            "overflow_y": null,
            "padding": null,
            "right": null,
            "top": null,
            "visibility": null,
            "width": null
          }
        }
      }
    }
  },
  "nbformat": 4,
  "nbformat_minor": 0
}